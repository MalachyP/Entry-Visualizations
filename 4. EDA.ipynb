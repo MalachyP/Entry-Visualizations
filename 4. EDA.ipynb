{
 "cells": [
  {
   "cell_type": "markdown",
   "id": "51d9a275-b6ce-4cea-8b1e-929b99e9c554",
   "metadata": {},
   "source": [
    "#### Libraries"
   ]
  },
  {
   "cell_type": "code",
   "execution_count": 124,
   "id": "11dc619d-62c4-4e7d-9a9f-49fcc7c761c7",
   "metadata": {},
   "outputs": [],
   "source": [
    "import pandas as pd\n",
    "import numpy as np"
   ]
  },
  {
   "cell_type": "code",
   "execution_count": 125,
   "id": "b9970034",
   "metadata": {},
   "outputs": [],
   "source": [
    "RELATIVE_PATH_IN = \"3. curated/\"\n",
    "RELATIVE_PATH_OUT = \"4. out/\""
   ]
  },
  {
   "cell_type": "markdown",
   "id": "f340b1a0-bc26-4293-a8c1-16e8970ef848",
   "metadata": {
    "jp-MarkdownHeadingCollapsed": true
   },
   "source": [
    "## Pager"
   ]
  },
  {
   "cell_type": "code",
   "execution_count": 734,
   "id": "8962f4e7-103a-4c44-8992-17505881263e",
   "metadata": {},
   "outputs": [],
   "source": [
    "import pandas as pd\n",
    "pager_raw_df = pd.read_csv(\"1. landing/2. csv/offers 2022 pager.csv\")"
   ]
  },
  {
   "cell_type": "code",
   "execution_count": 735,
   "id": "2fdc5fd5-84bc-4d32-a25f-f20bfd679608",
   "metadata": {},
   "outputs": [
    {
     "data": {
      "text/plain": [
       "(432, 21)"
      ]
     },
     "execution_count": 735,
     "metadata": {},
     "output_type": "execute_result"
    }
   ],
   "source": [
    "new_column_names = [\"_1\", \"_2\", \"uni offer\", \"prior qualification\", \"preference number\", \"first preference\", \"uni interview\", \n",
    "                    \"offer type\", \"gpa\", \"_3\", \"s1\", \"s2\", \"s3\", \"gamsat uni offer\", \"mcat\", \"score type\",\n",
    "                    \"undergrad degree\", \"residency\", \"postgrad\", \"rural\", \"deakin bonus\", \"flinders applicant\", \"flinders program applicant\",\n",
    "                    \"melbourne bonus\", \"_4\"]\n",
    "\n",
    "pager_raw_df.columns = new_column_names\n",
    "pager_raw_df = pager_raw_df[[col for col in new_column_names if not \"_\" in col]]\n",
    "pager_raw_df.shape"
   ]
  },
  {
   "cell_type": "code",
   "execution_count": 736,
   "id": "45a16c90-a624-4b20-8b39-76831274c4cf",
   "metadata": {},
   "outputs": [
    {
     "name": "stdout",
     "output_type": "stream",
     "text": [
      "removed 177 records out of 432 records\n"
     ]
    }
   ],
   "source": [
    "situation_mask = ((pager_raw_df[\"offer type\"] != \"FFP\") &\n",
    "                  (pager_raw_df[\"score type\"] == \"GAMSAT\") &\n",
    "                  (pager_raw_df[\"residency\"] == \"Local\") &\n",
    "                  (pager_raw_df[\"rural\"] == \"No\") &\n",
    "                  (pager_raw_df[\"deakin bonus\"] == 0) &\n",
    "                  (pager_raw_df[\"melbourne bonus\"] == \"No\"))\n",
    "\n",
    "pager_df = pager_raw_df[situation_mask]\n",
    "pager_df = pager_df.drop(columns = [\"score type\", \"residency\", \"rural\", \"deakin bonus\", \"melbourne bonus\"])\n",
    "\n",
    "print(f\"removed {situation_mask.sum()} records out of {pager_raw_df.shape[0]} records\")"
   ]
  },
  {
   "cell_type": "code",
   "execution_count": 737,
   "id": "50c37d34-fd8a-4873-8d59-7c24260d731f",
   "metadata": {},
   "outputs": [
    {
     "name": "stderr",
     "output_type": "stream",
     "text": [
      "C:\\Users\\mtp63\\AppData\\Local\\Temp\\ipykernel_20032\\2419873210.py:5: SettingWithCopyWarning:\n",
      "\n",
      "\n",
      "A value is trying to be set on a copy of a slice from a DataFrame.\n",
      "Try using .loc[row_indexer,col_indexer] = value instead\n",
      "\n",
      "See the caveats in the documentation: https://pandas.pydata.org/pandas-docs/stable/user_guide/indexing.html#returning-a-view-versus-a-copy\n",
      "\n",
      "C:\\Users\\mtp63\\AppData\\Local\\Temp\\ipykernel_20032\\2419873210.py:6: SettingWithCopyWarning:\n",
      "\n",
      "\n",
      "A value is trying to be set on a copy of a slice from a DataFrame.\n",
      "Try using .loc[row_indexer,col_indexer] = value instead\n",
      "\n",
      "See the caveats in the documentation: https://pandas.pydata.org/pandas-docs/stable/user_guide/indexing.html#returning-a-view-versus-a-copy\n",
      "\n"
     ]
    }
   ],
   "source": [
    "mask = (pager_df[\"uni interview\"] == \"University of Melbourne\") #| \\\n",
    "       #(pager_df[\"first preference\"] == \"University of Melbourne\")\n",
    "\n",
    "df = pager_df[mask]\n",
    "df.loc[:, \"offer\"] = pager_df[\"uni offer\"] == \"University of Melbourne\"\n",
    "df.loc[:, \"gamsat\"] = df.apply(lambda x: (x[\"s1\"] + x[\"s2\"] + x[\"s3\"]) / 3, axis=1)"
   ]
  },
  {
   "cell_type": "code",
   "execution_count": 738,
   "id": "da58f2ab-cf07-4381-957c-fdcf6a312b1c",
   "metadata": {},
   "outputs": [
    {
     "data": {
      "text/plain": [
       "uni interview\n",
       "University of Melbourne    26\n",
       "Name: count, dtype: int64"
      ]
     },
     "execution_count": 738,
     "metadata": {},
     "output_type": "execute_result"
    }
   ],
   "source": [
    "df[\"uni interview\"].value_counts()"
   ]
  },
  {
   "cell_type": "code",
   "execution_count": 739,
   "id": "8e8fcd53-f821-4202-9404-c698c6831073",
   "metadata": {},
   "outputs": [],
   "source": [
    "df = df[df[\"uni interview\"] != \"University of Queensland\"]"
   ]
  },
  {
   "cell_type": "code",
   "execution_count": 740,
   "id": "16d69b6b-f1ff-4254-8d07-1a27db1cd523",
   "metadata": {},
   "outputs": [
    {
     "data": {
      "image/png": "[encoded data removed]",
      "text/plain": [
       "<Figure size 640x480 with 1 Axes>"
      ]
     },
     "metadata": {},
     "output_type": "display_data"
    }
   ],
   "source": [
    "plot_gamsat_gpa(df, hue=\"offer\", exp=False, combo=False)"
   ]
  },
  {
   "cell_type": "markdown",
   "id": "eee1fcec",
   "metadata": {},
   "source": [
    "# GEMSAS"
   ]
  },
  {
   "cell_type": "code",
   "execution_count": 126,
   "id": "959ab470",
   "metadata": {},
   "outputs": [],
   "source": [
    "MELB_NAME = 'The University of Melbourne'\n",
    "UQ_METRO_NAME = 'The University of Queensland (Metro)'\n",
    "UQ_RMP_NAME = 'The University of Queensland (RMP)'\n",
    "DEAKIN_NAME = 'Deakin University'\n",
    "GRIFFITH_NAME = 'Griffith University'"
   ]
  },
  {
   "cell_type": "markdown",
   "id": "0901f474",
   "metadata": {},
   "source": [
    "## Functions"
   ]
  },
  {
   "cell_type": "markdown",
   "id": "e091effe",
   "metadata": {},
   "source": [
    "### Filtering"
   ]
  },
  {
   "cell_type": "code",
   "execution_count": 127,
   "id": "2b985570",
   "metadata": {},
   "outputs": [],
   "source": [
    "def uni_mask(series, uni_name):\n",
    "    return series.apply(lambda x: uni_name in x if isinstance(x, str) else False)"
   ]
  },
  {
   "cell_type": "code",
   "execution_count": 128,
   "id": "1dee6248",
   "metadata": {},
   "outputs": [],
   "source": [
    "def filter_frame(df, uni=None, year=\"all\", gamsat_range=None, gpa_range=None, \n",
    "                 success=None, marker=None,\n",
    "                 anu=\"in\"):\n",
    "    # general use\n",
    "    if (uni):\n",
    "        df = df[uni_mask(df[\"interview uni\"], uni) | uni_mask(df[\"offer uni\"], uni)]\n",
    "    if (year != \"all\"):\n",
    "        df = df[df[\"year\"] == year]\n",
    "    if (gamsat_range):\n",
    "        df = df[(gamsat_range[0] <= df[\"gamsat\"]) & (df[\"gamsat\"] <= gamsat_range[1])]\n",
    "    if (gpa_range):\n",
    "        df = df[(gpa_range[0] <= df[\"gpa\"]) & (df[\"gpa\"] <= gpa_range[1])]\n",
    "\n",
    "    # for plotting\n",
    "    if (success):\n",
    "        df = df[df[\"success\"] == success]\n",
    "    if (marker):\n",
    "        df = df[df[\"marker\"] == marker]\n",
    "\n",
    "    # special values\n",
    "    if (anu != \"in\"):\n",
    "        df = df[df[\"anu bonus\"] == 0]\n",
    "    \n",
    "    return df"
   ]
  },
  {
   "cell_type": "code",
   "execution_count": 129,
   "id": "53b0cd79",
   "metadata": {},
   "outputs": [],
   "source": [
    "def filter_ranges(df):\n",
    "    filter = ((0 <= df[\"gpa\"]) &\n",
    "              (df[\"gpa\"] <= 7) &\n",
    "              (0 <= df[\"gamsat\"]) &\n",
    "              (df[\"gamsat\"] <= 100))\n",
    "\n",
    "    return df[filter]"
   ]
  },
  {
   "cell_type": "code",
   "execution_count": 130,
   "id": "5210f64b",
   "metadata": {},
   "outputs": [],
   "source": [
    "def filter_gam_values(x):\n",
    "    if (not pd.notna(x)):\n",
    "        return False\n",
    "    if (\"gamsat\" in x):\n",
    "        return False\n",
    "    if (not \"gam\" in x):\n",
    "        return False\n",
    "    else:\n",
    "        return True"
   ]
  },
  {
   "cell_type": "code",
   "execution_count": 131,
   "id": "e7ef50af",
   "metadata": {},
   "outputs": [],
   "source": [
    "def filter_gam(notes_series):\n",
    "    return notes_series.apply(filter_gam_values)"
   ]
  },
  {
   "cell_type": "markdown",
   "id": "9ec0f8ba",
   "metadata": {},
   "source": [
    "### Plotting"
   ]
  },
  {
   "cell_type": "code",
   "execution_count": 132,
   "id": "dea02a68",
   "metadata": {},
   "outputs": [],
   "source": [
    "import seaborn as sns\n",
    "import numpy as np\n",
    "import matplotlib.pyplot as plt\n",
    "%matplotlib inline\n",
    "\n",
    "# for intial legend\n",
    "SUCCESS_PALETTE = {'accepted': 'darkorange', 'rejected': 'steelblue'}\n",
    "SUCCESS_ORDER = ['accepted', 'rejected']\n",
    "TYPE_MARKERS = {'CSP and BMP': 'o', 'CSP': 'X', 'BMP': 's', 'FFP': '*'}\n",
    "TYPE_ORDER = ['CSP and BMP', 'CSP', 'BMP', 'FFP']\n",
    "\n",
    "def plot_gamsat_gpa_basic(df, gamsat_col, gpa_col, hue, style):\n",
    "    # plot\n",
    "    ax = sns.scatterplot(\n",
    "        data=df, x=gamsat_col, y=gpa_col, alpha=0.7,\n",
    "        hue=hue, palette=SUCCESS_PALETTE, hue_order=SUCCESS_ORDER ,\n",
    "        style=style, markers=TYPE_MARKERS, style_order=TYPE_ORDER\n",
    "    )\n",
    "\n",
    "    # get the counts of entrance and failures\n",
    "    handles, labels = ax.get_legend_handles_labels()\n",
    "    new_handles = []\n",
    "    new_labels = []\n",
    "    \n",
    "    # get the success stuff\n",
    "    for curr_handle, curr_label in zip(handles, labels):\n",
    "        if (curr_label in SUCCESS_ORDER):\n",
    "            curr_count = filter_frame(df, success=curr_label).shape[0]\n",
    "        elif (curr_label in TYPE_ORDER):\n",
    "            curr_count = filter_frame(df, marker=curr_label).shape[0]\n",
    "        else:\n",
    "            continue        # this is the situation where this is category label\n",
    "        \n",
    "        # update the label and save\n",
    "        curr_label = f\"{curr_label} ({curr_count})\"\n",
    "        new_handles.append(curr_handle)\n",
    "        new_labels.append(curr_label)\n",
    "    \n",
    "    # get the legend\n",
    "    ax.legend(handles=new_handles, labels=new_labels, bbox_to_anchor=(1.31, 1), loc='upper right', \n",
    "                borderaxespad=0, title=\"results / offer\")\n",
    "    \n",
    "    return ax"
   ]
  },
  {
   "cell_type": "code",
   "execution_count": 133,
   "id": "578e7084",
   "metadata": {},
   "outputs": [],
   "source": [
    "def plot_gamsat_gpa(df, gamsat_col=\"gamsat\", gpa_col=\"gpa\", hue=None, style=None,\n",
    "                    path=None, return_csv=False, title=None,\n",
    "                    year=\"all\", success_type=None, exp=None, combo=None):\n",
    "    \n",
    "    # combo scores and such\n",
    "    if (exp):\n",
    "        df = df.copy()\n",
    "        df[gpa_col] = df[gpa_col].apply(lambda x: np.exp(x))\n",
    "    elif (combo):\n",
    "        df = df.copy()\n",
    "        df[gpa_col] = df[gpa_col].apply(lambda x: x / 7)\n",
    "        df[gamsat_col] = df[gamsat_col].apply(lambda x: x / 100)\n",
    "    \n",
    "    # filtering\n",
    "    if (year != \"all\"):\n",
    "        df = df.copy()\n",
    "        df = df[df[\"year\"] == year]\n",
    "    if (success_type):\n",
    "        df = df[df[\"success\"] == success_type]\n",
    "\n",
    "    # check non empty\n",
    "    if (df.empty):\n",
    "        return None\n",
    "\n",
    "    plt.figure(figsize=(9, 6))\n",
    "    if (hue == \"success\" and style == \"marker\"):\n",
    "        ax = plot_gamsat_gpa_basic(df, gamsat_col, gpa_col, hue, style)\n",
    "    elif (hue == \"success\"):\n",
    "        ax = sns.scatterplot(data=df, x=gamsat_col, y=gpa_col, alpha=0.7, style=style,\n",
    "                             hue=hue, palette=SUCCESS_PALETTE, hue_order=SUCCESS_ORDER)\n",
    "        ax.legend(bbox_to_anchor=(1.31, 1), loc='upper right', borderaxespad=0)\n",
    "    else:\n",
    "        ax = sns.scatterplot(data=df, x=gamsat_col, y=gpa_col, alpha=0.7, hue=hue, style=style)\n",
    "        ax.legend(bbox_to_anchor=(1.31, 1), loc='upper right', borderaxespad=0)\n",
    "\n",
    "    # Adjust layout to make room on the right without stretching the x-axis\n",
    "    plt.subplots_adjust(right=0.75)  # Increase space on the right side\n",
    "\n",
    "    if (combo):\n",
    "        ax.set_xlim(0.55, 0.85)\n",
    "        ax.set_ylim(0.75, 1.05)\n",
    "    else:\n",
    "        ax.set_xlim(55, 85)\n",
    "        ax.set_ylim(5.25, 7.35)\n",
    "\n",
    "    if (title):\n",
    "        plt.title(title)\n",
    "\n",
    "    if (not path):\n",
    "        plt.show()\n",
    "    else:\n",
    "        plt.savefig(path)\n",
    "    plt.close()\n",
    "\n",
    "    if (return_csv):\n",
    "        df = df.sort_values(by=\"combo score\")\n",
    "        return df\n",
    "    else:\n",
    "        return None\n"
   ]
  },
  {
   "cell_type": "markdown",
   "id": "db546e08",
   "metadata": {},
   "source": [
    "## GEMSAS Offers"
   ]
  },
  {
   "cell_type": "code",
   "execution_count": 134,
   "id": "1a299ef9",
   "metadata": {},
   "outputs": [],
   "source": [
    "offers = pd.read_csv(RELATIVE_PATH_IN + \"offers.csv\", index_col=0)"
   ]
  },
  {
   "cell_type": "markdown",
   "id": "d82e364c",
   "metadata": {},
   "source": [
    "### Functions"
   ]
  },
  {
   "cell_type": "markdown",
   "id": "1ae91b27",
   "metadata": {},
   "source": [
    "##### Transform uni frame"
   ]
  },
  {
   "cell_type": "code",
   "execution_count": 135,
   "id": "92f1bb65",
   "metadata": {},
   "outputs": [],
   "source": [
    "def get_row_offer(series, uni):\n",
    "    # get the uni index (only appears once)\n",
    "    uni_value = series[uni_mask(series, uni)].values[0]\n",
    "    uni_index = list(series.values).index(uni_value)\n",
    "\n",
    "    # check if got offer\n",
    "    if (\"offer\" in series.index[uni_index]):\n",
    "        return \"accepted\"\n",
    "    else:\n",
    "        return \"rejected\""
   ]
  },
  {
   "cell_type": "code",
   "execution_count": 136,
   "id": "0b2dd4de",
   "metadata": {},
   "outputs": [],
   "source": [
    "def get_row_uni_info_offer(series, uni):\n",
    "    # get the uni index (only appears once)\n",
    "    uni_value = series[uni_mask(series, uni)].values[0]\n",
    "    uni_index = list(series.values).index(uni_value)\n",
    "\n",
    "    # get the next value\n",
    "    uni_info = list(series.values)[uni_index+1: uni_index+5]\n",
    "\n",
    "    # remove the place type\n",
    "    uni_info.pop(2)\n",
    "\n",
    "    if (len(uni_info) != 3):\n",
    "        raise ValueError(f\"uni_info is of size {len(uni_info)} but should be of size 3\")\n",
    "    \n",
    "    return uni_info"
   ]
  },
  {
   "cell_type": "code",
   "execution_count": 137,
   "id": "7ee8c91a",
   "metadata": {},
   "outputs": [],
   "source": [
    "def get_uni_gpa_offer(df, uni, columns=\"subset\"):\n",
    "    # filter for the uni\n",
    "    df_filt = df[uni_mask(df[\"offer uni\"], uni) | uni_mask(df[\"interview uni\"], uni)]\n",
    "\n",
    "    # get each uni gpa\n",
    "    df_filt[[\"gpa\", \"gamsat\", \"preference\"]] = df_filt.apply(lambda x: get_row_uni_info_offer(x, uni), axis=1).apply(pd.Series)\n",
    "\n",
    "    # get the combo score\n",
    "    df_filt[\"combo score\"] = df_filt[\"gpa\"] / 7 + df_filt[\"gamsat\"] / 100\n",
    "\n",
    "    # get the interview offers\n",
    "    df_filt.loc[:, \"success\"] = df_filt.apply(lambda x: get_row_offer(x, uni), axis=1)\n",
    "    \n",
    "    # get the column of \n",
    "    if (columns == \"subset\"):\n",
    "        df_filt = df_filt[[\"offer uni\", \"interview uni\", \"gpa\", \"gamsat\", \"preference\", \"combo score\", \"offer uni place type\", \n",
    "                           \"places selected\", \"marker\", \"success\", \n",
    "                           \"interview opinion discrete\", \"interview prep hours discrete\",\n",
    "                           \"anu bonus\", \"notes\", \"year\"]]\n",
    "    # otherwise use all columns\n",
    "\n",
    "    # return the df\n",
    "    return df_filt"
   ]
  },
  {
   "cell_type": "markdown",
   "id": "67aa0539",
   "metadata": {},
   "source": [
    "##### Plotting"
   ]
  },
  {
   "cell_type": "code",
   "execution_count": 138,
   "id": "ab9afac4",
   "metadata": {},
   "outputs": [],
   "source": [
    "from sklearn.preprocessing import LabelEncoder\n",
    "import plotly.express as px\n",
    "\n",
    "def plot_gamsat_gpa_3d(df, third_column, gamsat_col=\"gamsat\", gpa_col=\"gpa\", hue=\"success\", discrete_hue=True, year=False):\n",
    "    if (year):\n",
    "        df = filter_frame(df, year=year)\n",
    "    \n",
    "    # filter the frame of na columns\n",
    "    df = df[df[third_column].notna()]\n",
    "\n",
    "    # get the hue discrete\n",
    "    if discrete_hue:\n",
    "        le = LabelEncoder()\n",
    "        df[hue] = le.fit_transform(df[hue].values)\n",
    "\n",
    "    # Create a 3D scatter plot with Plotly\n",
    "    fig = px.scatter_3d(df, x=gamsat_col, y=gpa_col, z=third_column, color=hue, opacity=0.8)\n",
    "\n",
    "    fig.update_layout(scene=dict(\n",
    "                        xaxis=dict(title='gamsat', range=[65, 85], autorange='reversed'),\n",
    "                        yaxis=dict(title='gpa', range=[5.8, 7.2]),\n",
    "                        zaxis=dict(title='interview opinion')\n",
    "                        ))\n",
    "\n",
    "    # Show interactive plot\n",
    "    fig.show()"
   ]
  },
  {
   "cell_type": "markdown",
   "id": "491932ba",
   "metadata": {},
   "source": [
    "### Filter the situation"
   ]
  },
  {
   "cell_type": "code",
   "execution_count": 139,
   "id": "3a54e507",
   "metadata": {},
   "outputs": [
    {
     "data": {
      "text/plain": [
       "477"
      ]
     },
     "execution_count": 139,
     "metadata": {},
     "output_type": "execute_result"
    }
   ],
   "source": [
    "situation_mask = ((offers[\"rurality\"] == \"Non-Rural\") &\n",
    "                  (offers[\"deakin bonus\"] == 0) &\n",
    "                  (~filter_gam(offers[\"notes\"])) &\n",
    "                  (offers[\"offer uni place type\"] != \"FFP\") &\n",
    "                  ((offers[\"uq rmp tier\"].isna()) |\n",
    "                   (offers[\"uq rmp tier\"] == \"Tier 3\")))\n",
    "\n",
    "\n",
    "offers_filt = offers[situation_mask]\n",
    "offers_filt.shape[0]"
   ]
  },
  {
   "cell_type": "code",
   "execution_count": 140,
   "id": "acdf36fa",
   "metadata": {},
   "outputs": [],
   "source": [
    "offers.to_csv(RELATIVE_PATH_OUT + \"offers.csv\")\n",
    "offers.to_csv(RELATIVE_PATH_OUT + \"offers filtered.csv\")"
   ]
  },
  {
   "cell_type": "markdown",
   "id": "011a0d1e",
   "metadata": {},
   "source": [
    "### Non plotting EDA"
   ]
  },
  {
   "cell_type": "markdown",
   "id": "5968d0be",
   "metadata": {},
   "source": [
    "#### Measuring Inbalance"
   ]
  },
  {
   "cell_type": "code",
   "execution_count": 65,
   "id": "d11fb3ca",
   "metadata": {},
   "outputs": [],
   "source": [
    "\"\"\"\"\"\n",
    "(FOR 2023)\n",
    "1. offers to interview ratio (multiply application numbers)\n",
    "2. interview to offers ratio (once you get an interview according to this)\n",
    "3. overall acceptance rate, putting the preference down\n",
    "4. percentage of people from the uni\n",
    "\"\"\"\n",
    "def get_ratio(df, uni_name, uni_name_short):\n",
    "    # year 2023, and either accepted or rejected from melbourne uni\n",
    "    uni_offer_raw = df[(uni_mask(df[\"interview uni\"], uni_name) | uni_mask(df[\"offer uni\"], uni_name)) & (df[\"year\"] == 2023)]\n",
    "\n",
    "    # interviewing somewhere else THEN getting into melbourne\n",
    "    offer_uni_interview_away = uni_offer_raw[(~uni_mask(uni_offer_raw[\"interview uni\"], uni_name)) & (uni_offer_raw[\"interview uni\"].notna())].shape[0]\n",
    "\n",
    "    # rejected from melbourne uni\n",
    "    offer_none_or_away_interview_uni = uni_offer_raw[uni_mask(uni_offer_raw[\"interview uni\"], uni_name)].shape[0]\n",
    "\n",
    "    # number of rejections in missing other rejections\n",
    "    offer_none_or_away_interview_away = uni_mask(df[\"other rejections\"], uni_name_short).sum()\n",
    "    #print(offer_none_or_away_interview_away)\n",
    "\n",
    "    # number of accepted offers\n",
    "    offer_uni = uni_offer_raw[uni_mask(uni_offer_raw[\"offer uni\"], uni_name)].shape[0]\n",
    "\n",
    "    # interviewing unimelb, getting in unimelb\n",
    "    offer_uni_interview_uni = offer_uni - offer_uni_interview_away\n",
    "\n",
    "    # return the offers / interviews AND failure rate\n",
    "    triple = [1 / (offer_uni/(offer_uni_interview_uni + offer_none_or_away_interview_uni)),\n",
    "              offer_uni_interview_uni/(offer_uni_interview_uni + offer_none_or_away_interview_uni),\n",
    "              offer_uni/(uni_offer_raw.shape[0] + offer_none_or_away_interview_away),\n",
    "              offer_uni_interview_uni/offer_uni]\n",
    "    \n",
    "    # roun and return\n",
    "    triple = [round(x, 3) for x in triple]\n",
    "    return triple"
   ]
  },
  {
   "cell_type": "code",
   "execution_count": 66,
   "id": "126d0942",
   "metadata": {},
   "outputs": [
    {
     "data": {
      "text/plain": [
       "[1.29, 0.742, 0.52, 0.957]"
      ]
     },
     "execution_count": 66,
     "metadata": {},
     "output_type": "execute_result"
    }
   ],
   "source": [
    "get_ratio(offers, MELB_NAME, \"UniMelb\")\n"
   ]
  },
  {
   "cell_type": "code",
   "execution_count": 67,
   "id": "3ce424e7",
   "metadata": {},
   "outputs": [
    {
     "data": {
      "text/plain": [
       "[1.643, 0.609, 0.179, 1.0]"
      ]
     },
     "execution_count": 67,
     "metadata": {},
     "output_type": "execute_result"
    }
   ],
   "source": [
    "get_ratio(offers, UQ_METRO_NAME, \"UQ\")"
   ]
  },
  {
   "cell_type": "code",
   "execution_count": 68,
   "id": "08f0e6ef",
   "metadata": {},
   "outputs": [
    {
     "data": {
      "text/plain": [
       "[1.262, 0.736, 0.378, 0.929]"
      ]
     },
     "execution_count": 68,
     "metadata": {},
     "output_type": "execute_result"
    }
   ],
   "source": [
    "get_ratio(offers, UQ_RMP_NAME, \"UQ\")"
   ]
  },
  {
   "cell_type": "code",
   "execution_count": 69,
   "id": "d78316bb",
   "metadata": {},
   "outputs": [
    {
     "data": {
      "text/plain": [
       "[1.0, 0.712, 0.416, 0.712]"
      ]
     },
     "execution_count": 69,
     "metadata": {},
     "output_type": "execute_result"
    }
   ],
   "source": [
    "get_ratio(offers, DEAKIN_NAME, \"Deakin\")"
   ]
  },
  {
   "cell_type": "code",
   "execution_count": 70,
   "id": "d3b451f2",
   "metadata": {},
   "outputs": [
    {
     "data": {
      "text/plain": [
       "[1.045, 0.739, 0.328, 0.773]"
      ]
     },
     "execution_count": 70,
     "metadata": {},
     "output_type": "execute_result"
    }
   ],
   "source": [
    "get_ratio(offers, GRIFFITH_NAME, \"Griffith\")"
   ]
  },
  {
   "cell_type": "markdown",
   "id": "1c9f1087",
   "metadata": {},
   "source": [
    "### Plotting"
   ]
  },
  {
   "cell_type": "markdown",
   "id": "033e1448",
   "metadata": {},
   "source": [
    "#### Basic plots"
   ]
  },
  {
   "cell_type": "code",
   "execution_count": 141,
   "id": "7e48a209",
   "metadata": {},
   "outputs": [],
   "source": [
    "#def get_unique_unis(series):\n",
    "#    uniq_list = series.unique()\n",
    "#    return list(set([x.split(\" (\")[0] for x in uniq_list if not pd.isna(x)]))\n",
    "\n",
    "def get_unique_unis(series):\n",
    "    uniq_list = series.unique()\n",
    "    return [x for x in uniq_list if not pd.isna(x)]"
   ]
  },
  {
   "cell_type": "code",
   "execution_count": 142,
   "id": "0145b57e",
   "metadata": {},
   "outputs": [],
   "source": [
    "MEGA_SHEET_NAME = \"all offers\"\n",
    "\n",
    "def get_basic(df, relative_path_out):\n",
    "    # get the unique unis\n",
    "    uniq_unis = get_unique_unis(df[\"offer uni\"])\n",
    "\n",
    "    with pd.ExcelWriter(f\"{relative_path_out}/{MEGA_SHEET_NAME}.xlsx\", engine='openpyxl') as writer:\n",
    "        for uni_name in uniq_unis:\n",
    "            # filter for the uni\n",
    "            uni_offer = get_uni_gpa_offer(df, uni_name)\n",
    "\n",
    "            for year in [2022, 2023, \"all\"]:\n",
    "                # get the filtered frame\n",
    "                filt_uni_offer = filter_frame(uni_offer, year=year)\n",
    "\n",
    "                # get the file name\n",
    "                file_name = f\"{uni_name} {year}\"\n",
    "\n",
    "                # get the plot\n",
    "                curr_df = plot_gamsat_gpa(\n",
    "                    filt_uni_offer, hue=\"success\", style=\"marker\",\n",
    "                    title=f\"{uni_name} {year} ({filt_uni_offer.shape[0]})\",\n",
    "                    path=f\"{relative_path_out}/{file_name}\",\n",
    "                    return_csv=True\n",
    "                )\n",
    "                \n",
    "                # check all columns weren't removed\n",
    "                if (not curr_df is None and not curr_df.empty):\n",
    "                    curr_df.to_excel(writer, sheet_name=file_name, index=False)"
   ]
  },
  {
   "cell_type": "code",
   "execution_count": 143,
   "id": "05cc0916",
   "metadata": {},
   "outputs": [],
   "source": [
    "def get_basic_anu(df, relative_path_out):\n",
    "    # get the unique unis\n",
    "    uniq_unis = get_unique_unis(df[\"offer uni\"])\n",
    "\n",
    "    with pd.ExcelWriter(f\"{relative_path_out}/{MEGA_SHEET_NAME}.xlsx\", engine='openpyxl') as writer:\n",
    "        for uni_name in uniq_unis:\n",
    "            uni_offer = get_uni_gpa_offer(df, uni_name)\n",
    "\n",
    "            for anu_value in [\"out\", \"in\"]:\n",
    "                for year in [2022, 2023, \"all\"]:\n",
    "                    # get the filtered frame\n",
    "                    filt_uni_offer = filter_frame(uni_offer, year=year, anu=anu_value)\n",
    "\n",
    "                    # get the file name\n",
    "                    file_name = f\"{uni_name} {year} anu {anu_value}\"\n",
    "\n",
    "                    # get the plot\n",
    "                    curr_df = plot_gamsat_gpa(\n",
    "                        filt_uni_offer, hue=\"success\", style=\"marker\",\n",
    "                        title=f\"{uni_name} {year} anu {anu_value} ({filt_uni_offer.shape[0]})\",\n",
    "                        path=f\"{relative_path_out}/{file_name}\",\n",
    "                        return_csv=True\n",
    "                    )\n",
    "\n",
    "                    # check all columns weren't removed\n",
    "                    if (not curr_df is None and not curr_df.empty):\n",
    "                        curr_df.to_excel(writer, sheet_name=file_name, index=False)"
   ]
  },
  {
   "cell_type": "code",
   "execution_count": 144,
   "id": "3252e5d3",
   "metadata": {},
   "outputs": [],
   "source": [
    "#melb_offer = get_uni_gpa_offer(offers_filt, \"The University of Melbourne\")"
   ]
  },
  {
   "cell_type": "code",
   "execution_count": 145,
   "id": "c4df1483",
   "metadata": {},
   "outputs": [
    {
     "name": "stderr",
     "output_type": "stream",
     "text": [
      "C:\\Users\\mtp63\\AppData\\Local\\Temp\\ipykernel_23940\\1611296466.py:6: SettingWithCopyWarning: \n",
      "A value is trying to be set on a copy of a slice from a DataFrame.\n",
      "Try using .loc[row_indexer,col_indexer] = value instead\n",
      "\n",
      "See the caveats in the documentation: https://pandas.pydata.org/pandas-docs/stable/user_guide/indexing.html#returning-a-view-versus-a-copy\n",
      "  df_filt[[\"gpa\", \"gamsat\", \"preference\"]] = df_filt.apply(lambda x: get_row_uni_info_offer(x, uni), axis=1).apply(pd.Series)\n",
      "C:\\Users\\mtp63\\AppData\\Local\\Temp\\ipykernel_23940\\1611296466.py:6: SettingWithCopyWarning: \n",
      "A value is trying to be set on a copy of a slice from a DataFrame.\n",
      "Try using .loc[row_indexer,col_indexer] = value instead\n",
      "\n",
      "See the caveats in the documentation: https://pandas.pydata.org/pandas-docs/stable/user_guide/indexing.html#returning-a-view-versus-a-copy\n",
      "  df_filt[[\"gpa\", \"gamsat\", \"preference\"]] = df_filt.apply(lambda x: get_row_uni_info_offer(x, uni), axis=1).apply(pd.Series)\n",
      "C:\\Users\\mtp63\\AppData\\Local\\Temp\\ipykernel_23940\\1611296466.py:6: SettingWithCopyWarning: \n",
      "A value is trying to be set on a copy of a slice from a DataFrame.\n",
      "Try using .loc[row_indexer,col_indexer] = value instead\n",
      "\n",
      "See the caveats in the documentation: https://pandas.pydata.org/pandas-docs/stable/user_guide/indexing.html#returning-a-view-versus-a-copy\n",
      "  df_filt[[\"gpa\", \"gamsat\", \"preference\"]] = df_filt.apply(lambda x: get_row_uni_info_offer(x, uni), axis=1).apply(pd.Series)\n",
      "C:\\Users\\mtp63\\AppData\\Local\\Temp\\ipykernel_23940\\1611296466.py:9: SettingWithCopyWarning: \n",
      "A value is trying to be set on a copy of a slice from a DataFrame.\n",
      "Try using .loc[row_indexer,col_indexer] = value instead\n",
      "\n",
      "See the caveats in the documentation: https://pandas.pydata.org/pandas-docs/stable/user_guide/indexing.html#returning-a-view-versus-a-copy\n",
      "  df_filt[\"combo score\"] = df_filt[\"gpa\"] / 7 + df_filt[\"gamsat\"] / 100\n",
      "C:\\Users\\mtp63\\AppData\\Local\\Temp\\ipykernel_23940\\1611296466.py:12: SettingWithCopyWarning: \n",
      "A value is trying to be set on a copy of a slice from a DataFrame.\n",
      "Try using .loc[row_indexer,col_indexer] = value instead\n",
      "\n",
      "See the caveats in the documentation: https://pandas.pydata.org/pandas-docs/stable/user_guide/indexing.html#returning-a-view-versus-a-copy\n",
      "  df_filt.loc[:, \"success\"] = df_filt.apply(lambda x: get_row_offer(x, uni), axis=1)\n",
      "C:\\Users\\mtp63\\AppData\\Local\\Temp\\ipykernel_23940\\1611296466.py:6: SettingWithCopyWarning: \n",
      "A value is trying to be set on a copy of a slice from a DataFrame.\n",
      "Try using .loc[row_indexer,col_indexer] = value instead\n",
      "\n",
      "See the caveats in the documentation: https://pandas.pydata.org/pandas-docs/stable/user_guide/indexing.html#returning-a-view-versus-a-copy\n",
      "  df_filt[[\"gpa\", \"gamsat\", \"preference\"]] = df_filt.apply(lambda x: get_row_uni_info_offer(x, uni), axis=1).apply(pd.Series)\n",
      "C:\\Users\\mtp63\\AppData\\Local\\Temp\\ipykernel_23940\\1611296466.py:6: SettingWithCopyWarning: \n",
      "A value is trying to be set on a copy of a slice from a DataFrame.\n",
      "Try using .loc[row_indexer,col_indexer] = value instead\n",
      "\n",
      "See the caveats in the documentation: https://pandas.pydata.org/pandas-docs/stable/user_guide/indexing.html#returning-a-view-versus-a-copy\n",
      "  df_filt[[\"gpa\", \"gamsat\", \"preference\"]] = df_filt.apply(lambda x: get_row_uni_info_offer(x, uni), axis=1).apply(pd.Series)\n",
      "C:\\Users\\mtp63\\AppData\\Local\\Temp\\ipykernel_23940\\1611296466.py:6: SettingWithCopyWarning: \n",
      "A value is trying to be set on a copy of a slice from a DataFrame.\n",
      "Try using .loc[row_indexer,col_indexer] = value instead\n",
      "\n",
      "See the caveats in the documentation: https://pandas.pydata.org/pandas-docs/stable/user_guide/indexing.html#returning-a-view-versus-a-copy\n",
      "  df_filt[[\"gpa\", \"gamsat\", \"preference\"]] = df_filt.apply(lambda x: get_row_uni_info_offer(x, uni), axis=1).apply(pd.Series)\n",
      "C:\\Users\\mtp63\\AppData\\Local\\Temp\\ipykernel_23940\\1611296466.py:9: SettingWithCopyWarning: \n",
      "A value is trying to be set on a copy of a slice from a DataFrame.\n",
      "Try using .loc[row_indexer,col_indexer] = value instead\n",
      "\n",
      "See the caveats in the documentation: https://pandas.pydata.org/pandas-docs/stable/user_guide/indexing.html#returning-a-view-versus-a-copy\n",
      "  df_filt[\"combo score\"] = df_filt[\"gpa\"] / 7 + df_filt[\"gamsat\"] / 100\n",
      "C:\\Users\\mtp63\\AppData\\Local\\Temp\\ipykernel_23940\\1611296466.py:12: SettingWithCopyWarning: \n",
      "A value is trying to be set on a copy of a slice from a DataFrame.\n",
      "Try using .loc[row_indexer,col_indexer] = value instead\n",
      "\n",
      "See the caveats in the documentation: https://pandas.pydata.org/pandas-docs/stable/user_guide/indexing.html#returning-a-view-versus-a-copy\n",
      "  df_filt.loc[:, \"success\"] = df_filt.apply(lambda x: get_row_offer(x, uni), axis=1)\n",
      "C:\\Users\\mtp63\\AppData\\Local\\Temp\\ipykernel_23940\\1611296466.py:6: SettingWithCopyWarning: \n",
      "A value is trying to be set on a copy of a slice from a DataFrame.\n",
      "Try using .loc[row_indexer,col_indexer] = value instead\n",
      "\n",
      "See the caveats in the documentation: https://pandas.pydata.org/pandas-docs/stable/user_guide/indexing.html#returning-a-view-versus-a-copy\n",
      "  df_filt[[\"gpa\", \"gamsat\", \"preference\"]] = df_filt.apply(lambda x: get_row_uni_info_offer(x, uni), axis=1).apply(pd.Series)\n",
      "C:\\Users\\mtp63\\AppData\\Local\\Temp\\ipykernel_23940\\1611296466.py:6: SettingWithCopyWarning: \n",
      "A value is trying to be set on a copy of a slice from a DataFrame.\n",
      "Try using .loc[row_indexer,col_indexer] = value instead\n",
      "\n",
      "See the caveats in the documentation: https://pandas.pydata.org/pandas-docs/stable/user_guide/indexing.html#returning-a-view-versus-a-copy\n",
      "  df_filt[[\"gpa\", \"gamsat\", \"preference\"]] = df_filt.apply(lambda x: get_row_uni_info_offer(x, uni), axis=1).apply(pd.Series)\n",
      "C:\\Users\\mtp63\\AppData\\Local\\Temp\\ipykernel_23940\\1611296466.py:6: SettingWithCopyWarning: \n",
      "A value is trying to be set on a copy of a slice from a DataFrame.\n",
      "Try using .loc[row_indexer,col_indexer] = value instead\n",
      "\n",
      "See the caveats in the documentation: https://pandas.pydata.org/pandas-docs/stable/user_guide/indexing.html#returning-a-view-versus-a-copy\n",
      "  df_filt[[\"gpa\", \"gamsat\", \"preference\"]] = df_filt.apply(lambda x: get_row_uni_info_offer(x, uni), axis=1).apply(pd.Series)\n",
      "C:\\Users\\mtp63\\AppData\\Local\\Temp\\ipykernel_23940\\1611296466.py:9: SettingWithCopyWarning: \n",
      "A value is trying to be set on a copy of a slice from a DataFrame.\n",
      "Try using .loc[row_indexer,col_indexer] = value instead\n",
      "\n",
      "See the caveats in the documentation: https://pandas.pydata.org/pandas-docs/stable/user_guide/indexing.html#returning-a-view-versus-a-copy\n",
      "  df_filt[\"combo score\"] = df_filt[\"gpa\"] / 7 + df_filt[\"gamsat\"] / 100\n",
      "C:\\Users\\mtp63\\AppData\\Local\\Temp\\ipykernel_23940\\1611296466.py:12: SettingWithCopyWarning: \n",
      "A value is trying to be set on a copy of a slice from a DataFrame.\n",
      "Try using .loc[row_indexer,col_indexer] = value instead\n",
      "\n",
      "See the caveats in the documentation: https://pandas.pydata.org/pandas-docs/stable/user_guide/indexing.html#returning-a-view-versus-a-copy\n",
      "  df_filt.loc[:, \"success\"] = df_filt.apply(lambda x: get_row_offer(x, uni), axis=1)\n",
      "c:\\Users\\mtp63\\anaconda3\\lib\\site-packages\\openpyxl\\workbook\\child.py:99: UserWarning: Title is more than 31 characters. Some applications may not be able to read the file\n",
      "  warnings.warn(\"Title is more than 31 characters. Some applications may not be able to read the file\")\n",
      "c:\\Users\\mtp63\\anaconda3\\lib\\site-packages\\openpyxl\\workbook\\child.py:99: UserWarning: Title is more than 31 characters. Some applications may not be able to read the file\n",
      "  warnings.warn(\"Title is more than 31 characters. Some applications may not be able to read the file\")\n",
      "c:\\Users\\mtp63\\anaconda3\\lib\\site-packages\\openpyxl\\workbook\\child.py:99: UserWarning: Title is more than 31 characters. Some applications may not be able to read the file\n",
      "  warnings.warn(\"Title is more than 31 characters. Some applications may not be able to read the file\")\n",
      "C:\\Users\\mtp63\\AppData\\Local\\Temp\\ipykernel_23940\\1611296466.py:6: SettingWithCopyWarning: \n",
      "A value is trying to be set on a copy of a slice from a DataFrame.\n",
      "Try using .loc[row_indexer,col_indexer] = value instead\n",
      "\n",
      "See the caveats in the documentation: https://pandas.pydata.org/pandas-docs/stable/user_guide/indexing.html#returning-a-view-versus-a-copy\n",
      "  df_filt[[\"gpa\", \"gamsat\", \"preference\"]] = df_filt.apply(lambda x: get_row_uni_info_offer(x, uni), axis=1).apply(pd.Series)\n",
      "C:\\Users\\mtp63\\AppData\\Local\\Temp\\ipykernel_23940\\1611296466.py:6: SettingWithCopyWarning: \n",
      "A value is trying to be set on a copy of a slice from a DataFrame.\n",
      "Try using .loc[row_indexer,col_indexer] = value instead\n",
      "\n",
      "See the caveats in the documentation: https://pandas.pydata.org/pandas-docs/stable/user_guide/indexing.html#returning-a-view-versus-a-copy\n",
      "  df_filt[[\"gpa\", \"gamsat\", \"preference\"]] = df_filt.apply(lambda x: get_row_uni_info_offer(x, uni), axis=1).apply(pd.Series)\n",
      "C:\\Users\\mtp63\\AppData\\Local\\Temp\\ipykernel_23940\\1611296466.py:6: SettingWithCopyWarning: \n",
      "A value is trying to be set on a copy of a slice from a DataFrame.\n",
      "Try using .loc[row_indexer,col_indexer] = value instead\n",
      "\n",
      "See the caveats in the documentation: https://pandas.pydata.org/pandas-docs/stable/user_guide/indexing.html#returning-a-view-versus-a-copy\n",
      "  df_filt[[\"gpa\", \"gamsat\", \"preference\"]] = df_filt.apply(lambda x: get_row_uni_info_offer(x, uni), axis=1).apply(pd.Series)\n",
      "C:\\Users\\mtp63\\AppData\\Local\\Temp\\ipykernel_23940\\1611296466.py:9: SettingWithCopyWarning: \n",
      "A value is trying to be set on a copy of a slice from a DataFrame.\n",
      "Try using .loc[row_indexer,col_indexer] = value instead\n",
      "\n",
      "See the caveats in the documentation: https://pandas.pydata.org/pandas-docs/stable/user_guide/indexing.html#returning-a-view-versus-a-copy\n",
      "  df_filt[\"combo score\"] = df_filt[\"gpa\"] / 7 + df_filt[\"gamsat\"] / 100\n",
      "C:\\Users\\mtp63\\AppData\\Local\\Temp\\ipykernel_23940\\1611296466.py:12: SettingWithCopyWarning: \n",
      "A value is trying to be set on a copy of a slice from a DataFrame.\n",
      "Try using .loc[row_indexer,col_indexer] = value instead\n",
      "\n",
      "See the caveats in the documentation: https://pandas.pydata.org/pandas-docs/stable/user_guide/indexing.html#returning-a-view-versus-a-copy\n",
      "  df_filt.loc[:, \"success\"] = df_filt.apply(lambda x: get_row_offer(x, uni), axis=1)\n",
      "c:\\Users\\mtp63\\anaconda3\\lib\\site-packages\\openpyxl\\workbook\\child.py:99: UserWarning: Title is more than 31 characters. Some applications may not be able to read the file\n",
      "  warnings.warn(\"Title is more than 31 characters. Some applications may not be able to read the file\")\n",
      "c:\\Users\\mtp63\\anaconda3\\lib\\site-packages\\openpyxl\\workbook\\child.py:99: UserWarning: Title is more than 31 characters. Some applications may not be able to read the file\n",
      "  warnings.warn(\"Title is more than 31 characters. Some applications may not be able to read the file\")\n",
      "c:\\Users\\mtp63\\anaconda3\\lib\\site-packages\\openpyxl\\workbook\\child.py:99: UserWarning: Title is more than 31 characters. Some applications may not be able to read the file\n",
      "  warnings.warn(\"Title is more than 31 characters. Some applications may not be able to read the file\")\n",
      "C:\\Users\\mtp63\\AppData\\Local\\Temp\\ipykernel_23940\\1611296466.py:6: SettingWithCopyWarning: \n",
      "A value is trying to be set on a copy of a slice from a DataFrame.\n",
      "Try using .loc[row_indexer,col_indexer] = value instead\n",
      "\n",
      "See the caveats in the documentation: https://pandas.pydata.org/pandas-docs/stable/user_guide/indexing.html#returning-a-view-versus-a-copy\n",
      "  df_filt[[\"gpa\", \"gamsat\", \"preference\"]] = df_filt.apply(lambda x: get_row_uni_info_offer(x, uni), axis=1).apply(pd.Series)\n",
      "C:\\Users\\mtp63\\AppData\\Local\\Temp\\ipykernel_23940\\1611296466.py:6: SettingWithCopyWarning: \n",
      "A value is trying to be set on a copy of a slice from a DataFrame.\n",
      "Try using .loc[row_indexer,col_indexer] = value instead\n",
      "\n",
      "See the caveats in the documentation: https://pandas.pydata.org/pandas-docs/stable/user_guide/indexing.html#returning-a-view-versus-a-copy\n",
      "  df_filt[[\"gpa\", \"gamsat\", \"preference\"]] = df_filt.apply(lambda x: get_row_uni_info_offer(x, uni), axis=1).apply(pd.Series)\n",
      "C:\\Users\\mtp63\\AppData\\Local\\Temp\\ipykernel_23940\\1611296466.py:6: SettingWithCopyWarning: \n",
      "A value is trying to be set on a copy of a slice from a DataFrame.\n",
      "Try using .loc[row_indexer,col_indexer] = value instead\n",
      "\n",
      "See the caveats in the documentation: https://pandas.pydata.org/pandas-docs/stable/user_guide/indexing.html#returning-a-view-versus-a-copy\n",
      "  df_filt[[\"gpa\", \"gamsat\", \"preference\"]] = df_filt.apply(lambda x: get_row_uni_info_offer(x, uni), axis=1).apply(pd.Series)\n",
      "C:\\Users\\mtp63\\AppData\\Local\\Temp\\ipykernel_23940\\1611296466.py:9: SettingWithCopyWarning: \n",
      "A value is trying to be set on a copy of a slice from a DataFrame.\n",
      "Try using .loc[row_indexer,col_indexer] = value instead\n",
      "\n",
      "See the caveats in the documentation: https://pandas.pydata.org/pandas-docs/stable/user_guide/indexing.html#returning-a-view-versus-a-copy\n",
      "  df_filt[\"combo score\"] = df_filt[\"gpa\"] / 7 + df_filt[\"gamsat\"] / 100\n",
      "C:\\Users\\mtp63\\AppData\\Local\\Temp\\ipykernel_23940\\1611296466.py:12: SettingWithCopyWarning: \n",
      "A value is trying to be set on a copy of a slice from a DataFrame.\n",
      "Try using .loc[row_indexer,col_indexer] = value instead\n",
      "\n",
      "See the caveats in the documentation: https://pandas.pydata.org/pandas-docs/stable/user_guide/indexing.html#returning-a-view-versus-a-copy\n",
      "  df_filt.loc[:, \"success\"] = df_filt.apply(lambda x: get_row_offer(x, uni), axis=1)\n",
      "c:\\Users\\mtp63\\anaconda3\\lib\\site-packages\\openpyxl\\workbook\\child.py:99: UserWarning: Title is more than 31 characters. Some applications may not be able to read the file\n",
      "  warnings.warn(\"Title is more than 31 characters. Some applications may not be able to read the file\")\n",
      "c:\\Users\\mtp63\\anaconda3\\lib\\site-packages\\openpyxl\\workbook\\child.py:99: UserWarning: Title is more than 31 characters. Some applications may not be able to read the file\n",
      "  warnings.warn(\"Title is more than 31 characters. Some applications may not be able to read the file\")\n",
      "C:\\Users\\mtp63\\AppData\\Local\\Temp\\ipykernel_23940\\1611296466.py:6: SettingWithCopyWarning: \n",
      "A value is trying to be set on a copy of a slice from a DataFrame.\n",
      "Try using .loc[row_indexer,col_indexer] = value instead\n",
      "\n",
      "See the caveats in the documentation: https://pandas.pydata.org/pandas-docs/stable/user_guide/indexing.html#returning-a-view-versus-a-copy\n",
      "  df_filt[[\"gpa\", \"gamsat\", \"preference\"]] = df_filt.apply(lambda x: get_row_uni_info_offer(x, uni), axis=1).apply(pd.Series)\n",
      "C:\\Users\\mtp63\\AppData\\Local\\Temp\\ipykernel_23940\\1611296466.py:6: SettingWithCopyWarning: \n",
      "A value is trying to be set on a copy of a slice from a DataFrame.\n",
      "Try using .loc[row_indexer,col_indexer] = value instead\n",
      "\n",
      "See the caveats in the documentation: https://pandas.pydata.org/pandas-docs/stable/user_guide/indexing.html#returning-a-view-versus-a-copy\n",
      "  df_filt[[\"gpa\", \"gamsat\", \"preference\"]] = df_filt.apply(lambda x: get_row_uni_info_offer(x, uni), axis=1).apply(pd.Series)\n",
      "C:\\Users\\mtp63\\AppData\\Local\\Temp\\ipykernel_23940\\1611296466.py:6: SettingWithCopyWarning: \n",
      "A value is trying to be set on a copy of a slice from a DataFrame.\n",
      "Try using .loc[row_indexer,col_indexer] = value instead\n",
      "\n",
      "See the caveats in the documentation: https://pandas.pydata.org/pandas-docs/stable/user_guide/indexing.html#returning-a-view-versus-a-copy\n",
      "  df_filt[[\"gpa\", \"gamsat\", \"preference\"]] = df_filt.apply(lambda x: get_row_uni_info_offer(x, uni), axis=1).apply(pd.Series)\n",
      "C:\\Users\\mtp63\\AppData\\Local\\Temp\\ipykernel_23940\\1611296466.py:9: SettingWithCopyWarning: \n",
      "A value is trying to be set on a copy of a slice from a DataFrame.\n",
      "Try using .loc[row_indexer,col_indexer] = value instead\n",
      "\n",
      "See the caveats in the documentation: https://pandas.pydata.org/pandas-docs/stable/user_guide/indexing.html#returning-a-view-versus-a-copy\n",
      "  df_filt[\"combo score\"] = df_filt[\"gpa\"] / 7 + df_filt[\"gamsat\"] / 100\n",
      "C:\\Users\\mtp63\\AppData\\Local\\Temp\\ipykernel_23940\\1611296466.py:12: SettingWithCopyWarning: \n",
      "A value is trying to be set on a copy of a slice from a DataFrame.\n",
      "Try using .loc[row_indexer,col_indexer] = value instead\n",
      "\n",
      "See the caveats in the documentation: https://pandas.pydata.org/pandas-docs/stable/user_guide/indexing.html#returning-a-view-versus-a-copy\n",
      "  df_filt.loc[:, \"success\"] = df_filt.apply(lambda x: get_row_offer(x, uni), axis=1)\n",
      "c:\\Users\\mtp63\\anaconda3\\lib\\site-packages\\openpyxl\\workbook\\child.py:99: UserWarning: Title is more than 31 characters. Some applications may not be able to read the file\n",
      "  warnings.warn(\"Title is more than 31 characters. Some applications may not be able to read the file\")\n",
      "c:\\Users\\mtp63\\anaconda3\\lib\\site-packages\\openpyxl\\workbook\\child.py:99: UserWarning: Title is more than 31 characters. Some applications may not be able to read the file\n",
      "  warnings.warn(\"Title is more than 31 characters. Some applications may not be able to read the file\")\n",
      "c:\\Users\\mtp63\\anaconda3\\lib\\site-packages\\openpyxl\\workbook\\child.py:99: UserWarning: Title is more than 31 characters. Some applications may not be able to read the file\n",
      "  warnings.warn(\"Title is more than 31 characters. Some applications may not be able to read the file\")\n",
      "C:\\Users\\mtp63\\AppData\\Local\\Temp\\ipykernel_23940\\1611296466.py:6: SettingWithCopyWarning: \n",
      "A value is trying to be set on a copy of a slice from a DataFrame.\n",
      "Try using .loc[row_indexer,col_indexer] = value instead\n",
      "\n",
      "See the caveats in the documentation: https://pandas.pydata.org/pandas-docs/stable/user_guide/indexing.html#returning-a-view-versus-a-copy\n",
      "  df_filt[[\"gpa\", \"gamsat\", \"preference\"]] = df_filt.apply(lambda x: get_row_uni_info_offer(x, uni), axis=1).apply(pd.Series)\n",
      "C:\\Users\\mtp63\\AppData\\Local\\Temp\\ipykernel_23940\\1611296466.py:6: SettingWithCopyWarning: \n",
      "A value is trying to be set on a copy of a slice from a DataFrame.\n",
      "Try using .loc[row_indexer,col_indexer] = value instead\n",
      "\n",
      "See the caveats in the documentation: https://pandas.pydata.org/pandas-docs/stable/user_guide/indexing.html#returning-a-view-versus-a-copy\n",
      "  df_filt[[\"gpa\", \"gamsat\", \"preference\"]] = df_filt.apply(lambda x: get_row_uni_info_offer(x, uni), axis=1).apply(pd.Series)\n",
      "C:\\Users\\mtp63\\AppData\\Local\\Temp\\ipykernel_23940\\1611296466.py:6: SettingWithCopyWarning: \n",
      "A value is trying to be set on a copy of a slice from a DataFrame.\n",
      "Try using .loc[row_indexer,col_indexer] = value instead\n",
      "\n",
      "See the caveats in the documentation: https://pandas.pydata.org/pandas-docs/stable/user_guide/indexing.html#returning-a-view-versus-a-copy\n",
      "  df_filt[[\"gpa\", \"gamsat\", \"preference\"]] = df_filt.apply(lambda x: get_row_uni_info_offer(x, uni), axis=1).apply(pd.Series)\n",
      "C:\\Users\\mtp63\\AppData\\Local\\Temp\\ipykernel_23940\\1611296466.py:9: SettingWithCopyWarning: \n",
      "A value is trying to be set on a copy of a slice from a DataFrame.\n",
      "Try using .loc[row_indexer,col_indexer] = value instead\n",
      "\n",
      "See the caveats in the documentation: https://pandas.pydata.org/pandas-docs/stable/user_guide/indexing.html#returning-a-view-versus-a-copy\n",
      "  df_filt[\"combo score\"] = df_filt[\"gpa\"] / 7 + df_filt[\"gamsat\"] / 100\n",
      "C:\\Users\\mtp63\\AppData\\Local\\Temp\\ipykernel_23940\\1611296466.py:12: SettingWithCopyWarning: \n",
      "A value is trying to be set on a copy of a slice from a DataFrame.\n",
      "Try using .loc[row_indexer,col_indexer] = value instead\n",
      "\n",
      "See the caveats in the documentation: https://pandas.pydata.org/pandas-docs/stable/user_guide/indexing.html#returning-a-view-versus-a-copy\n",
      "  df_filt.loc[:, \"success\"] = df_filt.apply(lambda x: get_row_offer(x, uni), axis=1)\n",
      "c:\\Users\\mtp63\\anaconda3\\lib\\site-packages\\openpyxl\\workbook\\child.py:99: UserWarning: Title is more than 31 characters. Some applications may not be able to read the file\n",
      "  warnings.warn(\"Title is more than 31 characters. Some applications may not be able to read the file\")\n",
      "c:\\Users\\mtp63\\anaconda3\\lib\\site-packages\\openpyxl\\workbook\\child.py:99: UserWarning: Title is more than 31 characters. Some applications may not be able to read the file\n",
      "  warnings.warn(\"Title is more than 31 characters. Some applications may not be able to read the file\")\n",
      "c:\\Users\\mtp63\\anaconda3\\lib\\site-packages\\openpyxl\\workbook\\child.py:99: UserWarning: Title is more than 31 characters. Some applications may not be able to read the file\n",
      "  warnings.warn(\"Title is more than 31 characters. Some applications may not be able to read the file\")\n",
      "C:\\Users\\mtp63\\AppData\\Local\\Temp\\ipykernel_23940\\1611296466.py:6: SettingWithCopyWarning: \n",
      "A value is trying to be set on a copy of a slice from a DataFrame.\n",
      "Try using .loc[row_indexer,col_indexer] = value instead\n",
      "\n",
      "See the caveats in the documentation: https://pandas.pydata.org/pandas-docs/stable/user_guide/indexing.html#returning-a-view-versus-a-copy\n",
      "  df_filt[[\"gpa\", \"gamsat\", \"preference\"]] = df_filt.apply(lambda x: get_row_uni_info_offer(x, uni), axis=1).apply(pd.Series)\n",
      "C:\\Users\\mtp63\\AppData\\Local\\Temp\\ipykernel_23940\\1611296466.py:6: SettingWithCopyWarning: \n",
      "A value is trying to be set on a copy of a slice from a DataFrame.\n",
      "Try using .loc[row_indexer,col_indexer] = value instead\n",
      "\n",
      "See the caveats in the documentation: https://pandas.pydata.org/pandas-docs/stable/user_guide/indexing.html#returning-a-view-versus-a-copy\n",
      "  df_filt[[\"gpa\", \"gamsat\", \"preference\"]] = df_filt.apply(lambda x: get_row_uni_info_offer(x, uni), axis=1).apply(pd.Series)\n",
      "C:\\Users\\mtp63\\AppData\\Local\\Temp\\ipykernel_23940\\1611296466.py:6: SettingWithCopyWarning: \n",
      "A value is trying to be set on a copy of a slice from a DataFrame.\n",
      "Try using .loc[row_indexer,col_indexer] = value instead\n",
      "\n",
      "See the caveats in the documentation: https://pandas.pydata.org/pandas-docs/stable/user_guide/indexing.html#returning-a-view-versus-a-copy\n",
      "  df_filt[[\"gpa\", \"gamsat\", \"preference\"]] = df_filt.apply(lambda x: get_row_uni_info_offer(x, uni), axis=1).apply(pd.Series)\n",
      "C:\\Users\\mtp63\\AppData\\Local\\Temp\\ipykernel_23940\\1611296466.py:9: SettingWithCopyWarning: \n",
      "A value is trying to be set on a copy of a slice from a DataFrame.\n",
      "Try using .loc[row_indexer,col_indexer] = value instead\n",
      "\n",
      "See the caveats in the documentation: https://pandas.pydata.org/pandas-docs/stable/user_guide/indexing.html#returning-a-view-versus-a-copy\n",
      "  df_filt[\"combo score\"] = df_filt[\"gpa\"] / 7 + df_filt[\"gamsat\"] / 100\n",
      "C:\\Users\\mtp63\\AppData\\Local\\Temp\\ipykernel_23940\\1611296466.py:12: SettingWithCopyWarning: \n",
      "A value is trying to be set on a copy of a slice from a DataFrame.\n",
      "Try using .loc[row_indexer,col_indexer] = value instead\n",
      "\n",
      "See the caveats in the documentation: https://pandas.pydata.org/pandas-docs/stable/user_guide/indexing.html#returning-a-view-versus-a-copy\n",
      "  df_filt.loc[:, \"success\"] = df_filt.apply(lambda x: get_row_offer(x, uni), axis=1)\n",
      "c:\\Users\\mtp63\\anaconda3\\lib\\site-packages\\openpyxl\\workbook\\child.py:99: UserWarning: Title is more than 31 characters. Some applications may not be able to read the file\n",
      "  warnings.warn(\"Title is more than 31 characters. Some applications may not be able to read the file\")\n",
      "c:\\Users\\mtp63\\anaconda3\\lib\\site-packages\\openpyxl\\workbook\\child.py:99: UserWarning: Title is more than 31 characters. Some applications may not be able to read the file\n",
      "  warnings.warn(\"Title is more than 31 characters. Some applications may not be able to read the file\")\n",
      "c:\\Users\\mtp63\\anaconda3\\lib\\site-packages\\openpyxl\\workbook\\child.py:99: UserWarning: Title is more than 31 characters. Some applications may not be able to read the file\n",
      "  warnings.warn(\"Title is more than 31 characters. Some applications may not be able to read the file\")\n",
      "C:\\Users\\mtp63\\AppData\\Local\\Temp\\ipykernel_23940\\1611296466.py:6: SettingWithCopyWarning: \n",
      "A value is trying to be set on a copy of a slice from a DataFrame.\n",
      "Try using .loc[row_indexer,col_indexer] = value instead\n",
      "\n",
      "See the caveats in the documentation: https://pandas.pydata.org/pandas-docs/stable/user_guide/indexing.html#returning-a-view-versus-a-copy\n",
      "  df_filt[[\"gpa\", \"gamsat\", \"preference\"]] = df_filt.apply(lambda x: get_row_uni_info_offer(x, uni), axis=1).apply(pd.Series)\n",
      "C:\\Users\\mtp63\\AppData\\Local\\Temp\\ipykernel_23940\\1611296466.py:6: SettingWithCopyWarning: \n",
      "A value is trying to be set on a copy of a slice from a DataFrame.\n",
      "Try using .loc[row_indexer,col_indexer] = value instead\n",
      "\n",
      "See the caveats in the documentation: https://pandas.pydata.org/pandas-docs/stable/user_guide/indexing.html#returning-a-view-versus-a-copy\n",
      "  df_filt[[\"gpa\", \"gamsat\", \"preference\"]] = df_filt.apply(lambda x: get_row_uni_info_offer(x, uni), axis=1).apply(pd.Series)\n",
      "C:\\Users\\mtp63\\AppData\\Local\\Temp\\ipykernel_23940\\1611296466.py:6: SettingWithCopyWarning: \n",
      "A value is trying to be set on a copy of a slice from a DataFrame.\n",
      "Try using .loc[row_indexer,col_indexer] = value instead\n",
      "\n",
      "See the caveats in the documentation: https://pandas.pydata.org/pandas-docs/stable/user_guide/indexing.html#returning-a-view-versus-a-copy\n",
      "  df_filt[[\"gpa\", \"gamsat\", \"preference\"]] = df_filt.apply(lambda x: get_row_uni_info_offer(x, uni), axis=1).apply(pd.Series)\n",
      "C:\\Users\\mtp63\\AppData\\Local\\Temp\\ipykernel_23940\\1611296466.py:9: SettingWithCopyWarning: \n",
      "A value is trying to be set on a copy of a slice from a DataFrame.\n",
      "Try using .loc[row_indexer,col_indexer] = value instead\n",
      "\n",
      "See the caveats in the documentation: https://pandas.pydata.org/pandas-docs/stable/user_guide/indexing.html#returning-a-view-versus-a-copy\n",
      "  df_filt[\"combo score\"] = df_filt[\"gpa\"] / 7 + df_filt[\"gamsat\"] / 100\n",
      "C:\\Users\\mtp63\\AppData\\Local\\Temp\\ipykernel_23940\\1611296466.py:12: SettingWithCopyWarning: \n",
      "A value is trying to be set on a copy of a slice from a DataFrame.\n",
      "Try using .loc[row_indexer,col_indexer] = value instead\n",
      "\n",
      "See the caveats in the documentation: https://pandas.pydata.org/pandas-docs/stable/user_guide/indexing.html#returning-a-view-versus-a-copy\n",
      "  df_filt.loc[:, \"success\"] = df_filt.apply(lambda x: get_row_offer(x, uni), axis=1)\n",
      "c:\\Users\\mtp63\\anaconda3\\lib\\site-packages\\openpyxl\\workbook\\child.py:99: UserWarning: Title is more than 31 characters. Some applications may not be able to read the file\n",
      "  warnings.warn(\"Title is more than 31 characters. Some applications may not be able to read the file\")\n",
      "c:\\Users\\mtp63\\anaconda3\\lib\\site-packages\\openpyxl\\workbook\\child.py:99: UserWarning: Title is more than 31 characters. Some applications may not be able to read the file\n",
      "  warnings.warn(\"Title is more than 31 characters. Some applications may not be able to read the file\")\n",
      "c:\\Users\\mtp63\\anaconda3\\lib\\site-packages\\openpyxl\\workbook\\child.py:99: UserWarning: Title is more than 31 characters. Some applications may not be able to read the file\n",
      "  warnings.warn(\"Title is more than 31 characters. Some applications may not be able to read the file\")\n",
      "C:\\Users\\mtp63\\AppData\\Local\\Temp\\ipykernel_23940\\1611296466.py:6: SettingWithCopyWarning: \n",
      "A value is trying to be set on a copy of a slice from a DataFrame.\n",
      "Try using .loc[row_indexer,col_indexer] = value instead\n",
      "\n",
      "See the caveats in the documentation: https://pandas.pydata.org/pandas-docs/stable/user_guide/indexing.html#returning-a-view-versus-a-copy\n",
      "  df_filt[[\"gpa\", \"gamsat\", \"preference\"]] = df_filt.apply(lambda x: get_row_uni_info_offer(x, uni), axis=1).apply(pd.Series)\n",
      "C:\\Users\\mtp63\\AppData\\Local\\Temp\\ipykernel_23940\\1611296466.py:6: SettingWithCopyWarning: \n",
      "A value is trying to be set on a copy of a slice from a DataFrame.\n",
      "Try using .loc[row_indexer,col_indexer] = value instead\n",
      "\n",
      "See the caveats in the documentation: https://pandas.pydata.org/pandas-docs/stable/user_guide/indexing.html#returning-a-view-versus-a-copy\n",
      "  df_filt[[\"gpa\", \"gamsat\", \"preference\"]] = df_filt.apply(lambda x: get_row_uni_info_offer(x, uni), axis=1).apply(pd.Series)\n",
      "C:\\Users\\mtp63\\AppData\\Local\\Temp\\ipykernel_23940\\1611296466.py:6: SettingWithCopyWarning: \n",
      "A value is trying to be set on a copy of a slice from a DataFrame.\n",
      "Try using .loc[row_indexer,col_indexer] = value instead\n",
      "\n",
      "See the caveats in the documentation: https://pandas.pydata.org/pandas-docs/stable/user_guide/indexing.html#returning-a-view-versus-a-copy\n",
      "  df_filt[[\"gpa\", \"gamsat\", \"preference\"]] = df_filt.apply(lambda x: get_row_uni_info_offer(x, uni), axis=1).apply(pd.Series)\n",
      "C:\\Users\\mtp63\\AppData\\Local\\Temp\\ipykernel_23940\\1611296466.py:9: SettingWithCopyWarning: \n",
      "A value is trying to be set on a copy of a slice from a DataFrame.\n",
      "Try using .loc[row_indexer,col_indexer] = value instead\n",
      "\n",
      "See the caveats in the documentation: https://pandas.pydata.org/pandas-docs/stable/user_guide/indexing.html#returning-a-view-versus-a-copy\n",
      "  df_filt[\"combo score\"] = df_filt[\"gpa\"] / 7 + df_filt[\"gamsat\"] / 100\n",
      "C:\\Users\\mtp63\\AppData\\Local\\Temp\\ipykernel_23940\\1611296466.py:12: SettingWithCopyWarning: \n",
      "A value is trying to be set on a copy of a slice from a DataFrame.\n",
      "Try using .loc[row_indexer,col_indexer] = value instead\n",
      "\n",
      "See the caveats in the documentation: https://pandas.pydata.org/pandas-docs/stable/user_guide/indexing.html#returning-a-view-versus-a-copy\n",
      "  df_filt.loc[:, \"success\"] = df_filt.apply(lambda x: get_row_offer(x, uni), axis=1)\n",
      "c:\\Users\\mtp63\\anaconda3\\lib\\site-packages\\openpyxl\\workbook\\child.py:99: UserWarning: Title is more than 31 characters. Some applications may not be able to read the file\n",
      "  warnings.warn(\"Title is more than 31 characters. Some applications may not be able to read the file\")\n",
      "c:\\Users\\mtp63\\anaconda3\\lib\\site-packages\\openpyxl\\workbook\\child.py:99: UserWarning: Title is more than 31 characters. Some applications may not be able to read the file\n",
      "  warnings.warn(\"Title is more than 31 characters. Some applications may not be able to read the file\")\n"
     ]
    }
   ],
   "source": [
    "relative_path_out = RELATIVE_PATH_OUT + \"offers basic\"\n",
    "get_basic(offers_filt, relative_path_out)"
   ]
  },
  {
   "cell_type": "code",
   "execution_count": 146,
   "id": "71c29036",
   "metadata": {},
   "outputs": [
    {
     "name": "stderr",
     "output_type": "stream",
     "text": [
      "C:\\Users\\mtp63\\AppData\\Local\\Temp\\ipykernel_23940\\1611296466.py:6: SettingWithCopyWarning: \n",
      "A value is trying to be set on a copy of a slice from a DataFrame.\n",
      "Try using .loc[row_indexer,col_indexer] = value instead\n",
      "\n",
      "See the caveats in the documentation: https://pandas.pydata.org/pandas-docs/stable/user_guide/indexing.html#returning-a-view-versus-a-copy\n",
      "  df_filt[[\"gpa\", \"gamsat\", \"preference\"]] = df_filt.apply(lambda x: get_row_uni_info_offer(x, uni), axis=1).apply(pd.Series)\n",
      "C:\\Users\\mtp63\\AppData\\Local\\Temp\\ipykernel_23940\\1611296466.py:6: SettingWithCopyWarning: \n",
      "A value is trying to be set on a copy of a slice from a DataFrame.\n",
      "Try using .loc[row_indexer,col_indexer] = value instead\n",
      "\n",
      "See the caveats in the documentation: https://pandas.pydata.org/pandas-docs/stable/user_guide/indexing.html#returning-a-view-versus-a-copy\n",
      "  df_filt[[\"gpa\", \"gamsat\", \"preference\"]] = df_filt.apply(lambda x: get_row_uni_info_offer(x, uni), axis=1).apply(pd.Series)\n",
      "C:\\Users\\mtp63\\AppData\\Local\\Temp\\ipykernel_23940\\1611296466.py:6: SettingWithCopyWarning: \n",
      "A value is trying to be set on a copy of a slice from a DataFrame.\n",
      "Try using .loc[row_indexer,col_indexer] = value instead\n",
      "\n",
      "See the caveats in the documentation: https://pandas.pydata.org/pandas-docs/stable/user_guide/indexing.html#returning-a-view-versus-a-copy\n",
      "  df_filt[[\"gpa\", \"gamsat\", \"preference\"]] = df_filt.apply(lambda x: get_row_uni_info_offer(x, uni), axis=1).apply(pd.Series)\n",
      "C:\\Users\\mtp63\\AppData\\Local\\Temp\\ipykernel_23940\\1611296466.py:9: SettingWithCopyWarning: \n",
      "A value is trying to be set on a copy of a slice from a DataFrame.\n",
      "Try using .loc[row_indexer,col_indexer] = value instead\n",
      "\n",
      "See the caveats in the documentation: https://pandas.pydata.org/pandas-docs/stable/user_guide/indexing.html#returning-a-view-versus-a-copy\n",
      "  df_filt[\"combo score\"] = df_filt[\"gpa\"] / 7 + df_filt[\"gamsat\"] / 100\n",
      "C:\\Users\\mtp63\\AppData\\Local\\Temp\\ipykernel_23940\\1611296466.py:12: SettingWithCopyWarning: \n",
      "A value is trying to be set on a copy of a slice from a DataFrame.\n",
      "Try using .loc[row_indexer,col_indexer] = value instead\n",
      "\n",
      "See the caveats in the documentation: https://pandas.pydata.org/pandas-docs/stable/user_guide/indexing.html#returning-a-view-versus-a-copy\n",
      "  df_filt.loc[:, \"success\"] = df_filt.apply(lambda x: get_row_offer(x, uni), axis=1)\n",
      "C:\\Users\\mtp63\\AppData\\Local\\Temp\\ipykernel_23940\\1611296466.py:6: SettingWithCopyWarning: \n",
      "A value is trying to be set on a copy of a slice from a DataFrame.\n",
      "Try using .loc[row_indexer,col_indexer] = value instead\n",
      "\n",
      "See the caveats in the documentation: https://pandas.pydata.org/pandas-docs/stable/user_guide/indexing.html#returning-a-view-versus-a-copy\n",
      "  df_filt[[\"gpa\", \"gamsat\", \"preference\"]] = df_filt.apply(lambda x: get_row_uni_info_offer(x, uni), axis=1).apply(pd.Series)\n",
      "C:\\Users\\mtp63\\AppData\\Local\\Temp\\ipykernel_23940\\1611296466.py:6: SettingWithCopyWarning: \n",
      "A value is trying to be set on a copy of a slice from a DataFrame.\n",
      "Try using .loc[row_indexer,col_indexer] = value instead\n",
      "\n",
      "See the caveats in the documentation: https://pandas.pydata.org/pandas-docs/stable/user_guide/indexing.html#returning-a-view-versus-a-copy\n",
      "  df_filt[[\"gpa\", \"gamsat\", \"preference\"]] = df_filt.apply(lambda x: get_row_uni_info_offer(x, uni), axis=1).apply(pd.Series)\n",
      "C:\\Users\\mtp63\\AppData\\Local\\Temp\\ipykernel_23940\\1611296466.py:6: SettingWithCopyWarning: \n",
      "A value is trying to be set on a copy of a slice from a DataFrame.\n",
      "Try using .loc[row_indexer,col_indexer] = value instead\n",
      "\n",
      "See the caveats in the documentation: https://pandas.pydata.org/pandas-docs/stable/user_guide/indexing.html#returning-a-view-versus-a-copy\n",
      "  df_filt[[\"gpa\", \"gamsat\", \"preference\"]] = df_filt.apply(lambda x: get_row_uni_info_offer(x, uni), axis=1).apply(pd.Series)\n",
      "C:\\Users\\mtp63\\AppData\\Local\\Temp\\ipykernel_23940\\1611296466.py:9: SettingWithCopyWarning: \n",
      "A value is trying to be set on a copy of a slice from a DataFrame.\n",
      "Try using .loc[row_indexer,col_indexer] = value instead\n",
      "\n",
      "See the caveats in the documentation: https://pandas.pydata.org/pandas-docs/stable/user_guide/indexing.html#returning-a-view-versus-a-copy\n",
      "  df_filt[\"combo score\"] = df_filt[\"gpa\"] / 7 + df_filt[\"gamsat\"] / 100\n",
      "C:\\Users\\mtp63\\AppData\\Local\\Temp\\ipykernel_23940\\1611296466.py:12: SettingWithCopyWarning: \n",
      "A value is trying to be set on a copy of a slice from a DataFrame.\n",
      "Try using .loc[row_indexer,col_indexer] = value instead\n",
      "\n",
      "See the caveats in the documentation: https://pandas.pydata.org/pandas-docs/stable/user_guide/indexing.html#returning-a-view-versus-a-copy\n",
      "  df_filt.loc[:, \"success\"] = df_filt.apply(lambda x: get_row_offer(x, uni), axis=1)\n",
      "c:\\Users\\mtp63\\anaconda3\\lib\\site-packages\\openpyxl\\workbook\\child.py:99: UserWarning: Title is more than 31 characters. Some applications may not be able to read the file\n",
      "  warnings.warn(\"Title is more than 31 characters. Some applications may not be able to read the file\")\n",
      "c:\\Users\\mtp63\\anaconda3\\lib\\site-packages\\openpyxl\\workbook\\child.py:99: UserWarning: Title is more than 31 characters. Some applications may not be able to read the file\n",
      "  warnings.warn(\"Title is more than 31 characters. Some applications may not be able to read the file\")\n",
      "C:\\Users\\mtp63\\AppData\\Local\\Temp\\ipykernel_23940\\1611296466.py:6: SettingWithCopyWarning: \n",
      "A value is trying to be set on a copy of a slice from a DataFrame.\n",
      "Try using .loc[row_indexer,col_indexer] = value instead\n",
      "\n",
      "See the caveats in the documentation: https://pandas.pydata.org/pandas-docs/stable/user_guide/indexing.html#returning-a-view-versus-a-copy\n",
      "  df_filt[[\"gpa\", \"gamsat\", \"preference\"]] = df_filt.apply(lambda x: get_row_uni_info_offer(x, uni), axis=1).apply(pd.Series)\n",
      "C:\\Users\\mtp63\\AppData\\Local\\Temp\\ipykernel_23940\\1611296466.py:6: SettingWithCopyWarning: \n",
      "A value is trying to be set on a copy of a slice from a DataFrame.\n",
      "Try using .loc[row_indexer,col_indexer] = value instead\n",
      "\n",
      "See the caveats in the documentation: https://pandas.pydata.org/pandas-docs/stable/user_guide/indexing.html#returning-a-view-versus-a-copy\n",
      "  df_filt[[\"gpa\", \"gamsat\", \"preference\"]] = df_filt.apply(lambda x: get_row_uni_info_offer(x, uni), axis=1).apply(pd.Series)\n",
      "C:\\Users\\mtp63\\AppData\\Local\\Temp\\ipykernel_23940\\1611296466.py:6: SettingWithCopyWarning: \n",
      "A value is trying to be set on a copy of a slice from a DataFrame.\n",
      "Try using .loc[row_indexer,col_indexer] = value instead\n",
      "\n",
      "See the caveats in the documentation: https://pandas.pydata.org/pandas-docs/stable/user_guide/indexing.html#returning-a-view-versus-a-copy\n",
      "  df_filt[[\"gpa\", \"gamsat\", \"preference\"]] = df_filt.apply(lambda x: get_row_uni_info_offer(x, uni), axis=1).apply(pd.Series)\n",
      "C:\\Users\\mtp63\\AppData\\Local\\Temp\\ipykernel_23940\\1611296466.py:9: SettingWithCopyWarning: \n",
      "A value is trying to be set on a copy of a slice from a DataFrame.\n",
      "Try using .loc[row_indexer,col_indexer] = value instead\n",
      "\n",
      "See the caveats in the documentation: https://pandas.pydata.org/pandas-docs/stable/user_guide/indexing.html#returning-a-view-versus-a-copy\n",
      "  df_filt[\"combo score\"] = df_filt[\"gpa\"] / 7 + df_filt[\"gamsat\"] / 100\n",
      "C:\\Users\\mtp63\\AppData\\Local\\Temp\\ipykernel_23940\\1611296466.py:12: SettingWithCopyWarning: \n",
      "A value is trying to be set on a copy of a slice from a DataFrame.\n",
      "Try using .loc[row_indexer,col_indexer] = value instead\n",
      "\n",
      "See the caveats in the documentation: https://pandas.pydata.org/pandas-docs/stable/user_guide/indexing.html#returning-a-view-versus-a-copy\n",
      "  df_filt.loc[:, \"success\"] = df_filt.apply(lambda x: get_row_offer(x, uni), axis=1)\n",
      "c:\\Users\\mtp63\\anaconda3\\lib\\site-packages\\openpyxl\\workbook\\child.py:99: UserWarning: Title is more than 31 characters. Some applications may not be able to read the file\n",
      "  warnings.warn(\"Title is more than 31 characters. Some applications may not be able to read the file\")\n",
      "c:\\Users\\mtp63\\anaconda3\\lib\\site-packages\\openpyxl\\workbook\\child.py:99: UserWarning: Title is more than 31 characters. Some applications may not be able to read the file\n",
      "  warnings.warn(\"Title is more than 31 characters. Some applications may not be able to read the file\")\n",
      "c:\\Users\\mtp63\\anaconda3\\lib\\site-packages\\openpyxl\\workbook\\child.py:99: UserWarning: Title is more than 31 characters. Some applications may not be able to read the file\n",
      "  warnings.warn(\"Title is more than 31 characters. Some applications may not be able to read the file\")\n",
      "c:\\Users\\mtp63\\anaconda3\\lib\\site-packages\\openpyxl\\workbook\\child.py:99: UserWarning: Title is more than 31 characters. Some applications may not be able to read the file\n",
      "  warnings.warn(\"Title is more than 31 characters. Some applications may not be able to read the file\")\n",
      "c:\\Users\\mtp63\\anaconda3\\lib\\site-packages\\openpyxl\\workbook\\child.py:99: UserWarning: Title is more than 31 characters. Some applications may not be able to read the file\n",
      "  warnings.warn(\"Title is more than 31 characters. Some applications may not be able to read the file\")\n",
      "c:\\Users\\mtp63\\anaconda3\\lib\\site-packages\\openpyxl\\workbook\\child.py:99: UserWarning: Title is more than 31 characters. Some applications may not be able to read the file\n",
      "  warnings.warn(\"Title is more than 31 characters. Some applications may not be able to read the file\")\n",
      "C:\\Users\\mtp63\\AppData\\Local\\Temp\\ipykernel_23940\\1611296466.py:6: SettingWithCopyWarning: \n",
      "A value is trying to be set on a copy of a slice from a DataFrame.\n",
      "Try using .loc[row_indexer,col_indexer] = value instead\n",
      "\n",
      "See the caveats in the documentation: https://pandas.pydata.org/pandas-docs/stable/user_guide/indexing.html#returning-a-view-versus-a-copy\n",
      "  df_filt[[\"gpa\", \"gamsat\", \"preference\"]] = df_filt.apply(lambda x: get_row_uni_info_offer(x, uni), axis=1).apply(pd.Series)\n",
      "C:\\Users\\mtp63\\AppData\\Local\\Temp\\ipykernel_23940\\1611296466.py:6: SettingWithCopyWarning: \n",
      "A value is trying to be set on a copy of a slice from a DataFrame.\n",
      "Try using .loc[row_indexer,col_indexer] = value instead\n",
      "\n",
      "See the caveats in the documentation: https://pandas.pydata.org/pandas-docs/stable/user_guide/indexing.html#returning-a-view-versus-a-copy\n",
      "  df_filt[[\"gpa\", \"gamsat\", \"preference\"]] = df_filt.apply(lambda x: get_row_uni_info_offer(x, uni), axis=1).apply(pd.Series)\n",
      "C:\\Users\\mtp63\\AppData\\Local\\Temp\\ipykernel_23940\\1611296466.py:6: SettingWithCopyWarning: \n",
      "A value is trying to be set on a copy of a slice from a DataFrame.\n",
      "Try using .loc[row_indexer,col_indexer] = value instead\n",
      "\n",
      "See the caveats in the documentation: https://pandas.pydata.org/pandas-docs/stable/user_guide/indexing.html#returning-a-view-versus-a-copy\n",
      "  df_filt[[\"gpa\", \"gamsat\", \"preference\"]] = df_filt.apply(lambda x: get_row_uni_info_offer(x, uni), axis=1).apply(pd.Series)\n",
      "C:\\Users\\mtp63\\AppData\\Local\\Temp\\ipykernel_23940\\1611296466.py:9: SettingWithCopyWarning: \n",
      "A value is trying to be set on a copy of a slice from a DataFrame.\n",
      "Try using .loc[row_indexer,col_indexer] = value instead\n",
      "\n",
      "See the caveats in the documentation: https://pandas.pydata.org/pandas-docs/stable/user_guide/indexing.html#returning-a-view-versus-a-copy\n",
      "  df_filt[\"combo score\"] = df_filt[\"gpa\"] / 7 + df_filt[\"gamsat\"] / 100\n",
      "C:\\Users\\mtp63\\AppData\\Local\\Temp\\ipykernel_23940\\1611296466.py:12: SettingWithCopyWarning: \n",
      "A value is trying to be set on a copy of a slice from a DataFrame.\n",
      "Try using .loc[row_indexer,col_indexer] = value instead\n",
      "\n",
      "See the caveats in the documentation: https://pandas.pydata.org/pandas-docs/stable/user_guide/indexing.html#returning-a-view-versus-a-copy\n",
      "  df_filt.loc[:, \"success\"] = df_filt.apply(lambda x: get_row_offer(x, uni), axis=1)\n",
      "c:\\Users\\mtp63\\anaconda3\\lib\\site-packages\\openpyxl\\workbook\\child.py:99: UserWarning: Title is more than 31 characters. Some applications may not be able to read the file\n",
      "  warnings.warn(\"Title is more than 31 characters. Some applications may not be able to read the file\")\n",
      "c:\\Users\\mtp63\\anaconda3\\lib\\site-packages\\openpyxl\\workbook\\child.py:99: UserWarning: Title is more than 31 characters. Some applications may not be able to read the file\n",
      "  warnings.warn(\"Title is more than 31 characters. Some applications may not be able to read the file\")\n",
      "c:\\Users\\mtp63\\anaconda3\\lib\\site-packages\\openpyxl\\workbook\\child.py:99: UserWarning: Title is more than 31 characters. Some applications may not be able to read the file\n",
      "  warnings.warn(\"Title is more than 31 characters. Some applications may not be able to read the file\")\n",
      "c:\\Users\\mtp63\\anaconda3\\lib\\site-packages\\openpyxl\\workbook\\child.py:99: UserWarning: Title is more than 31 characters. Some applications may not be able to read the file\n",
      "  warnings.warn(\"Title is more than 31 characters. Some applications may not be able to read the file\")\n",
      "c:\\Users\\mtp63\\anaconda3\\lib\\site-packages\\openpyxl\\workbook\\child.py:99: UserWarning: Title is more than 31 characters. Some applications may not be able to read the file\n",
      "  warnings.warn(\"Title is more than 31 characters. Some applications may not be able to read the file\")\n",
      "c:\\Users\\mtp63\\anaconda3\\lib\\site-packages\\openpyxl\\workbook\\child.py:99: UserWarning: Title is more than 31 characters. Some applications may not be able to read the file\n",
      "  warnings.warn(\"Title is more than 31 characters. Some applications may not be able to read the file\")\n",
      "C:\\Users\\mtp63\\AppData\\Local\\Temp\\ipykernel_23940\\1611296466.py:6: SettingWithCopyWarning: \n",
      "A value is trying to be set on a copy of a slice from a DataFrame.\n",
      "Try using .loc[row_indexer,col_indexer] = value instead\n",
      "\n",
      "See the caveats in the documentation: https://pandas.pydata.org/pandas-docs/stable/user_guide/indexing.html#returning-a-view-versus-a-copy\n",
      "  df_filt[[\"gpa\", \"gamsat\", \"preference\"]] = df_filt.apply(lambda x: get_row_uni_info_offer(x, uni), axis=1).apply(pd.Series)\n",
      "C:\\Users\\mtp63\\AppData\\Local\\Temp\\ipykernel_23940\\1611296466.py:6: SettingWithCopyWarning: \n",
      "A value is trying to be set on a copy of a slice from a DataFrame.\n",
      "Try using .loc[row_indexer,col_indexer] = value instead\n",
      "\n",
      "See the caveats in the documentation: https://pandas.pydata.org/pandas-docs/stable/user_guide/indexing.html#returning-a-view-versus-a-copy\n",
      "  df_filt[[\"gpa\", \"gamsat\", \"preference\"]] = df_filt.apply(lambda x: get_row_uni_info_offer(x, uni), axis=1).apply(pd.Series)\n",
      "C:\\Users\\mtp63\\AppData\\Local\\Temp\\ipykernel_23940\\1611296466.py:6: SettingWithCopyWarning: \n",
      "A value is trying to be set on a copy of a slice from a DataFrame.\n",
      "Try using .loc[row_indexer,col_indexer] = value instead\n",
      "\n",
      "See the caveats in the documentation: https://pandas.pydata.org/pandas-docs/stable/user_guide/indexing.html#returning-a-view-versus-a-copy\n",
      "  df_filt[[\"gpa\", \"gamsat\", \"preference\"]] = df_filt.apply(lambda x: get_row_uni_info_offer(x, uni), axis=1).apply(pd.Series)\n",
      "C:\\Users\\mtp63\\AppData\\Local\\Temp\\ipykernel_23940\\1611296466.py:9: SettingWithCopyWarning: \n",
      "A value is trying to be set on a copy of a slice from a DataFrame.\n",
      "Try using .loc[row_indexer,col_indexer] = value instead\n",
      "\n",
      "See the caveats in the documentation: https://pandas.pydata.org/pandas-docs/stable/user_guide/indexing.html#returning-a-view-versus-a-copy\n",
      "  df_filt[\"combo score\"] = df_filt[\"gpa\"] / 7 + df_filt[\"gamsat\"] / 100\n",
      "C:\\Users\\mtp63\\AppData\\Local\\Temp\\ipykernel_23940\\1611296466.py:12: SettingWithCopyWarning: \n",
      "A value is trying to be set on a copy of a slice from a DataFrame.\n",
      "Try using .loc[row_indexer,col_indexer] = value instead\n",
      "\n",
      "See the caveats in the documentation: https://pandas.pydata.org/pandas-docs/stable/user_guide/indexing.html#returning-a-view-versus-a-copy\n",
      "  df_filt.loc[:, \"success\"] = df_filt.apply(lambda x: get_row_offer(x, uni), axis=1)\n",
      "c:\\Users\\mtp63\\anaconda3\\lib\\site-packages\\openpyxl\\workbook\\child.py:99: UserWarning: Title is more than 31 characters. Some applications may not be able to read the file\n",
      "  warnings.warn(\"Title is more than 31 characters. Some applications may not be able to read the file\")\n",
      "c:\\Users\\mtp63\\anaconda3\\lib\\site-packages\\openpyxl\\workbook\\child.py:99: UserWarning: Title is more than 31 characters. Some applications may not be able to read the file\n",
      "  warnings.warn(\"Title is more than 31 characters. Some applications may not be able to read the file\")\n",
      "c:\\Users\\mtp63\\anaconda3\\lib\\site-packages\\openpyxl\\workbook\\child.py:99: UserWarning: Title is more than 31 characters. Some applications may not be able to read the file\n",
      "  warnings.warn(\"Title is more than 31 characters. Some applications may not be able to read the file\")\n",
      "c:\\Users\\mtp63\\anaconda3\\lib\\site-packages\\openpyxl\\workbook\\child.py:99: UserWarning: Title is more than 31 characters. Some applications may not be able to read the file\n",
      "  warnings.warn(\"Title is more than 31 characters. Some applications may not be able to read the file\")\n",
      "c:\\Users\\mtp63\\anaconda3\\lib\\site-packages\\openpyxl\\workbook\\child.py:99: UserWarning: Title is more than 31 characters. Some applications may not be able to read the file\n",
      "  warnings.warn(\"Title is more than 31 characters. Some applications may not be able to read the file\")\n",
      "c:\\Users\\mtp63\\anaconda3\\lib\\site-packages\\openpyxl\\workbook\\child.py:99: UserWarning: Title is more than 31 characters. Some applications may not be able to read the file\n",
      "  warnings.warn(\"Title is more than 31 characters. Some applications may not be able to read the file\")\n",
      "C:\\Users\\mtp63\\AppData\\Local\\Temp\\ipykernel_23940\\1611296466.py:6: SettingWithCopyWarning: \n",
      "A value is trying to be set on a copy of a slice from a DataFrame.\n",
      "Try using .loc[row_indexer,col_indexer] = value instead\n",
      "\n",
      "See the caveats in the documentation: https://pandas.pydata.org/pandas-docs/stable/user_guide/indexing.html#returning-a-view-versus-a-copy\n",
      "  df_filt[[\"gpa\", \"gamsat\", \"preference\"]] = df_filt.apply(lambda x: get_row_uni_info_offer(x, uni), axis=1).apply(pd.Series)\n",
      "C:\\Users\\mtp63\\AppData\\Local\\Temp\\ipykernel_23940\\1611296466.py:6: SettingWithCopyWarning: \n",
      "A value is trying to be set on a copy of a slice from a DataFrame.\n",
      "Try using .loc[row_indexer,col_indexer] = value instead\n",
      "\n",
      "See the caveats in the documentation: https://pandas.pydata.org/pandas-docs/stable/user_guide/indexing.html#returning-a-view-versus-a-copy\n",
      "  df_filt[[\"gpa\", \"gamsat\", \"preference\"]] = df_filt.apply(lambda x: get_row_uni_info_offer(x, uni), axis=1).apply(pd.Series)\n",
      "C:\\Users\\mtp63\\AppData\\Local\\Temp\\ipykernel_23940\\1611296466.py:6: SettingWithCopyWarning: \n",
      "A value is trying to be set on a copy of a slice from a DataFrame.\n",
      "Try using .loc[row_indexer,col_indexer] = value instead\n",
      "\n",
      "See the caveats in the documentation: https://pandas.pydata.org/pandas-docs/stable/user_guide/indexing.html#returning-a-view-versus-a-copy\n",
      "  df_filt[[\"gpa\", \"gamsat\", \"preference\"]] = df_filt.apply(lambda x: get_row_uni_info_offer(x, uni), axis=1).apply(pd.Series)\n",
      "C:\\Users\\mtp63\\AppData\\Local\\Temp\\ipykernel_23940\\1611296466.py:9: SettingWithCopyWarning: \n",
      "A value is trying to be set on a copy of a slice from a DataFrame.\n",
      "Try using .loc[row_indexer,col_indexer] = value instead\n",
      "\n",
      "See the caveats in the documentation: https://pandas.pydata.org/pandas-docs/stable/user_guide/indexing.html#returning-a-view-versus-a-copy\n",
      "  df_filt[\"combo score\"] = df_filt[\"gpa\"] / 7 + df_filt[\"gamsat\"] / 100\n",
      "C:\\Users\\mtp63\\AppData\\Local\\Temp\\ipykernel_23940\\1611296466.py:12: SettingWithCopyWarning: \n",
      "A value is trying to be set on a copy of a slice from a DataFrame.\n",
      "Try using .loc[row_indexer,col_indexer] = value instead\n",
      "\n",
      "See the caveats in the documentation: https://pandas.pydata.org/pandas-docs/stable/user_guide/indexing.html#returning-a-view-versus-a-copy\n",
      "  df_filt.loc[:, \"success\"] = df_filt.apply(lambda x: get_row_offer(x, uni), axis=1)\n",
      "c:\\Users\\mtp63\\anaconda3\\lib\\site-packages\\openpyxl\\workbook\\child.py:99: UserWarning: Title is more than 31 characters. Some applications may not be able to read the file\n",
      "  warnings.warn(\"Title is more than 31 characters. Some applications may not be able to read the file\")\n",
      "c:\\Users\\mtp63\\anaconda3\\lib\\site-packages\\openpyxl\\workbook\\child.py:99: UserWarning: Title is more than 31 characters. Some applications may not be able to read the file\n",
      "  warnings.warn(\"Title is more than 31 characters. Some applications may not be able to read the file\")\n",
      "c:\\Users\\mtp63\\anaconda3\\lib\\site-packages\\openpyxl\\workbook\\child.py:99: UserWarning: Title is more than 31 characters. Some applications may not be able to read the file\n",
      "  warnings.warn(\"Title is more than 31 characters. Some applications may not be able to read the file\")\n",
      "c:\\Users\\mtp63\\anaconda3\\lib\\site-packages\\openpyxl\\workbook\\child.py:99: UserWarning: Title is more than 31 characters. Some applications may not be able to read the file\n",
      "  warnings.warn(\"Title is more than 31 characters. Some applications may not be able to read the file\")\n",
      "c:\\Users\\mtp63\\anaconda3\\lib\\site-packages\\openpyxl\\workbook\\child.py:99: UserWarning: Title is more than 31 characters. Some applications may not be able to read the file\n",
      "  warnings.warn(\"Title is more than 31 characters. Some applications may not be able to read the file\")\n",
      "c:\\Users\\mtp63\\anaconda3\\lib\\site-packages\\openpyxl\\workbook\\child.py:99: UserWarning: Title is more than 31 characters. Some applications may not be able to read the file\n",
      "  warnings.warn(\"Title is more than 31 characters. Some applications may not be able to read the file\")\n",
      "C:\\Users\\mtp63\\AppData\\Local\\Temp\\ipykernel_23940\\1611296466.py:6: SettingWithCopyWarning: \n",
      "A value is trying to be set on a copy of a slice from a DataFrame.\n",
      "Try using .loc[row_indexer,col_indexer] = value instead\n",
      "\n",
      "See the caveats in the documentation: https://pandas.pydata.org/pandas-docs/stable/user_guide/indexing.html#returning-a-view-versus-a-copy\n",
      "  df_filt[[\"gpa\", \"gamsat\", \"preference\"]] = df_filt.apply(lambda x: get_row_uni_info_offer(x, uni), axis=1).apply(pd.Series)\n",
      "C:\\Users\\mtp63\\AppData\\Local\\Temp\\ipykernel_23940\\1611296466.py:6: SettingWithCopyWarning: \n",
      "A value is trying to be set on a copy of a slice from a DataFrame.\n",
      "Try using .loc[row_indexer,col_indexer] = value instead\n",
      "\n",
      "See the caveats in the documentation: https://pandas.pydata.org/pandas-docs/stable/user_guide/indexing.html#returning-a-view-versus-a-copy\n",
      "  df_filt[[\"gpa\", \"gamsat\", \"preference\"]] = df_filt.apply(lambda x: get_row_uni_info_offer(x, uni), axis=1).apply(pd.Series)\n",
      "C:\\Users\\mtp63\\AppData\\Local\\Temp\\ipykernel_23940\\1611296466.py:6: SettingWithCopyWarning: \n",
      "A value is trying to be set on a copy of a slice from a DataFrame.\n",
      "Try using .loc[row_indexer,col_indexer] = value instead\n",
      "\n",
      "See the caveats in the documentation: https://pandas.pydata.org/pandas-docs/stable/user_guide/indexing.html#returning-a-view-versus-a-copy\n",
      "  df_filt[[\"gpa\", \"gamsat\", \"preference\"]] = df_filt.apply(lambda x: get_row_uni_info_offer(x, uni), axis=1).apply(pd.Series)\n",
      "C:\\Users\\mtp63\\AppData\\Local\\Temp\\ipykernel_23940\\1611296466.py:9: SettingWithCopyWarning: \n",
      "A value is trying to be set on a copy of a slice from a DataFrame.\n",
      "Try using .loc[row_indexer,col_indexer] = value instead\n",
      "\n",
      "See the caveats in the documentation: https://pandas.pydata.org/pandas-docs/stable/user_guide/indexing.html#returning-a-view-versus-a-copy\n",
      "  df_filt[\"combo score\"] = df_filt[\"gpa\"] / 7 + df_filt[\"gamsat\"] / 100\n",
      "C:\\Users\\mtp63\\AppData\\Local\\Temp\\ipykernel_23940\\1611296466.py:12: SettingWithCopyWarning: \n",
      "A value is trying to be set on a copy of a slice from a DataFrame.\n",
      "Try using .loc[row_indexer,col_indexer] = value instead\n",
      "\n",
      "See the caveats in the documentation: https://pandas.pydata.org/pandas-docs/stable/user_guide/indexing.html#returning-a-view-versus-a-copy\n",
      "  df_filt.loc[:, \"success\"] = df_filt.apply(lambda x: get_row_offer(x, uni), axis=1)\n",
      "c:\\Users\\mtp63\\anaconda3\\lib\\site-packages\\openpyxl\\workbook\\child.py:99: UserWarning: Title is more than 31 characters. Some applications may not be able to read the file\n",
      "  warnings.warn(\"Title is more than 31 characters. Some applications may not be able to read the file\")\n",
      "c:\\Users\\mtp63\\anaconda3\\lib\\site-packages\\openpyxl\\workbook\\child.py:99: UserWarning: Title is more than 31 characters. Some applications may not be able to read the file\n",
      "  warnings.warn(\"Title is more than 31 characters. Some applications may not be able to read the file\")\n",
      "c:\\Users\\mtp63\\anaconda3\\lib\\site-packages\\openpyxl\\workbook\\child.py:99: UserWarning: Title is more than 31 characters. Some applications may not be able to read the file\n",
      "  warnings.warn(\"Title is more than 31 characters. Some applications may not be able to read the file\")\n",
      "c:\\Users\\mtp63\\anaconda3\\lib\\site-packages\\openpyxl\\workbook\\child.py:99: UserWarning: Title is more than 31 characters. Some applications may not be able to read the file\n",
      "  warnings.warn(\"Title is more than 31 characters. Some applications may not be able to read the file\")\n",
      "c:\\Users\\mtp63\\anaconda3\\lib\\site-packages\\openpyxl\\workbook\\child.py:99: UserWarning: Title is more than 31 characters. Some applications may not be able to read the file\n",
      "  warnings.warn(\"Title is more than 31 characters. Some applications may not be able to read the file\")\n",
      "c:\\Users\\mtp63\\anaconda3\\lib\\site-packages\\openpyxl\\workbook\\child.py:99: UserWarning: Title is more than 31 characters. Some applications may not be able to read the file\n",
      "  warnings.warn(\"Title is more than 31 characters. Some applications may not be able to read the file\")\n",
      "C:\\Users\\mtp63\\AppData\\Local\\Temp\\ipykernel_23940\\1611296466.py:6: SettingWithCopyWarning: \n",
      "A value is trying to be set on a copy of a slice from a DataFrame.\n",
      "Try using .loc[row_indexer,col_indexer] = value instead\n",
      "\n",
      "See the caveats in the documentation: https://pandas.pydata.org/pandas-docs/stable/user_guide/indexing.html#returning-a-view-versus-a-copy\n",
      "  df_filt[[\"gpa\", \"gamsat\", \"preference\"]] = df_filt.apply(lambda x: get_row_uni_info_offer(x, uni), axis=1).apply(pd.Series)\n",
      "C:\\Users\\mtp63\\AppData\\Local\\Temp\\ipykernel_23940\\1611296466.py:6: SettingWithCopyWarning: \n",
      "A value is trying to be set on a copy of a slice from a DataFrame.\n",
      "Try using .loc[row_indexer,col_indexer] = value instead\n",
      "\n",
      "See the caveats in the documentation: https://pandas.pydata.org/pandas-docs/stable/user_guide/indexing.html#returning-a-view-versus-a-copy\n",
      "  df_filt[[\"gpa\", \"gamsat\", \"preference\"]] = df_filt.apply(lambda x: get_row_uni_info_offer(x, uni), axis=1).apply(pd.Series)\n",
      "C:\\Users\\mtp63\\AppData\\Local\\Temp\\ipykernel_23940\\1611296466.py:6: SettingWithCopyWarning: \n",
      "A value is trying to be set on a copy of a slice from a DataFrame.\n",
      "Try using .loc[row_indexer,col_indexer] = value instead\n",
      "\n",
      "See the caveats in the documentation: https://pandas.pydata.org/pandas-docs/stable/user_guide/indexing.html#returning-a-view-versus-a-copy\n",
      "  df_filt[[\"gpa\", \"gamsat\", \"preference\"]] = df_filt.apply(lambda x: get_row_uni_info_offer(x, uni), axis=1).apply(pd.Series)\n",
      "C:\\Users\\mtp63\\AppData\\Local\\Temp\\ipykernel_23940\\1611296466.py:9: SettingWithCopyWarning: \n",
      "A value is trying to be set on a copy of a slice from a DataFrame.\n",
      "Try using .loc[row_indexer,col_indexer] = value instead\n",
      "\n",
      "See the caveats in the documentation: https://pandas.pydata.org/pandas-docs/stable/user_guide/indexing.html#returning-a-view-versus-a-copy\n",
      "  df_filt[\"combo score\"] = df_filt[\"gpa\"] / 7 + df_filt[\"gamsat\"] / 100\n",
      "C:\\Users\\mtp63\\AppData\\Local\\Temp\\ipykernel_23940\\1611296466.py:12: SettingWithCopyWarning: \n",
      "A value is trying to be set on a copy of a slice from a DataFrame.\n",
      "Try using .loc[row_indexer,col_indexer] = value instead\n",
      "\n",
      "See the caveats in the documentation: https://pandas.pydata.org/pandas-docs/stable/user_guide/indexing.html#returning-a-view-versus-a-copy\n",
      "  df_filt.loc[:, \"success\"] = df_filt.apply(lambda x: get_row_offer(x, uni), axis=1)\n",
      "c:\\Users\\mtp63\\anaconda3\\lib\\site-packages\\openpyxl\\workbook\\child.py:99: UserWarning: Title is more than 31 characters. Some applications may not be able to read the file\n",
      "  warnings.warn(\"Title is more than 31 characters. Some applications may not be able to read the file\")\n",
      "c:\\Users\\mtp63\\anaconda3\\lib\\site-packages\\openpyxl\\workbook\\child.py:99: UserWarning: Title is more than 31 characters. Some applications may not be able to read the file\n",
      "  warnings.warn(\"Title is more than 31 characters. Some applications may not be able to read the file\")\n",
      "c:\\Users\\mtp63\\anaconda3\\lib\\site-packages\\openpyxl\\workbook\\child.py:99: UserWarning: Title is more than 31 characters. Some applications may not be able to read the file\n",
      "  warnings.warn(\"Title is more than 31 characters. Some applications may not be able to read the file\")\n",
      "c:\\Users\\mtp63\\anaconda3\\lib\\site-packages\\openpyxl\\workbook\\child.py:99: UserWarning: Title is more than 31 characters. Some applications may not be able to read the file\n",
      "  warnings.warn(\"Title is more than 31 characters. Some applications may not be able to read the file\")\n",
      "c:\\Users\\mtp63\\anaconda3\\lib\\site-packages\\openpyxl\\workbook\\child.py:99: UserWarning: Title is more than 31 characters. Some applications may not be able to read the file\n",
      "  warnings.warn(\"Title is more than 31 characters. Some applications may not be able to read the file\")\n",
      "c:\\Users\\mtp63\\anaconda3\\lib\\site-packages\\openpyxl\\workbook\\child.py:99: UserWarning: Title is more than 31 characters. Some applications may not be able to read the file\n",
      "  warnings.warn(\"Title is more than 31 characters. Some applications may not be able to read the file\")\n",
      "C:\\Users\\mtp63\\AppData\\Local\\Temp\\ipykernel_23940\\1611296466.py:6: SettingWithCopyWarning: \n",
      "A value is trying to be set on a copy of a slice from a DataFrame.\n",
      "Try using .loc[row_indexer,col_indexer] = value instead\n",
      "\n",
      "See the caveats in the documentation: https://pandas.pydata.org/pandas-docs/stable/user_guide/indexing.html#returning-a-view-versus-a-copy\n",
      "  df_filt[[\"gpa\", \"gamsat\", \"preference\"]] = df_filt.apply(lambda x: get_row_uni_info_offer(x, uni), axis=1).apply(pd.Series)\n",
      "C:\\Users\\mtp63\\AppData\\Local\\Temp\\ipykernel_23940\\1611296466.py:6: SettingWithCopyWarning: \n",
      "A value is trying to be set on a copy of a slice from a DataFrame.\n",
      "Try using .loc[row_indexer,col_indexer] = value instead\n",
      "\n",
      "See the caveats in the documentation: https://pandas.pydata.org/pandas-docs/stable/user_guide/indexing.html#returning-a-view-versus-a-copy\n",
      "  df_filt[[\"gpa\", \"gamsat\", \"preference\"]] = df_filt.apply(lambda x: get_row_uni_info_offer(x, uni), axis=1).apply(pd.Series)\n",
      "C:\\Users\\mtp63\\AppData\\Local\\Temp\\ipykernel_23940\\1611296466.py:6: SettingWithCopyWarning: \n",
      "A value is trying to be set on a copy of a slice from a DataFrame.\n",
      "Try using .loc[row_indexer,col_indexer] = value instead\n",
      "\n",
      "See the caveats in the documentation: https://pandas.pydata.org/pandas-docs/stable/user_guide/indexing.html#returning-a-view-versus-a-copy\n",
      "  df_filt[[\"gpa\", \"gamsat\", \"preference\"]] = df_filt.apply(lambda x: get_row_uni_info_offer(x, uni), axis=1).apply(pd.Series)\n",
      "C:\\Users\\mtp63\\AppData\\Local\\Temp\\ipykernel_23940\\1611296466.py:9: SettingWithCopyWarning: \n",
      "A value is trying to be set on a copy of a slice from a DataFrame.\n",
      "Try using .loc[row_indexer,col_indexer] = value instead\n",
      "\n",
      "See the caveats in the documentation: https://pandas.pydata.org/pandas-docs/stable/user_guide/indexing.html#returning-a-view-versus-a-copy\n",
      "  df_filt[\"combo score\"] = df_filt[\"gpa\"] / 7 + df_filt[\"gamsat\"] / 100\n",
      "C:\\Users\\mtp63\\AppData\\Local\\Temp\\ipykernel_23940\\1611296466.py:12: SettingWithCopyWarning: \n",
      "A value is trying to be set on a copy of a slice from a DataFrame.\n",
      "Try using .loc[row_indexer,col_indexer] = value instead\n",
      "\n",
      "See the caveats in the documentation: https://pandas.pydata.org/pandas-docs/stable/user_guide/indexing.html#returning-a-view-versus-a-copy\n",
      "  df_filt.loc[:, \"success\"] = df_filt.apply(lambda x: get_row_offer(x, uni), axis=1)\n",
      "c:\\Users\\mtp63\\anaconda3\\lib\\site-packages\\openpyxl\\workbook\\child.py:99: UserWarning: Title is more than 31 characters. Some applications may not be able to read the file\n",
      "  warnings.warn(\"Title is more than 31 characters. Some applications may not be able to read the file\")\n",
      "c:\\Users\\mtp63\\anaconda3\\lib\\site-packages\\openpyxl\\workbook\\child.py:99: UserWarning: Title is more than 31 characters. Some applications may not be able to read the file\n",
      "  warnings.warn(\"Title is more than 31 characters. Some applications may not be able to read the file\")\n",
      "c:\\Users\\mtp63\\anaconda3\\lib\\site-packages\\openpyxl\\workbook\\child.py:99: UserWarning: Title is more than 31 characters. Some applications may not be able to read the file\n",
      "  warnings.warn(\"Title is more than 31 characters. Some applications may not be able to read the file\")\n",
      "c:\\Users\\mtp63\\anaconda3\\lib\\site-packages\\openpyxl\\workbook\\child.py:99: UserWarning: Title is more than 31 characters. Some applications may not be able to read the file\n",
      "  warnings.warn(\"Title is more than 31 characters. Some applications may not be able to read the file\")\n",
      "c:\\Users\\mtp63\\anaconda3\\lib\\site-packages\\openpyxl\\workbook\\child.py:99: UserWarning: Title is more than 31 characters. Some applications may not be able to read the file\n",
      "  warnings.warn(\"Title is more than 31 characters. Some applications may not be able to read the file\")\n",
      "c:\\Users\\mtp63\\anaconda3\\lib\\site-packages\\openpyxl\\workbook\\child.py:99: UserWarning: Title is more than 31 characters. Some applications may not be able to read the file\n",
      "  warnings.warn(\"Title is more than 31 characters. Some applications may not be able to read the file\")\n",
      "C:\\Users\\mtp63\\AppData\\Local\\Temp\\ipykernel_23940\\1611296466.py:6: SettingWithCopyWarning: \n",
      "A value is trying to be set on a copy of a slice from a DataFrame.\n",
      "Try using .loc[row_indexer,col_indexer] = value instead\n",
      "\n",
      "See the caveats in the documentation: https://pandas.pydata.org/pandas-docs/stable/user_guide/indexing.html#returning-a-view-versus-a-copy\n",
      "  df_filt[[\"gpa\", \"gamsat\", \"preference\"]] = df_filt.apply(lambda x: get_row_uni_info_offer(x, uni), axis=1).apply(pd.Series)\n",
      "C:\\Users\\mtp63\\AppData\\Local\\Temp\\ipykernel_23940\\1611296466.py:6: SettingWithCopyWarning: \n",
      "A value is trying to be set on a copy of a slice from a DataFrame.\n",
      "Try using .loc[row_indexer,col_indexer] = value instead\n",
      "\n",
      "See the caveats in the documentation: https://pandas.pydata.org/pandas-docs/stable/user_guide/indexing.html#returning-a-view-versus-a-copy\n",
      "  df_filt[[\"gpa\", \"gamsat\", \"preference\"]] = df_filt.apply(lambda x: get_row_uni_info_offer(x, uni), axis=1).apply(pd.Series)\n",
      "C:\\Users\\mtp63\\AppData\\Local\\Temp\\ipykernel_23940\\1611296466.py:6: SettingWithCopyWarning: \n",
      "A value is trying to be set on a copy of a slice from a DataFrame.\n",
      "Try using .loc[row_indexer,col_indexer] = value instead\n",
      "\n",
      "See the caveats in the documentation: https://pandas.pydata.org/pandas-docs/stable/user_guide/indexing.html#returning-a-view-versus-a-copy\n",
      "  df_filt[[\"gpa\", \"gamsat\", \"preference\"]] = df_filt.apply(lambda x: get_row_uni_info_offer(x, uni), axis=1).apply(pd.Series)\n",
      "C:\\Users\\mtp63\\AppData\\Local\\Temp\\ipykernel_23940\\1611296466.py:9: SettingWithCopyWarning: \n",
      "A value is trying to be set on a copy of a slice from a DataFrame.\n",
      "Try using .loc[row_indexer,col_indexer] = value instead\n",
      "\n",
      "See the caveats in the documentation: https://pandas.pydata.org/pandas-docs/stable/user_guide/indexing.html#returning-a-view-versus-a-copy\n",
      "  df_filt[\"combo score\"] = df_filt[\"gpa\"] / 7 + df_filt[\"gamsat\"] / 100\n",
      "C:\\Users\\mtp63\\AppData\\Local\\Temp\\ipykernel_23940\\1611296466.py:12: SettingWithCopyWarning: \n",
      "A value is trying to be set on a copy of a slice from a DataFrame.\n",
      "Try using .loc[row_indexer,col_indexer] = value instead\n",
      "\n",
      "See the caveats in the documentation: https://pandas.pydata.org/pandas-docs/stable/user_guide/indexing.html#returning-a-view-versus-a-copy\n",
      "  df_filt.loc[:, \"success\"] = df_filt.apply(lambda x: get_row_offer(x, uni), axis=1)\n",
      "c:\\Users\\mtp63\\anaconda3\\lib\\site-packages\\openpyxl\\workbook\\child.py:99: UserWarning: Title is more than 31 characters. Some applications may not be able to read the file\n",
      "  warnings.warn(\"Title is more than 31 characters. Some applications may not be able to read the file\")\n",
      "c:\\Users\\mtp63\\anaconda3\\lib\\site-packages\\openpyxl\\workbook\\child.py:99: UserWarning: Title is more than 31 characters. Some applications may not be able to read the file\n",
      "  warnings.warn(\"Title is more than 31 characters. Some applications may not be able to read the file\")\n",
      "c:\\Users\\mtp63\\anaconda3\\lib\\site-packages\\openpyxl\\workbook\\child.py:99: UserWarning: Title is more than 31 characters. Some applications may not be able to read the file\n",
      "  warnings.warn(\"Title is more than 31 characters. Some applications may not be able to read the file\")\n",
      "c:\\Users\\mtp63\\anaconda3\\lib\\site-packages\\openpyxl\\workbook\\child.py:99: UserWarning: Title is more than 31 characters. Some applications may not be able to read the file\n",
      "  warnings.warn(\"Title is more than 31 characters. Some applications may not be able to read the file\")\n"
     ]
    }
   ],
   "source": [
    "relative_path_out = RELATIVE_PATH_OUT + \"offers basic anu\"\n",
    "get_basic_anu(offers_filt, relative_path_out)"
   ]
  },
  {
   "cell_type": "markdown",
   "id": "43919984",
   "metadata": {},
   "source": [
    "#### Histograms"
   ]
  },
  {
   "cell_type": "code",
   "execution_count": 147,
   "id": "13393032",
   "metadata": {},
   "outputs": [],
   "source": [
    "COMBO_BINS = [round(1.54 + x*0.02, 3) for x in range(16+1)]\n",
    "\n",
    "def get_histogram_offer(df, uni_name, relative_path, csv=True):\n",
    "    # get the filtered df\n",
    "    uni_offer = get_uni_gpa_offer(df, uni_name)\n",
    "    uni_offer_success = uni_offer[uni_offer[\"success\"] == \"accepted\"]\n",
    "\n",
    "    for year in [2022, 2023, False]:\n",
    "        uni_offer_success_filt = filter_frame(uni_offer_success, year=year)\n",
    "\n",
    "        if (uni_offer_success_filt.empty):\n",
    "            continue\n",
    "\n",
    "        # get the histogram\n",
    "        plt.hist(uni_offer_success_filt[\"combo score\"].values, bins=COMBO_BINS, alpha=0.7)\n",
    "\n",
    "        # git information\n",
    "        plt.xlabel(\"combo score binned\")\n",
    "        plt.ylabel(\"frequency\")\n",
    "\n",
    "        if (not year):\n",
    "            year = \"all\"\n",
    "\n",
    "        plt.title(f\"{uni_name} {year} ({uni_offer_success_filt.shape[0]})\")\n",
    "\n",
    "        plt.savefig(f\"{relative_path}/{uni_name} {year}.png\")\n",
    "\n",
    "        if (csv):\n",
    "            uni_offer_success_filt.to_csv(f\"{relative_path}/{uni_name} {year}.csv\", index=False)\n",
    "\n",
    "        plt.close()"
   ]
  },
  {
   "cell_type": "code",
   "execution_count": 148,
   "id": "017ddcf7",
   "metadata": {},
   "outputs": [
    {
     "name": "stderr",
     "output_type": "stream",
     "text": [
      "C:\\Users\\mtp63\\AppData\\Local\\Temp\\ipykernel_23940\\1611296466.py:6: SettingWithCopyWarning: \n",
      "A value is trying to be set on a copy of a slice from a DataFrame.\n",
      "Try using .loc[row_indexer,col_indexer] = value instead\n",
      "\n",
      "See the caveats in the documentation: https://pandas.pydata.org/pandas-docs/stable/user_guide/indexing.html#returning-a-view-versus-a-copy\n",
      "  df_filt[[\"gpa\", \"gamsat\", \"preference\"]] = df_filt.apply(lambda x: get_row_uni_info_offer(x, uni), axis=1).apply(pd.Series)\n",
      "C:\\Users\\mtp63\\AppData\\Local\\Temp\\ipykernel_23940\\1611296466.py:6: SettingWithCopyWarning: \n",
      "A value is trying to be set on a copy of a slice from a DataFrame.\n",
      "Try using .loc[row_indexer,col_indexer] = value instead\n",
      "\n",
      "See the caveats in the documentation: https://pandas.pydata.org/pandas-docs/stable/user_guide/indexing.html#returning-a-view-versus-a-copy\n",
      "  df_filt[[\"gpa\", \"gamsat\", \"preference\"]] = df_filt.apply(lambda x: get_row_uni_info_offer(x, uni), axis=1).apply(pd.Series)\n",
      "C:\\Users\\mtp63\\AppData\\Local\\Temp\\ipykernel_23940\\1611296466.py:6: SettingWithCopyWarning: \n",
      "A value is trying to be set on a copy of a slice from a DataFrame.\n",
      "Try using .loc[row_indexer,col_indexer] = value instead\n",
      "\n",
      "See the caveats in the documentation: https://pandas.pydata.org/pandas-docs/stable/user_guide/indexing.html#returning-a-view-versus-a-copy\n",
      "  df_filt[[\"gpa\", \"gamsat\", \"preference\"]] = df_filt.apply(lambda x: get_row_uni_info_offer(x, uni), axis=1).apply(pd.Series)\n",
      "C:\\Users\\mtp63\\AppData\\Local\\Temp\\ipykernel_23940\\1611296466.py:9: SettingWithCopyWarning: \n",
      "A value is trying to be set on a copy of a slice from a DataFrame.\n",
      "Try using .loc[row_indexer,col_indexer] = value instead\n",
      "\n",
      "See the caveats in the documentation: https://pandas.pydata.org/pandas-docs/stable/user_guide/indexing.html#returning-a-view-versus-a-copy\n",
      "  df_filt[\"combo score\"] = df_filt[\"gpa\"] / 7 + df_filt[\"gamsat\"] / 100\n",
      "C:\\Users\\mtp63\\AppData\\Local\\Temp\\ipykernel_23940\\1611296466.py:12: SettingWithCopyWarning: \n",
      "A value is trying to be set on a copy of a slice from a DataFrame.\n",
      "Try using .loc[row_indexer,col_indexer] = value instead\n",
      "\n",
      "See the caveats in the documentation: https://pandas.pydata.org/pandas-docs/stable/user_guide/indexing.html#returning-a-view-versus-a-copy\n",
      "  df_filt.loc[:, \"success\"] = df_filt.apply(lambda x: get_row_offer(x, uni), axis=1)\n",
      "C:\\Users\\mtp63\\AppData\\Local\\Temp\\ipykernel_23940\\1611296466.py:6: SettingWithCopyWarning: \n",
      "A value is trying to be set on a copy of a slice from a DataFrame.\n",
      "Try using .loc[row_indexer,col_indexer] = value instead\n",
      "\n",
      "See the caveats in the documentation: https://pandas.pydata.org/pandas-docs/stable/user_guide/indexing.html#returning-a-view-versus-a-copy\n",
      "  df_filt[[\"gpa\", \"gamsat\", \"preference\"]] = df_filt.apply(lambda x: get_row_uni_info_offer(x, uni), axis=1).apply(pd.Series)\n",
      "C:\\Users\\mtp63\\AppData\\Local\\Temp\\ipykernel_23940\\1611296466.py:6: SettingWithCopyWarning: \n",
      "A value is trying to be set on a copy of a slice from a DataFrame.\n",
      "Try using .loc[row_indexer,col_indexer] = value instead\n",
      "\n",
      "See the caveats in the documentation: https://pandas.pydata.org/pandas-docs/stable/user_guide/indexing.html#returning-a-view-versus-a-copy\n",
      "  df_filt[[\"gpa\", \"gamsat\", \"preference\"]] = df_filt.apply(lambda x: get_row_uni_info_offer(x, uni), axis=1).apply(pd.Series)\n",
      "C:\\Users\\mtp63\\AppData\\Local\\Temp\\ipykernel_23940\\1611296466.py:6: SettingWithCopyWarning: \n",
      "A value is trying to be set on a copy of a slice from a DataFrame.\n",
      "Try using .loc[row_indexer,col_indexer] = value instead\n",
      "\n",
      "See the caveats in the documentation: https://pandas.pydata.org/pandas-docs/stable/user_guide/indexing.html#returning-a-view-versus-a-copy\n",
      "  df_filt[[\"gpa\", \"gamsat\", \"preference\"]] = df_filt.apply(lambda x: get_row_uni_info_offer(x, uni), axis=1).apply(pd.Series)\n",
      "C:\\Users\\mtp63\\AppData\\Local\\Temp\\ipykernel_23940\\1611296466.py:9: SettingWithCopyWarning: \n",
      "A value is trying to be set on a copy of a slice from a DataFrame.\n",
      "Try using .loc[row_indexer,col_indexer] = value instead\n",
      "\n",
      "See the caveats in the documentation: https://pandas.pydata.org/pandas-docs/stable/user_guide/indexing.html#returning-a-view-versus-a-copy\n",
      "  df_filt[\"combo score\"] = df_filt[\"gpa\"] / 7 + df_filt[\"gamsat\"] / 100\n",
      "C:\\Users\\mtp63\\AppData\\Local\\Temp\\ipykernel_23940\\1611296466.py:12: SettingWithCopyWarning: \n",
      "A value is trying to be set on a copy of a slice from a DataFrame.\n",
      "Try using .loc[row_indexer,col_indexer] = value instead\n",
      "\n",
      "See the caveats in the documentation: https://pandas.pydata.org/pandas-docs/stable/user_guide/indexing.html#returning-a-view-versus-a-copy\n",
      "  df_filt.loc[:, \"success\"] = df_filt.apply(lambda x: get_row_offer(x, uni), axis=1)\n",
      "C:\\Users\\mtp63\\AppData\\Local\\Temp\\ipykernel_23940\\1611296466.py:6: SettingWithCopyWarning: \n",
      "A value is trying to be set on a copy of a slice from a DataFrame.\n",
      "Try using .loc[row_indexer,col_indexer] = value instead\n",
      "\n",
      "See the caveats in the documentation: https://pandas.pydata.org/pandas-docs/stable/user_guide/indexing.html#returning-a-view-versus-a-copy\n",
      "  df_filt[[\"gpa\", \"gamsat\", \"preference\"]] = df_filt.apply(lambda x: get_row_uni_info_offer(x, uni), axis=1).apply(pd.Series)\n",
      "C:\\Users\\mtp63\\AppData\\Local\\Temp\\ipykernel_23940\\1611296466.py:6: SettingWithCopyWarning: \n",
      "A value is trying to be set on a copy of a slice from a DataFrame.\n",
      "Try using .loc[row_indexer,col_indexer] = value instead\n",
      "\n",
      "See the caveats in the documentation: https://pandas.pydata.org/pandas-docs/stable/user_guide/indexing.html#returning-a-view-versus-a-copy\n",
      "  df_filt[[\"gpa\", \"gamsat\", \"preference\"]] = df_filt.apply(lambda x: get_row_uni_info_offer(x, uni), axis=1).apply(pd.Series)\n",
      "C:\\Users\\mtp63\\AppData\\Local\\Temp\\ipykernel_23940\\1611296466.py:6: SettingWithCopyWarning: \n",
      "A value is trying to be set on a copy of a slice from a DataFrame.\n",
      "Try using .loc[row_indexer,col_indexer] = value instead\n",
      "\n",
      "See the caveats in the documentation: https://pandas.pydata.org/pandas-docs/stable/user_guide/indexing.html#returning-a-view-versus-a-copy\n",
      "  df_filt[[\"gpa\", \"gamsat\", \"preference\"]] = df_filt.apply(lambda x: get_row_uni_info_offer(x, uni), axis=1).apply(pd.Series)\n",
      "C:\\Users\\mtp63\\AppData\\Local\\Temp\\ipykernel_23940\\1611296466.py:9: SettingWithCopyWarning: \n",
      "A value is trying to be set on a copy of a slice from a DataFrame.\n",
      "Try using .loc[row_indexer,col_indexer] = value instead\n",
      "\n",
      "See the caveats in the documentation: https://pandas.pydata.org/pandas-docs/stable/user_guide/indexing.html#returning-a-view-versus-a-copy\n",
      "  df_filt[\"combo score\"] = df_filt[\"gpa\"] / 7 + df_filt[\"gamsat\"] / 100\n",
      "C:\\Users\\mtp63\\AppData\\Local\\Temp\\ipykernel_23940\\1611296466.py:12: SettingWithCopyWarning: \n",
      "A value is trying to be set on a copy of a slice from a DataFrame.\n",
      "Try using .loc[row_indexer,col_indexer] = value instead\n",
      "\n",
      "See the caveats in the documentation: https://pandas.pydata.org/pandas-docs/stable/user_guide/indexing.html#returning-a-view-versus-a-copy\n",
      "  df_filt.loc[:, \"success\"] = df_filt.apply(lambda x: get_row_offer(x, uni), axis=1)\n",
      "C:\\Users\\mtp63\\AppData\\Local\\Temp\\ipykernel_23940\\1611296466.py:6: SettingWithCopyWarning: \n",
      "A value is trying to be set on a copy of a slice from a DataFrame.\n",
      "Try using .loc[row_indexer,col_indexer] = value instead\n",
      "\n",
      "See the caveats in the documentation: https://pandas.pydata.org/pandas-docs/stable/user_guide/indexing.html#returning-a-view-versus-a-copy\n",
      "  df_filt[[\"gpa\", \"gamsat\", \"preference\"]] = df_filt.apply(lambda x: get_row_uni_info_offer(x, uni), axis=1).apply(pd.Series)\n",
      "C:\\Users\\mtp63\\AppData\\Local\\Temp\\ipykernel_23940\\1611296466.py:6: SettingWithCopyWarning: \n",
      "A value is trying to be set on a copy of a slice from a DataFrame.\n",
      "Try using .loc[row_indexer,col_indexer] = value instead\n",
      "\n",
      "See the caveats in the documentation: https://pandas.pydata.org/pandas-docs/stable/user_guide/indexing.html#returning-a-view-versus-a-copy\n",
      "  df_filt[[\"gpa\", \"gamsat\", \"preference\"]] = df_filt.apply(lambda x: get_row_uni_info_offer(x, uni), axis=1).apply(pd.Series)\n",
      "C:\\Users\\mtp63\\AppData\\Local\\Temp\\ipykernel_23940\\1611296466.py:6: SettingWithCopyWarning: \n",
      "A value is trying to be set on a copy of a slice from a DataFrame.\n",
      "Try using .loc[row_indexer,col_indexer] = value instead\n",
      "\n",
      "See the caveats in the documentation: https://pandas.pydata.org/pandas-docs/stable/user_guide/indexing.html#returning-a-view-versus-a-copy\n",
      "  df_filt[[\"gpa\", \"gamsat\", \"preference\"]] = df_filt.apply(lambda x: get_row_uni_info_offer(x, uni), axis=1).apply(pd.Series)\n",
      "C:\\Users\\mtp63\\AppData\\Local\\Temp\\ipykernel_23940\\1611296466.py:9: SettingWithCopyWarning: \n",
      "A value is trying to be set on a copy of a slice from a DataFrame.\n",
      "Try using .loc[row_indexer,col_indexer] = value instead\n",
      "\n",
      "See the caveats in the documentation: https://pandas.pydata.org/pandas-docs/stable/user_guide/indexing.html#returning-a-view-versus-a-copy\n",
      "  df_filt[\"combo score\"] = df_filt[\"gpa\"] / 7 + df_filt[\"gamsat\"] / 100\n",
      "C:\\Users\\mtp63\\AppData\\Local\\Temp\\ipykernel_23940\\1611296466.py:12: SettingWithCopyWarning: \n",
      "A value is trying to be set on a copy of a slice from a DataFrame.\n",
      "Try using .loc[row_indexer,col_indexer] = value instead\n",
      "\n",
      "See the caveats in the documentation: https://pandas.pydata.org/pandas-docs/stable/user_guide/indexing.html#returning-a-view-versus-a-copy\n",
      "  df_filt.loc[:, \"success\"] = df_filt.apply(lambda x: get_row_offer(x, uni), axis=1)\n",
      "C:\\Users\\mtp63\\AppData\\Local\\Temp\\ipykernel_23940\\1611296466.py:6: SettingWithCopyWarning: \n",
      "A value is trying to be set on a copy of a slice from a DataFrame.\n",
      "Try using .loc[row_indexer,col_indexer] = value instead\n",
      "\n",
      "See the caveats in the documentation: https://pandas.pydata.org/pandas-docs/stable/user_guide/indexing.html#returning-a-view-versus-a-copy\n",
      "  df_filt[[\"gpa\", \"gamsat\", \"preference\"]] = df_filt.apply(lambda x: get_row_uni_info_offer(x, uni), axis=1).apply(pd.Series)\n",
      "C:\\Users\\mtp63\\AppData\\Local\\Temp\\ipykernel_23940\\1611296466.py:6: SettingWithCopyWarning: \n",
      "A value is trying to be set on a copy of a slice from a DataFrame.\n",
      "Try using .loc[row_indexer,col_indexer] = value instead\n",
      "\n",
      "See the caveats in the documentation: https://pandas.pydata.org/pandas-docs/stable/user_guide/indexing.html#returning-a-view-versus-a-copy\n",
      "  df_filt[[\"gpa\", \"gamsat\", \"preference\"]] = df_filt.apply(lambda x: get_row_uni_info_offer(x, uni), axis=1).apply(pd.Series)\n",
      "C:\\Users\\mtp63\\AppData\\Local\\Temp\\ipykernel_23940\\1611296466.py:6: SettingWithCopyWarning: \n",
      "A value is trying to be set on a copy of a slice from a DataFrame.\n",
      "Try using .loc[row_indexer,col_indexer] = value instead\n",
      "\n",
      "See the caveats in the documentation: https://pandas.pydata.org/pandas-docs/stable/user_guide/indexing.html#returning-a-view-versus-a-copy\n",
      "  df_filt[[\"gpa\", \"gamsat\", \"preference\"]] = df_filt.apply(lambda x: get_row_uni_info_offer(x, uni), axis=1).apply(pd.Series)\n",
      "C:\\Users\\mtp63\\AppData\\Local\\Temp\\ipykernel_23940\\1611296466.py:9: SettingWithCopyWarning: \n",
      "A value is trying to be set on a copy of a slice from a DataFrame.\n",
      "Try using .loc[row_indexer,col_indexer] = value instead\n",
      "\n",
      "See the caveats in the documentation: https://pandas.pydata.org/pandas-docs/stable/user_guide/indexing.html#returning-a-view-versus-a-copy\n",
      "  df_filt[\"combo score\"] = df_filt[\"gpa\"] / 7 + df_filt[\"gamsat\"] / 100\n",
      "C:\\Users\\mtp63\\AppData\\Local\\Temp\\ipykernel_23940\\1611296466.py:12: SettingWithCopyWarning: \n",
      "A value is trying to be set on a copy of a slice from a DataFrame.\n",
      "Try using .loc[row_indexer,col_indexer] = value instead\n",
      "\n",
      "See the caveats in the documentation: https://pandas.pydata.org/pandas-docs/stable/user_guide/indexing.html#returning-a-view-versus-a-copy\n",
      "  df_filt.loc[:, \"success\"] = df_filt.apply(lambda x: get_row_offer(x, uni), axis=1)\n",
      "C:\\Users\\mtp63\\AppData\\Local\\Temp\\ipykernel_23940\\1611296466.py:6: SettingWithCopyWarning: \n",
      "A value is trying to be set on a copy of a slice from a DataFrame.\n",
      "Try using .loc[row_indexer,col_indexer] = value instead\n",
      "\n",
      "See the caveats in the documentation: https://pandas.pydata.org/pandas-docs/stable/user_guide/indexing.html#returning-a-view-versus-a-copy\n",
      "  df_filt[[\"gpa\", \"gamsat\", \"preference\"]] = df_filt.apply(lambda x: get_row_uni_info_offer(x, uni), axis=1).apply(pd.Series)\n",
      "C:\\Users\\mtp63\\AppData\\Local\\Temp\\ipykernel_23940\\1611296466.py:6: SettingWithCopyWarning: \n",
      "A value is trying to be set on a copy of a slice from a DataFrame.\n",
      "Try using .loc[row_indexer,col_indexer] = value instead\n",
      "\n",
      "See the caveats in the documentation: https://pandas.pydata.org/pandas-docs/stable/user_guide/indexing.html#returning-a-view-versus-a-copy\n",
      "  df_filt[[\"gpa\", \"gamsat\", \"preference\"]] = df_filt.apply(lambda x: get_row_uni_info_offer(x, uni), axis=1).apply(pd.Series)\n",
      "C:\\Users\\mtp63\\AppData\\Local\\Temp\\ipykernel_23940\\1611296466.py:6: SettingWithCopyWarning: \n",
      "A value is trying to be set on a copy of a slice from a DataFrame.\n",
      "Try using .loc[row_indexer,col_indexer] = value instead\n",
      "\n",
      "See the caveats in the documentation: https://pandas.pydata.org/pandas-docs/stable/user_guide/indexing.html#returning-a-view-versus-a-copy\n",
      "  df_filt[[\"gpa\", \"gamsat\", \"preference\"]] = df_filt.apply(lambda x: get_row_uni_info_offer(x, uni), axis=1).apply(pd.Series)\n",
      "C:\\Users\\mtp63\\AppData\\Local\\Temp\\ipykernel_23940\\1611296466.py:9: SettingWithCopyWarning: \n",
      "A value is trying to be set on a copy of a slice from a DataFrame.\n",
      "Try using .loc[row_indexer,col_indexer] = value instead\n",
      "\n",
      "See the caveats in the documentation: https://pandas.pydata.org/pandas-docs/stable/user_guide/indexing.html#returning-a-view-versus-a-copy\n",
      "  df_filt[\"combo score\"] = df_filt[\"gpa\"] / 7 + df_filt[\"gamsat\"] / 100\n",
      "C:\\Users\\mtp63\\AppData\\Local\\Temp\\ipykernel_23940\\1611296466.py:12: SettingWithCopyWarning: \n",
      "A value is trying to be set on a copy of a slice from a DataFrame.\n",
      "Try using .loc[row_indexer,col_indexer] = value instead\n",
      "\n",
      "See the caveats in the documentation: https://pandas.pydata.org/pandas-docs/stable/user_guide/indexing.html#returning-a-view-versus-a-copy\n",
      "  df_filt.loc[:, \"success\"] = df_filt.apply(lambda x: get_row_offer(x, uni), axis=1)\n",
      "C:\\Users\\mtp63\\AppData\\Local\\Temp\\ipykernel_23940\\1611296466.py:6: SettingWithCopyWarning: \n",
      "A value is trying to be set on a copy of a slice from a DataFrame.\n",
      "Try using .loc[row_indexer,col_indexer] = value instead\n",
      "\n",
      "See the caveats in the documentation: https://pandas.pydata.org/pandas-docs/stable/user_guide/indexing.html#returning-a-view-versus-a-copy\n",
      "  df_filt[[\"gpa\", \"gamsat\", \"preference\"]] = df_filt.apply(lambda x: get_row_uni_info_offer(x, uni), axis=1).apply(pd.Series)\n",
      "C:\\Users\\mtp63\\AppData\\Local\\Temp\\ipykernel_23940\\1611296466.py:6: SettingWithCopyWarning: \n",
      "A value is trying to be set on a copy of a slice from a DataFrame.\n",
      "Try using .loc[row_indexer,col_indexer] = value instead\n",
      "\n",
      "See the caveats in the documentation: https://pandas.pydata.org/pandas-docs/stable/user_guide/indexing.html#returning-a-view-versus-a-copy\n",
      "  df_filt[[\"gpa\", \"gamsat\", \"preference\"]] = df_filt.apply(lambda x: get_row_uni_info_offer(x, uni), axis=1).apply(pd.Series)\n",
      "C:\\Users\\mtp63\\AppData\\Local\\Temp\\ipykernel_23940\\1611296466.py:6: SettingWithCopyWarning: \n",
      "A value is trying to be set on a copy of a slice from a DataFrame.\n",
      "Try using .loc[row_indexer,col_indexer] = value instead\n",
      "\n",
      "See the caveats in the documentation: https://pandas.pydata.org/pandas-docs/stable/user_guide/indexing.html#returning-a-view-versus-a-copy\n",
      "  df_filt[[\"gpa\", \"gamsat\", \"preference\"]] = df_filt.apply(lambda x: get_row_uni_info_offer(x, uni), axis=1).apply(pd.Series)\n",
      "C:\\Users\\mtp63\\AppData\\Local\\Temp\\ipykernel_23940\\1611296466.py:9: SettingWithCopyWarning: \n",
      "A value is trying to be set on a copy of a slice from a DataFrame.\n",
      "Try using .loc[row_indexer,col_indexer] = value instead\n",
      "\n",
      "See the caveats in the documentation: https://pandas.pydata.org/pandas-docs/stable/user_guide/indexing.html#returning-a-view-versus-a-copy\n",
      "  df_filt[\"combo score\"] = df_filt[\"gpa\"] / 7 + df_filt[\"gamsat\"] / 100\n",
      "C:\\Users\\mtp63\\AppData\\Local\\Temp\\ipykernel_23940\\1611296466.py:12: SettingWithCopyWarning: \n",
      "A value is trying to be set on a copy of a slice from a DataFrame.\n",
      "Try using .loc[row_indexer,col_indexer] = value instead\n",
      "\n",
      "See the caveats in the documentation: https://pandas.pydata.org/pandas-docs/stable/user_guide/indexing.html#returning-a-view-versus-a-copy\n",
      "  df_filt.loc[:, \"success\"] = df_filt.apply(lambda x: get_row_offer(x, uni), axis=1)\n",
      "C:\\Users\\mtp63\\AppData\\Local\\Temp\\ipykernel_23940\\1611296466.py:6: SettingWithCopyWarning: \n",
      "A value is trying to be set on a copy of a slice from a DataFrame.\n",
      "Try using .loc[row_indexer,col_indexer] = value instead\n",
      "\n",
      "See the caveats in the documentation: https://pandas.pydata.org/pandas-docs/stable/user_guide/indexing.html#returning-a-view-versus-a-copy\n",
      "  df_filt[[\"gpa\", \"gamsat\", \"preference\"]] = df_filt.apply(lambda x: get_row_uni_info_offer(x, uni), axis=1).apply(pd.Series)\n",
      "C:\\Users\\mtp63\\AppData\\Local\\Temp\\ipykernel_23940\\1611296466.py:6: SettingWithCopyWarning: \n",
      "A value is trying to be set on a copy of a slice from a DataFrame.\n",
      "Try using .loc[row_indexer,col_indexer] = value instead\n",
      "\n",
      "See the caveats in the documentation: https://pandas.pydata.org/pandas-docs/stable/user_guide/indexing.html#returning-a-view-versus-a-copy\n",
      "  df_filt[[\"gpa\", \"gamsat\", \"preference\"]] = df_filt.apply(lambda x: get_row_uni_info_offer(x, uni), axis=1).apply(pd.Series)\n",
      "C:\\Users\\mtp63\\AppData\\Local\\Temp\\ipykernel_23940\\1611296466.py:6: SettingWithCopyWarning: \n",
      "A value is trying to be set on a copy of a slice from a DataFrame.\n",
      "Try using .loc[row_indexer,col_indexer] = value instead\n",
      "\n",
      "See the caveats in the documentation: https://pandas.pydata.org/pandas-docs/stable/user_guide/indexing.html#returning-a-view-versus-a-copy\n",
      "  df_filt[[\"gpa\", \"gamsat\", \"preference\"]] = df_filt.apply(lambda x: get_row_uni_info_offer(x, uni), axis=1).apply(pd.Series)\n",
      "C:\\Users\\mtp63\\AppData\\Local\\Temp\\ipykernel_23940\\1611296466.py:9: SettingWithCopyWarning: \n",
      "A value is trying to be set on a copy of a slice from a DataFrame.\n",
      "Try using .loc[row_indexer,col_indexer] = value instead\n",
      "\n",
      "See the caveats in the documentation: https://pandas.pydata.org/pandas-docs/stable/user_guide/indexing.html#returning-a-view-versus-a-copy\n",
      "  df_filt[\"combo score\"] = df_filt[\"gpa\"] / 7 + df_filt[\"gamsat\"] / 100\n",
      "C:\\Users\\mtp63\\AppData\\Local\\Temp\\ipykernel_23940\\1611296466.py:12: SettingWithCopyWarning: \n",
      "A value is trying to be set on a copy of a slice from a DataFrame.\n",
      "Try using .loc[row_indexer,col_indexer] = value instead\n",
      "\n",
      "See the caveats in the documentation: https://pandas.pydata.org/pandas-docs/stable/user_guide/indexing.html#returning-a-view-versus-a-copy\n",
      "  df_filt.loc[:, \"success\"] = df_filt.apply(lambda x: get_row_offer(x, uni), axis=1)\n",
      "C:\\Users\\mtp63\\AppData\\Local\\Temp\\ipykernel_23940\\1611296466.py:6: SettingWithCopyWarning: \n",
      "A value is trying to be set on a copy of a slice from a DataFrame.\n",
      "Try using .loc[row_indexer,col_indexer] = value instead\n",
      "\n",
      "See the caveats in the documentation: https://pandas.pydata.org/pandas-docs/stable/user_guide/indexing.html#returning-a-view-versus-a-copy\n",
      "  df_filt[[\"gpa\", \"gamsat\", \"preference\"]] = df_filt.apply(lambda x: get_row_uni_info_offer(x, uni), axis=1).apply(pd.Series)\n",
      "C:\\Users\\mtp63\\AppData\\Local\\Temp\\ipykernel_23940\\1611296466.py:6: SettingWithCopyWarning: \n",
      "A value is trying to be set on a copy of a slice from a DataFrame.\n",
      "Try using .loc[row_indexer,col_indexer] = value instead\n",
      "\n",
      "See the caveats in the documentation: https://pandas.pydata.org/pandas-docs/stable/user_guide/indexing.html#returning-a-view-versus-a-copy\n",
      "  df_filt[[\"gpa\", \"gamsat\", \"preference\"]] = df_filt.apply(lambda x: get_row_uni_info_offer(x, uni), axis=1).apply(pd.Series)\n",
      "C:\\Users\\mtp63\\AppData\\Local\\Temp\\ipykernel_23940\\1611296466.py:6: SettingWithCopyWarning: \n",
      "A value is trying to be set on a copy of a slice from a DataFrame.\n",
      "Try using .loc[row_indexer,col_indexer] = value instead\n",
      "\n",
      "See the caveats in the documentation: https://pandas.pydata.org/pandas-docs/stable/user_guide/indexing.html#returning-a-view-versus-a-copy\n",
      "  df_filt[[\"gpa\", \"gamsat\", \"preference\"]] = df_filt.apply(lambda x: get_row_uni_info_offer(x, uni), axis=1).apply(pd.Series)\n",
      "C:\\Users\\mtp63\\AppData\\Local\\Temp\\ipykernel_23940\\1611296466.py:9: SettingWithCopyWarning: \n",
      "A value is trying to be set on a copy of a slice from a DataFrame.\n",
      "Try using .loc[row_indexer,col_indexer] = value instead\n",
      "\n",
      "See the caveats in the documentation: https://pandas.pydata.org/pandas-docs/stable/user_guide/indexing.html#returning-a-view-versus-a-copy\n",
      "  df_filt[\"combo score\"] = df_filt[\"gpa\"] / 7 + df_filt[\"gamsat\"] / 100\n",
      "C:\\Users\\mtp63\\AppData\\Local\\Temp\\ipykernel_23940\\1611296466.py:12: SettingWithCopyWarning: \n",
      "A value is trying to be set on a copy of a slice from a DataFrame.\n",
      "Try using .loc[row_indexer,col_indexer] = value instead\n",
      "\n",
      "See the caveats in the documentation: https://pandas.pydata.org/pandas-docs/stable/user_guide/indexing.html#returning-a-view-versus-a-copy\n",
      "  df_filt.loc[:, \"success\"] = df_filt.apply(lambda x: get_row_offer(x, uni), axis=1)\n",
      "C:\\Users\\mtp63\\AppData\\Local\\Temp\\ipykernel_23940\\1611296466.py:6: SettingWithCopyWarning: \n",
      "A value is trying to be set on a copy of a slice from a DataFrame.\n",
      "Try using .loc[row_indexer,col_indexer] = value instead\n",
      "\n",
      "See the caveats in the documentation: https://pandas.pydata.org/pandas-docs/stable/user_guide/indexing.html#returning-a-view-versus-a-copy\n",
      "  df_filt[[\"gpa\", \"gamsat\", \"preference\"]] = df_filt.apply(lambda x: get_row_uni_info_offer(x, uni), axis=1).apply(pd.Series)\n",
      "C:\\Users\\mtp63\\AppData\\Local\\Temp\\ipykernel_23940\\1611296466.py:6: SettingWithCopyWarning: \n",
      "A value is trying to be set on a copy of a slice from a DataFrame.\n",
      "Try using .loc[row_indexer,col_indexer] = value instead\n",
      "\n",
      "See the caveats in the documentation: https://pandas.pydata.org/pandas-docs/stable/user_guide/indexing.html#returning-a-view-versus-a-copy\n",
      "  df_filt[[\"gpa\", \"gamsat\", \"preference\"]] = df_filt.apply(lambda x: get_row_uni_info_offer(x, uni), axis=1).apply(pd.Series)\n",
      "C:\\Users\\mtp63\\AppData\\Local\\Temp\\ipykernel_23940\\1611296466.py:6: SettingWithCopyWarning: \n",
      "A value is trying to be set on a copy of a slice from a DataFrame.\n",
      "Try using .loc[row_indexer,col_indexer] = value instead\n",
      "\n",
      "See the caveats in the documentation: https://pandas.pydata.org/pandas-docs/stable/user_guide/indexing.html#returning-a-view-versus-a-copy\n",
      "  df_filt[[\"gpa\", \"gamsat\", \"preference\"]] = df_filt.apply(lambda x: get_row_uni_info_offer(x, uni), axis=1).apply(pd.Series)\n",
      "C:\\Users\\mtp63\\AppData\\Local\\Temp\\ipykernel_23940\\1611296466.py:9: SettingWithCopyWarning: \n",
      "A value is trying to be set on a copy of a slice from a DataFrame.\n",
      "Try using .loc[row_indexer,col_indexer] = value instead\n",
      "\n",
      "See the caveats in the documentation: https://pandas.pydata.org/pandas-docs/stable/user_guide/indexing.html#returning-a-view-versus-a-copy\n",
      "  df_filt[\"combo score\"] = df_filt[\"gpa\"] / 7 + df_filt[\"gamsat\"] / 100\n",
      "C:\\Users\\mtp63\\AppData\\Local\\Temp\\ipykernel_23940\\1611296466.py:12: SettingWithCopyWarning: \n",
      "A value is trying to be set on a copy of a slice from a DataFrame.\n",
      "Try using .loc[row_indexer,col_indexer] = value instead\n",
      "\n",
      "See the caveats in the documentation: https://pandas.pydata.org/pandas-docs/stable/user_guide/indexing.html#returning-a-view-versus-a-copy\n",
      "  df_filt.loc[:, \"success\"] = df_filt.apply(lambda x: get_row_offer(x, uni), axis=1)\n",
      "C:\\Users\\mtp63\\AppData\\Local\\Temp\\ipykernel_23940\\1611296466.py:6: SettingWithCopyWarning: \n",
      "A value is trying to be set on a copy of a slice from a DataFrame.\n",
      "Try using .loc[row_indexer,col_indexer] = value instead\n",
      "\n",
      "See the caveats in the documentation: https://pandas.pydata.org/pandas-docs/stable/user_guide/indexing.html#returning-a-view-versus-a-copy\n",
      "  df_filt[[\"gpa\", \"gamsat\", \"preference\"]] = df_filt.apply(lambda x: get_row_uni_info_offer(x, uni), axis=1).apply(pd.Series)\n",
      "C:\\Users\\mtp63\\AppData\\Local\\Temp\\ipykernel_23940\\1611296466.py:6: SettingWithCopyWarning: \n",
      "A value is trying to be set on a copy of a slice from a DataFrame.\n",
      "Try using .loc[row_indexer,col_indexer] = value instead\n",
      "\n",
      "See the caveats in the documentation: https://pandas.pydata.org/pandas-docs/stable/user_guide/indexing.html#returning-a-view-versus-a-copy\n",
      "  df_filt[[\"gpa\", \"gamsat\", \"preference\"]] = df_filt.apply(lambda x: get_row_uni_info_offer(x, uni), axis=1).apply(pd.Series)\n",
      "C:\\Users\\mtp63\\AppData\\Local\\Temp\\ipykernel_23940\\1611296466.py:6: SettingWithCopyWarning: \n",
      "A value is trying to be set on a copy of a slice from a DataFrame.\n",
      "Try using .loc[row_indexer,col_indexer] = value instead\n",
      "\n",
      "See the caveats in the documentation: https://pandas.pydata.org/pandas-docs/stable/user_guide/indexing.html#returning-a-view-versus-a-copy\n",
      "  df_filt[[\"gpa\", \"gamsat\", \"preference\"]] = df_filt.apply(lambda x: get_row_uni_info_offer(x, uni), axis=1).apply(pd.Series)\n",
      "C:\\Users\\mtp63\\AppData\\Local\\Temp\\ipykernel_23940\\1611296466.py:9: SettingWithCopyWarning: \n",
      "A value is trying to be set on a copy of a slice from a DataFrame.\n",
      "Try using .loc[row_indexer,col_indexer] = value instead\n",
      "\n",
      "See the caveats in the documentation: https://pandas.pydata.org/pandas-docs/stable/user_guide/indexing.html#returning-a-view-versus-a-copy\n",
      "  df_filt[\"combo score\"] = df_filt[\"gpa\"] / 7 + df_filt[\"gamsat\"] / 100\n",
      "C:\\Users\\mtp63\\AppData\\Local\\Temp\\ipykernel_23940\\1611296466.py:12: SettingWithCopyWarning: \n",
      "A value is trying to be set on a copy of a slice from a DataFrame.\n",
      "Try using .loc[row_indexer,col_indexer] = value instead\n",
      "\n",
      "See the caveats in the documentation: https://pandas.pydata.org/pandas-docs/stable/user_guide/indexing.html#returning-a-view-versus-a-copy\n",
      "  df_filt.loc[:, \"success\"] = df_filt.apply(lambda x: get_row_offer(x, uni), axis=1)\n"
     ]
    }
   ],
   "source": [
    "uniq_unis = get_unique_unis(offers[\"offer uni\"])\n",
    "relative_path_out = RELATIVE_PATH_OUT + \"offers histograms\"\n",
    "\n",
    "offers_filt_no_anu = filter_frame(offers_filt, anu=\"out\")\n",
    "\n",
    "for uni in uniq_unis:\n",
    "    get_histogram_offer(offers_filt_no_anu, uni, relative_path_out, csv=False)"
   ]
  },
  {
   "cell_type": "markdown",
   "id": "93a30b1f",
   "metadata": {},
   "source": [
    "#### Explore"
   ]
  },
  {
   "cell_type": "code",
   "execution_count": 47,
   "id": "3422efb3",
   "metadata": {},
   "outputs": [
    {
     "name": "stderr",
     "output_type": "stream",
     "text": [
      "C:\\Users\\mtp63\\AppData\\Local\\Temp\\ipykernel_3436\\492360366.py:6: SettingWithCopyWarning: \n",
      "A value is trying to be set on a copy of a slice from a DataFrame.\n",
      "Try using .loc[row_indexer,col_indexer] = value instead\n",
      "\n",
      "See the caveats in the documentation: https://pandas.pydata.org/pandas-docs/stable/user_guide/indexing.html#returning-a-view-versus-a-copy\n",
      "  df_filt[[\"gpa\", \"gamsat\", \"preference\"]] = df_filt.apply(lambda x: get_row_uni_info_offer(x, uni), axis=1).apply(pd.Series)\n",
      "C:\\Users\\mtp63\\AppData\\Local\\Temp\\ipykernel_3436\\492360366.py:6: SettingWithCopyWarning: \n",
      "A value is trying to be set on a copy of a slice from a DataFrame.\n",
      "Try using .loc[row_indexer,col_indexer] = value instead\n",
      "\n",
      "See the caveats in the documentation: https://pandas.pydata.org/pandas-docs/stable/user_guide/indexing.html#returning-a-view-versus-a-copy\n",
      "  df_filt[[\"gpa\", \"gamsat\", \"preference\"]] = df_filt.apply(lambda x: get_row_uni_info_offer(x, uni), axis=1).apply(pd.Series)\n",
      "C:\\Users\\mtp63\\AppData\\Local\\Temp\\ipykernel_3436\\492360366.py:6: SettingWithCopyWarning: \n",
      "A value is trying to be set on a copy of a slice from a DataFrame.\n",
      "Try using .loc[row_indexer,col_indexer] = value instead\n",
      "\n",
      "See the caveats in the documentation: https://pandas.pydata.org/pandas-docs/stable/user_guide/indexing.html#returning-a-view-versus-a-copy\n",
      "  df_filt[[\"gpa\", \"gamsat\", \"preference\"]] = df_filt.apply(lambda x: get_row_uni_info_offer(x, uni), axis=1).apply(pd.Series)\n",
      "C:\\Users\\mtp63\\AppData\\Local\\Temp\\ipykernel_3436\\492360366.py:9: SettingWithCopyWarning: \n",
      "A value is trying to be set on a copy of a slice from a DataFrame.\n",
      "Try using .loc[row_indexer,col_indexer] = value instead\n",
      "\n",
      "See the caveats in the documentation: https://pandas.pydata.org/pandas-docs/stable/user_guide/indexing.html#returning-a-view-versus-a-copy\n",
      "  df_filt[\"combo score\"] = df_filt[\"gpa\"] / 7 + df_filt[\"gamsat\"] / 100\n",
      "C:\\Users\\mtp63\\AppData\\Local\\Temp\\ipykernel_3436\\492360366.py:12: SettingWithCopyWarning: \n",
      "A value is trying to be set on a copy of a slice from a DataFrame.\n",
      "Try using .loc[row_indexer,col_indexer] = value instead\n",
      "\n",
      "See the caveats in the documentation: https://pandas.pydata.org/pandas-docs/stable/user_guide/indexing.html#returning-a-view-versus-a-copy\n",
      "  df_filt.loc[:, \"success\"] = df_filt.apply(lambda x: get_row_offer(x, uni), axis=1)\n"
     ]
    }
   ],
   "source": [
    "uq_offer = get_uni_gpa_offer(offers_filt, UQ_NAME)"
   ]
  },
  {
   "cell_type": "code",
   "execution_count": 62,
   "id": "f4d165df",
   "metadata": {},
   "outputs": [
    {
     "data": {
      "text/plain": [
       "offer uni\n",
       "The University of Melbourne               70\n",
       "Deakin University                         52\n",
       "Griffith University                       40\n",
       "The University of Notre Dame Sydney       25\n",
       "The University of Western Australia       21\n",
       "The University of Queensland (RMP)        19\n",
       "The University of Notre Dame Fremantle    16\n",
       "The University of Wollongong              15\n",
       "Australian National University            14\n",
       "Macquarie University                      12\n",
       "The University of Queensland (Metro)      10\n",
       "Name: count, dtype: int64"
      ]
     },
     "execution_count": 62,
     "metadata": {},
     "output_type": "execute_result"
    }
   ],
   "source": [
    "filter_frame(offers, year=2022)[\"offer uni\"].value_counts()"
   ]
  },
  {
   "cell_type": "code",
   "execution_count": 24,
   "id": "5c938f85",
   "metadata": {},
   "outputs": [
    {
     "name": "stderr",
     "output_type": "stream",
     "text": [
      "C:\\Users\\mtp63\\AppData\\Local\\Temp\\ipykernel_20608\\492360366.py:6: SettingWithCopyWarning: \n",
      "A value is trying to be set on a copy of a slice from a DataFrame.\n",
      "Try using .loc[row_indexer,col_indexer] = value instead\n",
      "\n",
      "See the caveats in the documentation: https://pandas.pydata.org/pandas-docs/stable/user_guide/indexing.html#returning-a-view-versus-a-copy\n",
      "  df_filt[[\"gpa\", \"gamsat\", \"preference\"]] = df_filt.apply(lambda x: get_row_uni_info_offer(x, uni), axis=1).apply(pd.Series)\n",
      "C:\\Users\\mtp63\\AppData\\Local\\Temp\\ipykernel_20608\\492360366.py:6: SettingWithCopyWarning: \n",
      "A value is trying to be set on a copy of a slice from a DataFrame.\n",
      "Try using .loc[row_indexer,col_indexer] = value instead\n",
      "\n",
      "See the caveats in the documentation: https://pandas.pydata.org/pandas-docs/stable/user_guide/indexing.html#returning-a-view-versus-a-copy\n",
      "  df_filt[[\"gpa\", \"gamsat\", \"preference\"]] = df_filt.apply(lambda x: get_row_uni_info_offer(x, uni), axis=1).apply(pd.Series)\n",
      "C:\\Users\\mtp63\\AppData\\Local\\Temp\\ipykernel_20608\\492360366.py:6: SettingWithCopyWarning: \n",
      "A value is trying to be set on a copy of a slice from a DataFrame.\n",
      "Try using .loc[row_indexer,col_indexer] = value instead\n",
      "\n",
      "See the caveats in the documentation: https://pandas.pydata.org/pandas-docs/stable/user_guide/indexing.html#returning-a-view-versus-a-copy\n",
      "  df_filt[[\"gpa\", \"gamsat\", \"preference\"]] = df_filt.apply(lambda x: get_row_uni_info_offer(x, uni), axis=1).apply(pd.Series)\n",
      "C:\\Users\\mtp63\\AppData\\Local\\Temp\\ipykernel_20608\\492360366.py:9: SettingWithCopyWarning: \n",
      "A value is trying to be set on a copy of a slice from a DataFrame.\n",
      "Try using .loc[row_indexer,col_indexer] = value instead\n",
      "\n",
      "See the caveats in the documentation: https://pandas.pydata.org/pandas-docs/stable/user_guide/indexing.html#returning-a-view-versus-a-copy\n",
      "  df_filt[\"combo score\"] = df_filt[\"gpa\"] / 7 + df_filt[\"gamsat\"] / 100\n",
      "C:\\Users\\mtp63\\AppData\\Local\\Temp\\ipykernel_20608\\492360366.py:12: SettingWithCopyWarning: \n",
      "A value is trying to be set on a copy of a slice from a DataFrame.\n",
      "Try using .loc[row_indexer,col_indexer] = value instead\n",
      "\n",
      "See the caveats in the documentation: https://pandas.pydata.org/pandas-docs/stable/user_guide/indexing.html#returning-a-view-versus-a-copy\n",
      "  df_filt.loc[:, \"success\"] = df_filt.apply(lambda x: get_row_offer(x, uni), axis=1)\n"
     ]
    }
   ],
   "source": [
    "melb_offer = get_uni_gpa_offer(offers_filt, MELB_NAME)"
   ]
  },
  {
   "cell_type": "markdown",
   "id": "07994f86",
   "metadata": {},
   "source": [
    "##### Basic"
   ]
  },
  {
   "cell_type": "code",
   "execution_count": 517,
   "id": "e1008d34",
   "metadata": {},
   "outputs": [
    {
     "name": "stderr",
     "output_type": "stream",
     "text": [
      "C:\\Users\\mtp63\\AppData\\Local\\Temp\\ipykernel_20032\\492360366.py:6: SettingWithCopyWarning:\n",
      "\n",
      "\n",
      "A value is trying to be set on a copy of a slice from a DataFrame.\n",
      "Try using .loc[row_indexer,col_indexer] = value instead\n",
      "\n",
      "See the caveats in the documentation: https://pandas.pydata.org/pandas-docs/stable/user_guide/indexing.html#returning-a-view-versus-a-copy\n",
      "\n",
      "C:\\Users\\mtp63\\AppData\\Local\\Temp\\ipykernel_20032\\492360366.py:6: SettingWithCopyWarning:\n",
      "\n",
      "\n",
      "A value is trying to be set on a copy of a slice from a DataFrame.\n",
      "Try using .loc[row_indexer,col_indexer] = value instead\n",
      "\n",
      "See the caveats in the documentation: https://pandas.pydata.org/pandas-docs/stable/user_guide/indexing.html#returning-a-view-versus-a-copy\n",
      "\n",
      "C:\\Users\\mtp63\\AppData\\Local\\Temp\\ipykernel_20032\\492360366.py:6: SettingWithCopyWarning:\n",
      "\n",
      "\n",
      "A value is trying to be set on a copy of a slice from a DataFrame.\n",
      "Try using .loc[row_indexer,col_indexer] = value instead\n",
      "\n",
      "See the caveats in the documentation: https://pandas.pydata.org/pandas-docs/stable/user_guide/indexing.html#returning-a-view-versus-a-copy\n",
      "\n",
      "C:\\Users\\mtp63\\AppData\\Local\\Temp\\ipykernel_20032\\492360366.py:9: SettingWithCopyWarning:\n",
      "\n",
      "\n",
      "A value is trying to be set on a copy of a slice from a DataFrame.\n",
      "Try using .loc[row_indexer,col_indexer] = value instead\n",
      "\n",
      "See the caveats in the documentation: https://pandas.pydata.org/pandas-docs/stable/user_guide/indexing.html#returning-a-view-versus-a-copy\n",
      "\n",
      "C:\\Users\\mtp63\\AppData\\Local\\Temp\\ipykernel_20032\\492360366.py:12: SettingWithCopyWarning:\n",
      "\n",
      "\n",
      "A value is trying to be set on a copy of a slice from a DataFrame.\n",
      "Try using .loc[row_indexer,col_indexer] = value instead\n",
      "\n",
      "See the caveats in the documentation: https://pandas.pydata.org/pandas-docs/stable/user_guide/indexing.html#returning-a-view-versus-a-copy\n",
      "\n"
     ]
    },
    {
     "data": {
      "image/png": "[encoded data removed]",
      "text/plain": [
       "<Figure size 640x480 with 1 Axes>"
      ]
     },
     "metadata": {},
     "output_type": "display_data"
    },
    {
     "data": {
      "image/png": "[encoded data removed]",
      "text/plain": [
       "<Figure size 640x480 with 1 Axes>"
      ]
     },
     "metadata": {},
     "output_type": "display_data"
    },
    {
     "data": {
      "image/png": "[encoded data removed]",
      "text/plain": [
       "<Figure size 640x480 with 1 Axes>"
      ]
     },
     "metadata": {},
     "output_type": "display_data"
    }
   ],
   "source": [
    "plot_gamsat_gpa(melb_offer, hue=\"offer uni place type\")\n",
    "plot_gamsat_gpa(melb_offer, hue=\"success\", year=2022)\n",
    "plot_gamsat_gpa(melb_offer, hue=\"success\", year=2023)"
   ]
  },
  {
   "cell_type": "markdown",
   "id": "28330a75",
   "metadata": {},
   "source": [
    "##### gamsat gpa + 3rd column"
   ]
  },
  {
   "cell_type": "code",
   "execution_count": 492,
   "id": "e66bb31d",
   "metadata": {},
   "outputs": [
    {
     "data": {
      "application/vnd.plotly.v1+json": {
       "config": {
        "plotlyServerURL": "https://plot.ly"
       },
       "data": [
        {
         "hovertemplate": "gamsat=%{x}<br>gpa=%{y}<br>interview prep hours discrete=%{z}<br>success=%{marker.color}<extra></extra>",
         "legendgroup": "",
         "marker": {
          "color": [
           1,
           1,
           0,
           0,
           0,
           0,
           0,
           0,
           0,
           0,
           0,
           0,
           1,
           1,
           0,
           0,
           0,
           0,
           0,
           0,
           0,
           1,
           0,
           0,
           0,
           0,
           0,
           0,
           0,
           1,
           0,
           0,
           0,
           0,
           0,
           0,
           0,
           0,
           0,
           0,
           0,
           0,
           0,
           1,
           0,
           0,
           0,
           1,
           1,
           0,
           0,
           0,
           0,
           0,
           0,
           1,
           0,
           0,
           1,
           0,
           1,
           0,
           0,
           0,
           0,
           0,
           0,
           1,
           0,
           0,
           1,
           1,
           1,
           0,
           0
          ],
          "coloraxis": "coloraxis",
          "opacity": 0.8,
          "symbol": "circle"
         },
         "mode": "markers",
         "name": "",
         "scene": "scene",
         "showlegend": false,
         "type": "scatter3d",
         "x": [
          72,
          74.33,
          72,
          73.33,
          77.33,
          73,
          81.67,
          71,
          76.67,
          73,
          69.67,
          69.33,
          71.67,
          83.67,
          71,
          81.67,
          73,
          71,
          74.67,
          77,
          71.33,
          71,
          70.67,
          69.33,
          74.67,
          74.67,
          77.67,
          80.33,
          73.33,
          69.67,
          71.33,
          69.33,
          74,
          69.67,
          70.33,
          67.33,
          70.33,
          71.67,
          68,
          74.67,
          71.33,
          69.67,
          71.67,
          73.33,
          73,
          86.67,
          77.67,
          71.67,
          73.33,
          69.67,
          75,
          73.67,
          78,
          71,
          74.67,
          78,
          70,
          68,
          75,
          73,
          77.67,
          70.67,
          75.67,
          72.33,
          69.33,
          75,
          70.67,
          74,
          70.67,
          70.67,
          69.67,
          70,
          71.33,
          72.67,
          80.33
         ],
         "y": [
          6.93,
          6.98,
          6.925,
          6.88,
          7,
          7,
          6.96,
          6.8,
          6.593,
          6.95,
          6.865,
          6.5,
          6.68,
          6.89,
          7,
          6.9,
          6.85,
          6.851,
          6.76,
          6.73,
          6.919,
          6.89,
          6.868,
          6.906,
          6.95,
          6.97,
          7,
          6.638,
          6.9,
          7,
          6.988,
          6.975,
          6.975,
          7,
          6.896,
          7,
          6.96,
          7,
          6.98,
          6.531,
          7,
          6.83,
          6.913,
          6.9,
          6.961,
          6.875,
          7,
          6.95,
          6.729,
          7,
          7,
          6.69,
          6.81,
          7,
          6.875,
          6.77,
          6.938,
          7,
          6.838,
          6.888,
          6.331,
          6.844,
          6.767,
          6.688,
          6.9,
          6.725,
          6.98,
          6.96,
          6.75,
          6.435,
          6.84,
          6.94,
          7,
          6.875,
          6.3
         ],
         "z": [
          4,
          5,
          3,
          3,
          2,
          3,
          2,
          0,
          4,
          4,
          4,
          3,
          3,
          4,
          2,
          4,
          0,
          1,
          0,
          1,
          4,
          4,
          2,
          2,
          4,
          4,
          3,
          2,
          1,
          4,
          4,
          4,
          3,
          3,
          1,
          5,
          2,
          6,
          4,
          3,
          2,
          2,
          2,
          5,
          3,
          0,
          4,
          4,
          4,
          2,
          3,
          4,
          4,
          3,
          4,
          0,
          4,
          3,
          4,
          5,
          3,
          4,
          5,
          4,
          2,
          1,
          5,
          4,
          4,
          2,
          3,
          2,
          2,
          5,
          3
         ]
        }
       ],
       "layout": {
        "coloraxis": {
         "colorbar": {
          "title": {
           "text": "success"
          }
         },
         "colorscale": [
          [
           0,
           "#0d0887"
          ],
          [
           0.1111111111111111,
           "#46039f"
          ],
          [
           0.2222222222222222,
           "#7201a8"
          ],
          [
           0.3333333333333333,
           "#9c179e"
          ],
          [
           0.4444444444444444,
           "#bd3786"
          ],
          [
           0.5555555555555556,
           "#d8576b"
          ],
          [
           0.6666666666666666,
           "#ed7953"
          ],
          [
           0.7777777777777778,
           "#fb9f3a"
          ],
          [
           0.8888888888888888,
           "#fdca26"
          ],
          [
           1,
           "#f0f921"
          ]
         ]
        },
        "legend": {
         "tracegroupgap": 0
        },
        "margin": {
         "t": 60
        },
        "scene": {
         "domain": {
          "x": [
           0,
           1
          ],
          "y": [
           0,
           1
          ]
         },
         "xaxis": {
          "autorange": "reversed",
          "range": [
           65,
           85
          ],
          "title": {
           "text": "gamsat"
          }
         },
         "yaxis": {
          "range": [
           5.8,
           7.2
          ],
          "title": {
           "text": "gpa"
          }
         },
         "zaxis": {
          "title": {
           "text": "interview opinion"
          }
         }
        },
        "template": {
         "data": {
          "bar": [
           {
            "error_x": {
             "color": "#2a3f5f"
            },
            "error_y": {
             "color": "#2a3f5f"
            },
            "marker": {
             "line": {
              "color": "#E5ECF6",
              "width": 0.5
             },
             "pattern": {
              "fillmode": "overlay",
              "size": 10,
              "solidity": 0.2
             }
            },
            "type": "bar"
           }
          ],
          "barpolar": [
           {
            "marker": {
             "line": {
              "color": "#E5ECF6",
              "width": 0.5
             },
             "pattern": {
              "fillmode": "overlay",
              "size": 10,
              "solidity": 0.2
             }
            },
            "type": "barpolar"
           }
          ],
          "carpet": [
           {
            "aaxis": {
             "endlinecolor": "#2a3f5f",
             "gridcolor": "white",
             "linecolor": "white",
             "minorgridcolor": "white",
             "startlinecolor": "#2a3f5f"
            },
            "baxis": {
             "endlinecolor": "#2a3f5f",
             "gridcolor": "white",
             "linecolor": "white",
             "minorgridcolor": "white",
             "startlinecolor": "#2a3f5f"
            },
            "type": "carpet"
           }
          ],
          "choropleth": [
           {
            "colorbar": {
             "outlinewidth": 0,
             "ticks": ""
            },
            "type": "choropleth"
           }
          ],
          "contour": [
           {
            "colorbar": {
             "outlinewidth": 0,
             "ticks": ""
            },
            "colorscale": [
             [
              0,
              "#0d0887"
             ],
             [
              0.1111111111111111,
              "#46039f"
             ],
             [
              0.2222222222222222,
              "#7201a8"
             ],
             [
              0.3333333333333333,
              "#9c179e"
             ],
             [
              0.4444444444444444,
              "#bd3786"
             ],
             [
              0.5555555555555556,
              "#d8576b"
             ],
             [
              0.6666666666666666,
              "#ed7953"
             ],
             [
              0.7777777777777778,
              "#fb9f3a"
             ],
             [
              0.8888888888888888,
              "#fdca26"
             ],
             [
              1,
              "#f0f921"
             ]
            ],
            "type": "contour"
           }
          ],
          "contourcarpet": [
           {
            "colorbar": {
             "outlinewidth": 0,
             "ticks": ""
            },
            "type": "contourcarpet"
           }
          ],
          "heatmap": [
           {
            "colorbar": {
             "outlinewidth": 0,
             "ticks": ""
            },
            "colorscale": [
             [
              0,
              "#0d0887"
             ],
             [
              0.1111111111111111,
              "#46039f"
             ],
             [
              0.2222222222222222,
              "#7201a8"
             ],
             [
              0.3333333333333333,
              "#9c179e"
             ],
             [
              0.4444444444444444,
              "#bd3786"
             ],
             [
              0.5555555555555556,
              "#d8576b"
             ],
             [
              0.6666666666666666,
              "#ed7953"
             ],
             [
              0.7777777777777778,
              "#fb9f3a"
             ],
             [
              0.8888888888888888,
              "#fdca26"
             ],
             [
              1,
              "#f0f921"
             ]
            ],
            "type": "heatmap"
           }
          ],
          "heatmapgl": [
           {
            "colorbar": {
             "outlinewidth": 0,
             "ticks": ""
            },
            "colorscale": [
             [
              0,
              "#0d0887"
             ],
             [
              0.1111111111111111,
              "#46039f"
             ],
             [
              0.2222222222222222,
              "#7201a8"
             ],
             [
              0.3333333333333333,
              "#9c179e"
             ],
             [
              0.4444444444444444,
              "#bd3786"
             ],
             [
              0.5555555555555556,
              "#d8576b"
             ],
             [
              0.6666666666666666,
              "#ed7953"
             ],
             [
              0.7777777777777778,
              "#fb9f3a"
             ],
             [
              0.8888888888888888,
              "#fdca26"
             ],
             [
              1,
              "#f0f921"
             ]
            ],
            "type": "heatmapgl"
           }
          ],
          "histogram": [
           {
            "marker": {
             "pattern": {
              "fillmode": "overlay",
              "size": 10,
              "solidity": 0.2
             }
            },
            "type": "histogram"
           }
          ],
          "histogram2d": [
           {
            "colorbar": {
             "outlinewidth": 0,
             "ticks": ""
            },
            "colorscale": [
             [
              0,
              "#0d0887"
             ],
             [
              0.1111111111111111,
              "#46039f"
             ],
             [
              0.2222222222222222,
              "#7201a8"
             ],
             [
              0.3333333333333333,
              "#9c179e"
             ],
             [
              0.4444444444444444,
              "#bd3786"
             ],
             [
              0.5555555555555556,
              "#d8576b"
             ],
             [
              0.6666666666666666,
              "#ed7953"
             ],
             [
              0.7777777777777778,
              "#fb9f3a"
             ],
             [
              0.8888888888888888,
              "#fdca26"
             ],
             [
              1,
              "#f0f921"
             ]
            ],
            "type": "histogram2d"
           }
          ],
          "histogram2dcontour": [
           {
            "colorbar": {
             "outlinewidth": 0,
             "ticks": ""
            },
            "colorscale": [
             [
              0,
              "#0d0887"
             ],
             [
              0.1111111111111111,
              "#46039f"
             ],
             [
              0.2222222222222222,
              "#7201a8"
             ],
             [
              0.3333333333333333,
              "#9c179e"
             ],
             [
              0.4444444444444444,
              "#bd3786"
             ],
             [
              0.5555555555555556,
              "#d8576b"
             ],
             [
              0.6666666666666666,
              "#ed7953"
             ],
             [
              0.7777777777777778,
              "#fb9f3a"
             ],
             [
              0.8888888888888888,
              "#fdca26"
             ],
             [
              1,
              "#f0f921"
             ]
            ],
            "type": "histogram2dcontour"
           }
          ],
          "mesh3d": [
           {
            "colorbar": {
             "outlinewidth": 0,
             "ticks": ""
            },
            "type": "mesh3d"
           }
          ],
          "parcoords": [
           {
            "line": {
             "colorbar": {
              "outlinewidth": 0,
              "ticks": ""
             }
            },
            "type": "parcoords"
           }
          ],
          "pie": [
           {
            "automargin": true,
            "type": "pie"
           }
          ],
          "scatter": [
           {
            "fillpattern": {
             "fillmode": "overlay",
             "size": 10,
             "solidity": 0.2
            },
            "type": "scatter"
           }
          ],
          "scatter3d": [
           {
            "line": {
             "colorbar": {
              "outlinewidth": 0,
              "ticks": ""
             }
            },
            "marker": {
             "colorbar": {
              "outlinewidth": 0,
              "ticks": ""
             }
            },
            "type": "scatter3d"
           }
          ],
          "scattercarpet": [
           {
            "marker": {
             "colorbar": {
              "outlinewidth": 0,
              "ticks": ""
             }
            },
            "type": "scattercarpet"
           }
          ],
          "scattergeo": [
           {
            "marker": {
             "colorbar": {
              "outlinewidth": 0,
              "ticks": ""
             }
            },
            "type": "scattergeo"
           }
          ],
          "scattergl": [
           {
            "marker": {
             "colorbar": {
              "outlinewidth": 0,
              "ticks": ""
             }
            },
            "type": "scattergl"
           }
          ],
          "scattermapbox": [
           {
            "marker": {
             "colorbar": {
              "outlinewidth": 0,
              "ticks": ""
             }
            },
            "type": "scattermapbox"
           }
          ],
          "scatterpolar": [
           {
            "marker": {
             "colorbar": {
              "outlinewidth": 0,
              "ticks": ""
             }
            },
            "type": "scatterpolar"
           }
          ],
          "scatterpolargl": [
           {
            "marker": {
             "colorbar": {
              "outlinewidth": 0,
              "ticks": ""
             }
            },
            "type": "scatterpolargl"
           }
          ],
          "scatterternary": [
           {
            "marker": {
             "colorbar": {
              "outlinewidth": 0,
              "ticks": ""
             }
            },
            "type": "scatterternary"
           }
          ],
          "surface": [
           {
            "colorbar": {
             "outlinewidth": 0,
             "ticks": ""
            },
            "colorscale": [
             [
              0,
              "#0d0887"
             ],
             [
              0.1111111111111111,
              "#46039f"
             ],
             [
              0.2222222222222222,
              "#7201a8"
             ],
             [
              0.3333333333333333,
              "#9c179e"
             ],
             [
              0.4444444444444444,
              "#bd3786"
             ],
             [
              0.5555555555555556,
              "#d8576b"
             ],
             [
              0.6666666666666666,
              "#ed7953"
             ],
             [
              0.7777777777777778,
              "#fb9f3a"
             ],
             [
              0.8888888888888888,
              "#fdca26"
             ],
             [
              1,
              "#f0f921"
             ]
            ],
            "type": "surface"
           }
          ],
          "table": [
           {
            "cells": {
             "fill": {
              "color": "#EBF0F8"
             },
             "line": {
              "color": "white"
             }
            },
            "header": {
             "fill": {
              "color": "#C8D4E3"
             },
             "line": {
              "color": "white"
             }
            },
            "type": "table"
           }
          ]
         },
         "layout": {
          "annotationdefaults": {
           "arrowcolor": "#2a3f5f",
           "arrowhead": 0,
           "arrowwidth": 1
          },
          "autotypenumbers": "strict",
          "coloraxis": {
           "colorbar": {
            "outlinewidth": 0,
            "ticks": ""
           }
          },
          "colorscale": {
           "diverging": [
            [
             0,
             "#8e0152"
            ],
            [
             0.1,
             "#c51b7d"
            ],
            [
             0.2,
             "#de77ae"
            ],
            [
             0.3,
             "#f1b6da"
            ],
            [
             0.4,
             "#fde0ef"
            ],
            [
             0.5,
             "#f7f7f7"
            ],
            [
             0.6,
             "#e6f5d0"
            ],
            [
             0.7,
             "#b8e186"
            ],
            [
             0.8,
             "#7fbc41"
            ],
            [
             0.9,
             "#4d9221"
            ],
            [
             1,
             "#276419"
            ]
           ],
           "sequential": [
            [
             0,
             "#0d0887"
            ],
            [
             0.1111111111111111,
             "#46039f"
            ],
            [
             0.2222222222222222,
             "#7201a8"
            ],
            [
             0.3333333333333333,
             "#9c179e"
            ],
            [
             0.4444444444444444,
             "#bd3786"
            ],
            [
             0.5555555555555556,
             "#d8576b"
            ],
            [
             0.6666666666666666,
             "#ed7953"
            ],
            [
             0.7777777777777778,
             "#fb9f3a"
            ],
            [
             0.8888888888888888,
             "#fdca26"
            ],
            [
             1,
             "#f0f921"
            ]
           ],
           "sequentialminus": [
            [
             0,
             "#0d0887"
            ],
            [
             0.1111111111111111,
             "#46039f"
            ],
            [
             0.2222222222222222,
             "#7201a8"
            ],
            [
             0.3333333333333333,
             "#9c179e"
            ],
            [
             0.4444444444444444,
             "#bd3786"
            ],
            [
             0.5555555555555556,
             "#d8576b"
            ],
            [
             0.6666666666666666,
             "#ed7953"
            ],
            [
             0.7777777777777778,
             "#fb9f3a"
            ],
            [
             0.8888888888888888,
             "#fdca26"
            ],
            [
             1,
             "#f0f921"
            ]
           ]
          },
          "colorway": [
           "#636efa",
           "#EF553B",
           "#00cc96",
           "#ab63fa",
           "#FFA15A",
           "#19d3f3",
           "#FF6692",
           "#B6E880",
           "#FF97FF",
           "#FECB52"
          ],
          "font": {
           "color": "#2a3f5f"
          },
          "geo": {
           "bgcolor": "white",
           "lakecolor": "white",
           "landcolor": "#E5ECF6",
           "showlakes": true,
           "showland": true,
           "subunitcolor": "white"
          },
          "hoverlabel": {
           "align": "left"
          },
          "hovermode": "closest",
          "mapbox": {
           "style": "light"
          },
          "paper_bgcolor": "white",
          "plot_bgcolor": "#E5ECF6",
          "polar": {
           "angularaxis": {
            "gridcolor": "white",
            "linecolor": "white",
            "ticks": ""
           },
           "bgcolor": "#E5ECF6",
           "radialaxis": {
            "gridcolor": "white",
            "linecolor": "white",
            "ticks": ""
           }
          },
          "scene": {
           "xaxis": {
            "backgroundcolor": "#E5ECF6",
            "gridcolor": "white",
            "gridwidth": 2,
            "linecolor": "white",
            "showbackground": true,
            "ticks": "",
            "zerolinecolor": "white"
           },
           "yaxis": {
            "backgroundcolor": "#E5ECF6",
            "gridcolor": "white",
            "gridwidth": 2,
            "linecolor": "white",
            "showbackground": true,
            "ticks": "",
            "zerolinecolor": "white"
           },
           "zaxis": {
            "backgroundcolor": "#E5ECF6",
            "gridcolor": "white",
            "gridwidth": 2,
            "linecolor": "white",
            "showbackground": true,
            "ticks": "",
            "zerolinecolor": "white"
           }
          },
          "shapedefaults": {
           "line": {
            "color": "#2a3f5f"
           }
          },
          "ternary": {
           "aaxis": {
            "gridcolor": "white",
            "linecolor": "white",
            "ticks": ""
           },
           "baxis": {
            "gridcolor": "white",
            "linecolor": "white",
            "ticks": ""
           },
           "bgcolor": "#E5ECF6",
           "caxis": {
            "gridcolor": "white",
            "linecolor": "white",
            "ticks": ""
           }
          },
          "title": {
           "x": 0.05
          },
          "xaxis": {
           "automargin": true,
           "gridcolor": "white",
           "linecolor": "white",
           "ticks": "",
           "title": {
            "standoff": 15
           },
           "zerolinecolor": "white",
           "zerolinewidth": 2
          },
          "yaxis": {
           "automargin": true,
           "gridcolor": "white",
           "linecolor": "white",
           "ticks": "",
           "title": {
            "standoff": 15
           },
           "zerolinecolor": "white",
           "zerolinewidth": 2
          }
         }
        }
       }
      }
     },
     "metadata": {},
     "output_type": "display_data"
    }
   ],
   "source": [
    "plot_gamsat_gpa_3d(melb_offer, \"interview prep hours discrete\", year=2023)"
   ]
  },
  {
   "cell_type": "code",
   "execution_count": 487,
   "id": "634af5b2",
   "metadata": {},
   "outputs": [
    {
     "data": {
      "application/vnd.plotly.v1+json": {
       "config": {
        "plotlyServerURL": "https://plot.ly"
       },
       "data": [
        {
         "hovertemplate": "gamsat=%{x}<br>gpa=%{y}<br>interview opinion discrete=%{z}<br>success=%{marker.color}<extra></extra>",
         "legendgroup": "",
         "marker": {
          "color": [
           1,
           1,
           1,
           1,
           1,
           1,
           1,
           1,
           0,
           0,
           1,
           0,
           0,
           0,
           0,
           0,
           0,
           1,
           0,
           0,
           0,
           0,
           0,
           0,
           0,
           0,
           0,
           0,
           1,
           0,
           1,
           0,
           0,
           0,
           0,
           0,
           1,
           0,
           1,
           0,
           0,
           0,
           0,
           0,
           0,
           0,
           0,
           0,
           1,
           1,
           1,
           1,
           1,
           1,
           0,
           0,
           0,
           1,
           0,
           0
          ],
          "coloraxis": "coloraxis",
          "opacity": 0.8,
          "symbol": "circle"
         },
         "mode": "markers",
         "name": "",
         "scene": "scene",
         "showlegend": false,
         "type": "scatter3d",
         "x": [
          77,
          68.66666667,
          74,
          72.33333333,
          70.33333333,
          75.33333333,
          77.66666667,
          69.66666667,
          70,
          72.33333333,
          73.33333333,
          73.33333333,
          70.66666667,
          77,
          71.33333333,
          70,
          72,
          69.33333333,
          71.33333333,
          76.66666667,
          74,
          68.66666667,
          67.33333333,
          77.33333333,
          69.33333333,
          69.66666667,
          81.66666667,
          80.33333333,
          70,
          80.33333333,
          75,
          71.66666667,
          71.33333333,
          76,
          79,
          70.33333333,
          77,
          73.33333333,
          78.33333333,
          71.33333333,
          68,
          71.66666667,
          72.66666667,
          73.33333333,
          72.33333333,
          80,
          74.33333333,
          75.33333333,
          70,
          69,
          77.66666667,
          70,
          69,
          74.33333333,
          77.33333333,
          77.33333333,
          71.33333333,
          66,
          72.33333333,
          70.66666667
         ],
         "y": [
          6.1,
          6.963,
          7,
          6.78,
          6.9,
          6.9,
          6.8,
          7,
          7,
          7,
          6.7,
          6.58,
          7,
          6.693,
          6.888,
          6.97,
          6.52,
          6.979,
          7,
          6.888,
          7,
          6.565,
          7,
          6.9,
          6.9,
          6.93,
          7,
          7,
          7,
          6.988,
          7,
          6.75,
          6.82,
          6.88,
          6.444,
          6.875,
          6.1,
          7,
          6.854,
          6.938,
          6.63,
          6.863,
          6.937,
          6.9,
          6.95,
          6.9,
          6.688,
          6.73,
          6.979,
          6.89,
          7,
          6.85,
          7,
          6.84,
          6.83,
          6.78,
          7,
          6.26,
          7,
          6.75
         ],
         "z": [
          4,
          4,
          3,
          3,
          4,
          2,
          2,
          3,
          3,
          2,
          4,
          3,
          4,
          5,
          3,
          3,
          2,
          4,
          2,
          1,
          2,
          3,
          3,
          3,
          4,
          4,
          3,
          5,
          3,
          3,
          4,
          3,
          4,
          2,
          2,
          3,
          4,
          2,
          3,
          2,
          2,
          3,
          2,
          4,
          3,
          5,
          4,
          5,
          4,
          3,
          3,
          4,
          3,
          3,
          4,
          4,
          3,
          3,
          4,
          2
         ]
        }
       ],
       "layout": {
        "coloraxis": {
         "colorbar": {
          "title": {
           "text": "success"
          }
         },
         "colorscale": [
          [
           0,
           "#0d0887"
          ],
          [
           0.1111111111111111,
           "#46039f"
          ],
          [
           0.2222222222222222,
           "#7201a8"
          ],
          [
           0.3333333333333333,
           "#9c179e"
          ],
          [
           0.4444444444444444,
           "#bd3786"
          ],
          [
           0.5555555555555556,
           "#d8576b"
          ],
          [
           0.6666666666666666,
           "#ed7953"
          ],
          [
           0.7777777777777778,
           "#fb9f3a"
          ],
          [
           0.8888888888888888,
           "#fdca26"
          ],
          [
           1,
           "#f0f921"
          ]
         ]
        },
        "legend": {
         "tracegroupgap": 0
        },
        "margin": {
         "t": 60
        },
        "scene": {
         "domain": {
          "x": [
           0,
           1
          ],
          "y": [
           0,
           1
          ]
         },
         "xaxis": {
          "range": [
           65,
           85
          ],
          "title": {
           "text": "gamsat"
          }
         },
         "yaxis": {
          "range": [
           5.8,
           7.2
          ],
          "title": {
           "text": "gpa"
          }
         },
         "zaxis": {
          "title": {
           "text": "interview opinion"
          }
         }
        },
        "template": {
         "data": {
          "bar": [
           {
            "error_x": {
             "color": "#2a3f5f"
            },
            "error_y": {
             "color": "#2a3f5f"
            },
            "marker": {
             "line": {
              "color": "#E5ECF6",
              "width": 0.5
             },
             "pattern": {
              "fillmode": "overlay",
              "size": 10,
              "solidity": 0.2
             }
            },
            "type": "bar"
           }
          ],
          "barpolar": [
           {
            "marker": {
             "line": {
              "color": "#E5ECF6",
              "width": 0.5
             },
             "pattern": {
              "fillmode": "overlay",
              "size": 10,
              "solidity": 0.2
             }
            },
            "type": "barpolar"
           }
          ],
          "carpet": [
           {
            "aaxis": {
             "endlinecolor": "#2a3f5f",
             "gridcolor": "white",
             "linecolor": "white",
             "minorgridcolor": "white",
             "startlinecolor": "#2a3f5f"
            },
            "baxis": {
             "endlinecolor": "#2a3f5f",
             "gridcolor": "white",
             "linecolor": "white",
             "minorgridcolor": "white",
             "startlinecolor": "#2a3f5f"
            },
            "type": "carpet"
           }
          ],
          "choropleth": [
           {
            "colorbar": {
             "outlinewidth": 0,
             "ticks": ""
            },
            "type": "choropleth"
           }
          ],
          "contour": [
           {
            "colorbar": {
             "outlinewidth": 0,
             "ticks": ""
            },
            "colorscale": [
             [
              0,
              "#0d0887"
             ],
             [
              0.1111111111111111,
              "#46039f"
             ],
             [
              0.2222222222222222,
              "#7201a8"
             ],
             [
              0.3333333333333333,
              "#9c179e"
             ],
             [
              0.4444444444444444,
              "#bd3786"
             ],
             [
              0.5555555555555556,
              "#d8576b"
             ],
             [
              0.6666666666666666,
              "#ed7953"
             ],
             [
              0.7777777777777778,
              "#fb9f3a"
             ],
             [
              0.8888888888888888,
              "#fdca26"
             ],
             [
              1,
              "#f0f921"
             ]
            ],
            "type": "contour"
           }
          ],
          "contourcarpet": [
           {
            "colorbar": {
             "outlinewidth": 0,
             "ticks": ""
            },
            "type": "contourcarpet"
           }
          ],
          "heatmap": [
           {
            "colorbar": {
             "outlinewidth": 0,
             "ticks": ""
            },
            "colorscale": [
             [
              0,
              "#0d0887"
             ],
             [
              0.1111111111111111,
              "#46039f"
             ],
             [
              0.2222222222222222,
              "#7201a8"
             ],
             [
              0.3333333333333333,
              "#9c179e"
             ],
             [
              0.4444444444444444,
              "#bd3786"
             ],
             [
              0.5555555555555556,
              "#d8576b"
             ],
             [
              0.6666666666666666,
              "#ed7953"
             ],
             [
              0.7777777777777778,
              "#fb9f3a"
             ],
             [
              0.8888888888888888,
              "#fdca26"
             ],
             [
              1,
              "#f0f921"
             ]
            ],
            "type": "heatmap"
           }
          ],
          "heatmapgl": [
           {
            "colorbar": {
             "outlinewidth": 0,
             "ticks": ""
            },
            "colorscale": [
             [
              0,
              "#0d0887"
             ],
             [
              0.1111111111111111,
              "#46039f"
             ],
             [
              0.2222222222222222,
              "#7201a8"
             ],
             [
              0.3333333333333333,
              "#9c179e"
             ],
             [
              0.4444444444444444,
              "#bd3786"
             ],
             [
              0.5555555555555556,
              "#d8576b"
             ],
             [
              0.6666666666666666,
              "#ed7953"
             ],
             [
              0.7777777777777778,
              "#fb9f3a"
             ],
             [
              0.8888888888888888,
              "#fdca26"
             ],
             [
              1,
              "#f0f921"
             ]
            ],
            "type": "heatmapgl"
           }
          ],
          "histogram": [
           {
            "marker": {
             "pattern": {
              "fillmode": "overlay",
              "size": 10,
              "solidity": 0.2
             }
            },
            "type": "histogram"
           }
          ],
          "histogram2d": [
           {
            "colorbar": {
             "outlinewidth": 0,
             "ticks": ""
            },
            "colorscale": [
             [
              0,
              "#0d0887"
             ],
             [
              0.1111111111111111,
              "#46039f"
             ],
             [
              0.2222222222222222,
              "#7201a8"
             ],
             [
              0.3333333333333333,
              "#9c179e"
             ],
             [
              0.4444444444444444,
              "#bd3786"
             ],
             [
              0.5555555555555556,
              "#d8576b"
             ],
             [
              0.6666666666666666,
              "#ed7953"
             ],
             [
              0.7777777777777778,
              "#fb9f3a"
             ],
             [
              0.8888888888888888,
              "#fdca26"
             ],
             [
              1,
              "#f0f921"
             ]
            ],
            "type": "histogram2d"
           }
          ],
          "histogram2dcontour": [
           {
            "colorbar": {
             "outlinewidth": 0,
             "ticks": ""
            },
            "colorscale": [
             [
              0,
              "#0d0887"
             ],
             [
              0.1111111111111111,
              "#46039f"
             ],
             [
              0.2222222222222222,
              "#7201a8"
             ],
             [
              0.3333333333333333,
              "#9c179e"
             ],
             [
              0.4444444444444444,
              "#bd3786"
             ],
             [
              0.5555555555555556,
              "#d8576b"
             ],
             [
              0.6666666666666666,
              "#ed7953"
             ],
             [
              0.7777777777777778,
              "#fb9f3a"
             ],
             [
              0.8888888888888888,
              "#fdca26"
             ],
             [
              1,
              "#f0f921"
             ]
            ],
            "type": "histogram2dcontour"
           }
          ],
          "mesh3d": [
           {
            "colorbar": {
             "outlinewidth": 0,
             "ticks": ""
            },
            "type": "mesh3d"
           }
          ],
          "parcoords": [
           {
            "line": {
             "colorbar": {
              "outlinewidth": 0,
              "ticks": ""
             }
            },
            "type": "parcoords"
           }
          ],
          "pie": [
           {
            "automargin": true,
            "type": "pie"
           }
          ],
          "scatter": [
           {
            "fillpattern": {
             "fillmode": "overlay",
             "size": 10,
             "solidity": 0.2
            },
            "type": "scatter"
           }
          ],
          "scatter3d": [
           {
            "line": {
             "colorbar": {
              "outlinewidth": 0,
              "ticks": ""
             }
            },
            "marker": {
             "colorbar": {
              "outlinewidth": 0,
              "ticks": ""
             }
            },
            "type": "scatter3d"
           }
          ],
          "scattercarpet": [
           {
            "marker": {
             "colorbar": {
              "outlinewidth": 0,
              "ticks": ""
             }
            },
            "type": "scattercarpet"
           }
          ],
          "scattergeo": [
           {
            "marker": {
             "colorbar": {
              "outlinewidth": 0,
              "ticks": ""
             }
            },
            "type": "scattergeo"
           }
          ],
          "scattergl": [
           {
            "marker": {
             "colorbar": {
              "outlinewidth": 0,
              "ticks": ""
             }
            },
            "type": "scattergl"
           }
          ],
          "scattermapbox": [
           {
            "marker": {
             "colorbar": {
              "outlinewidth": 0,
              "ticks": ""
             }
            },
            "type": "scattermapbox"
           }
          ],
          "scatterpolar": [
           {
            "marker": {
             "colorbar": {
              "outlinewidth": 0,
              "ticks": ""
             }
            },
            "type": "scatterpolar"
           }
          ],
          "scatterpolargl": [
           {
            "marker": {
             "colorbar": {
              "outlinewidth": 0,
              "ticks": ""
             }
            },
            "type": "scatterpolargl"
           }
          ],
          "scatterternary": [
           {
            "marker": {
             "colorbar": {
              "outlinewidth": 0,
              "ticks": ""
             }
            },
            "type": "scatterternary"
           }
          ],
          "surface": [
           {
            "colorbar": {
             "outlinewidth": 0,
             "ticks": ""
            },
            "colorscale": [
             [
              0,
              "#0d0887"
             ],
             [
              0.1111111111111111,
              "#46039f"
             ],
             [
              0.2222222222222222,
              "#7201a8"
             ],
             [
              0.3333333333333333,
              "#9c179e"
             ],
             [
              0.4444444444444444,
              "#bd3786"
             ],
             [
              0.5555555555555556,
              "#d8576b"
             ],
             [
              0.6666666666666666,
              "#ed7953"
             ],
             [
              0.7777777777777778,
              "#fb9f3a"
             ],
             [
              0.8888888888888888,
              "#fdca26"
             ],
             [
              1,
              "#f0f921"
             ]
            ],
            "type": "surface"
           }
          ],
          "table": [
           {
            "cells": {
             "fill": {
              "color": "#EBF0F8"
             },
             "line": {
              "color": "white"
             }
            },
            "header": {
             "fill": {
              "color": "#C8D4E3"
             },
             "line": {
              "color": "white"
             }
            },
            "type": "table"
           }
          ]
         },
         "layout": {
          "annotationdefaults": {
           "arrowcolor": "#2a3f5f",
           "arrowhead": 0,
           "arrowwidth": 1
          },
          "autotypenumbers": "strict",
          "coloraxis": {
           "colorbar": {
            "outlinewidth": 0,
            "ticks": ""
           }
          },
          "colorscale": {
           "diverging": [
            [
             0,
             "#8e0152"
            ],
            [
             0.1,
             "#c51b7d"
            ],
            [
             0.2,
             "#de77ae"
            ],
            [
             0.3,
             "#f1b6da"
            ],
            [
             0.4,
             "#fde0ef"
            ],
            [
             0.5,
             "#f7f7f7"
            ],
            [
             0.6,
             "#e6f5d0"
            ],
            [
             0.7,
             "#b8e186"
            ],
            [
             0.8,
             "#7fbc41"
            ],
            [
             0.9,
             "#4d9221"
            ],
            [
             1,
             "#276419"
            ]
           ],
           "sequential": [
            [
             0,
             "#0d0887"
            ],
            [
             0.1111111111111111,
             "#46039f"
            ],
            [
             0.2222222222222222,
             "#7201a8"
            ],
            [
             0.3333333333333333,
             "#9c179e"
            ],
            [
             0.4444444444444444,
             "#bd3786"
            ],
            [
             0.5555555555555556,
             "#d8576b"
            ],
            [
             0.6666666666666666,
             "#ed7953"
            ],
            [
             0.7777777777777778,
             "#fb9f3a"
            ],
            [
             0.8888888888888888,
             "#fdca26"
            ],
            [
             1,
             "#f0f921"
            ]
           ],
           "sequentialminus": [
            [
             0,
             "#0d0887"
            ],
            [
             0.1111111111111111,
             "#46039f"
            ],
            [
             0.2222222222222222,
             "#7201a8"
            ],
            [
             0.3333333333333333,
             "#9c179e"
            ],
            [
             0.4444444444444444,
             "#bd3786"
            ],
            [
             0.5555555555555556,
             "#d8576b"
            ],
            [
             0.6666666666666666,
             "#ed7953"
            ],
            [
             0.7777777777777778,
             "#fb9f3a"
            ],
            [
             0.8888888888888888,
             "#fdca26"
            ],
            [
             1,
             "#f0f921"
            ]
           ]
          },
          "colorway": [
           "#636efa",
           "#EF553B",
           "#00cc96",
           "#ab63fa",
           "#FFA15A",
           "#19d3f3",
           "#FF6692",
           "#B6E880",
           "#FF97FF",
           "#FECB52"
          ],
          "font": {
           "color": "#2a3f5f"
          },
          "geo": {
           "bgcolor": "white",
           "lakecolor": "white",
           "landcolor": "#E5ECF6",
           "showlakes": true,
           "showland": true,
           "subunitcolor": "white"
          },
          "hoverlabel": {
           "align": "left"
          },
          "hovermode": "closest",
          "mapbox": {
           "style": "light"
          },
          "paper_bgcolor": "white",
          "plot_bgcolor": "#E5ECF6",
          "polar": {
           "angularaxis": {
            "gridcolor": "white",
            "linecolor": "white",
            "ticks": ""
           },
           "bgcolor": "#E5ECF6",
           "radialaxis": {
            "gridcolor": "white",
            "linecolor": "white",
            "ticks": ""
           }
          },
          "scene": {
           "xaxis": {
            "backgroundcolor": "#E5ECF6",
            "gridcolor": "white",
            "gridwidth": 2,
            "linecolor": "white",
            "showbackground": true,
            "ticks": "",
            "zerolinecolor": "white"
           },
           "yaxis": {
            "backgroundcolor": "#E5ECF6",
            "gridcolor": "white",
            "gridwidth": 2,
            "linecolor": "white",
            "showbackground": true,
            "ticks": "",
            "zerolinecolor": "white"
           },
           "zaxis": {
            "backgroundcolor": "#E5ECF6",
            "gridcolor": "white",
            "gridwidth": 2,
            "linecolor": "white",
            "showbackground": true,
            "ticks": "",
            "zerolinecolor": "white"
           }
          },
          "shapedefaults": {
           "line": {
            "color": "#2a3f5f"
           }
          },
          "ternary": {
           "aaxis": {
            "gridcolor": "white",
            "linecolor": "white",
            "ticks": ""
           },
           "baxis": {
            "gridcolor": "white",
            "linecolor": "white",
            "ticks": ""
           },
           "bgcolor": "#E5ECF6",
           "caxis": {
            "gridcolor": "white",
            "linecolor": "white",
            "ticks": ""
           }
          },
          "title": {
           "x": 0.05
          },
          "xaxis": {
           "automargin": true,
           "gridcolor": "white",
           "linecolor": "white",
           "ticks": "",
           "title": {
            "standoff": 15
           },
           "zerolinecolor": "white",
           "zerolinewidth": 2
          },
          "yaxis": {
           "automargin": true,
           "gridcolor": "white",
           "linecolor": "white",
           "ticks": "",
           "title": {
            "standoff": 15
           },
           "zerolinecolor": "white",
           "zerolinewidth": 2
          }
         }
        }
       }
      }
     },
     "metadata": {},
     "output_type": "display_data"
    },
    {
     "data": {
      "application/vnd.plotly.v1+json": {
       "config": {
        "plotlyServerURL": "https://plot.ly"
       },
       "data": [
        {
         "hovertemplate": "gamsat=%{x}<br>gpa=%{y}<br>interview opinion discrete=%{z}<br>success=%{marker.color}<extra></extra>",
         "legendgroup": "",
         "marker": {
          "color": [
           1,
           1,
           0,
           0,
           0,
           0,
           0,
           0,
           0,
           0,
           0,
           0,
           1,
           1,
           0,
           0,
           0,
           0,
           0,
           0,
           0,
           1,
           0,
           0,
           0,
           0,
           0,
           0,
           0,
           1,
           0,
           0,
           0,
           0,
           0,
           0,
           0,
           0,
           0,
           0,
           0,
           0,
           0,
           1,
           0,
           0,
           0,
           1,
           1,
           0,
           0,
           0,
           0,
           0,
           0,
           1,
           0,
           0,
           1,
           0,
           1,
           0,
           0,
           0,
           0,
           0,
           0,
           1,
           0,
           0,
           1,
           1,
           1,
           0,
           0
          ],
          "coloraxis": "coloraxis",
          "opacity": 0.8,
          "symbol": "circle"
         },
         "mode": "markers",
         "name": "",
         "scene": "scene",
         "showlegend": false,
         "type": "scatter3d",
         "x": [
          72,
          74.33,
          72,
          73.33,
          77.33,
          73,
          81.67,
          71,
          76.67,
          73,
          69.67,
          69.33,
          71.67,
          83.67,
          71,
          81.67,
          73,
          71,
          74.67,
          77,
          71.33,
          71,
          70.67,
          69.33,
          74.67,
          74.67,
          77.67,
          80.33,
          73.33,
          69.67,
          71.33,
          69.33,
          74,
          69.67,
          70.33,
          67.33,
          70.33,
          71.67,
          68,
          74.67,
          71.33,
          69.67,
          71.67,
          73.33,
          73,
          86.67,
          77.67,
          71.67,
          73.33,
          69.67,
          75,
          73.67,
          78,
          71,
          74.67,
          78,
          70,
          68,
          75,
          73,
          77.67,
          70.67,
          75.67,
          72.33,
          69.33,
          75,
          70.67,
          74,
          70.67,
          70.67,
          69.67,
          70,
          71.33,
          72.67,
          80.33
         ],
         "y": [
          6.93,
          6.98,
          6.925,
          6.88,
          7,
          7,
          6.96,
          6.8,
          6.593,
          6.95,
          6.865,
          6.5,
          6.68,
          6.89,
          7,
          6.9,
          6.85,
          6.851,
          6.76,
          6.73,
          6.919,
          6.89,
          6.868,
          6.906,
          6.95,
          6.97,
          7,
          6.638,
          6.9,
          7,
          6.988,
          6.975,
          6.975,
          7,
          6.896,
          7,
          6.96,
          7,
          6.98,
          6.531,
          7,
          6.83,
          6.913,
          6.9,
          6.961,
          6.875,
          7,
          6.95,
          6.729,
          7,
          7,
          6.69,
          6.81,
          7,
          6.875,
          6.77,
          6.938,
          7,
          6.838,
          6.888,
          6.331,
          6.844,
          6.767,
          6.688,
          6.9,
          6.725,
          6.98,
          6.96,
          6.75,
          6.435,
          6.84,
          6.94,
          7,
          6.875,
          6.3
         ],
         "z": [
          3,
          4,
          3,
          3,
          3,
          3,
          3,
          4,
          3,
          2,
          4,
          3,
          3,
          4,
          4,
          4,
          3,
          5,
          2,
          4,
          3,
          3,
          4,
          4,
          2,
          3,
          3,
          1,
          4,
          4,
          4,
          3,
          4,
          2,
          5,
          2,
          2,
          5,
          4,
          3,
          3,
          3,
          4,
          4,
          4,
          4,
          2,
          1,
          4,
          3,
          1,
          4,
          4,
          3,
          4,
          4,
          3,
          3,
          2,
          2,
          4,
          4,
          3,
          3,
          4,
          2,
          5,
          1,
          3,
          4,
          3,
          3,
          3,
          4,
          5
         ]
        }
       ],
       "layout": {
        "coloraxis": {
         "colorbar": {
          "title": {
           "text": "success"
          }
         },
         "colorscale": [
          [
           0,
           "#0d0887"
          ],
          [
           0.1111111111111111,
           "#46039f"
          ],
          [
           0.2222222222222222,
           "#7201a8"
          ],
          [
           0.3333333333333333,
           "#9c179e"
          ],
          [
           0.4444444444444444,
           "#bd3786"
          ],
          [
           0.5555555555555556,
           "#d8576b"
          ],
          [
           0.6666666666666666,
           "#ed7953"
          ],
          [
           0.7777777777777778,
           "#fb9f3a"
          ],
          [
           0.8888888888888888,
           "#fdca26"
          ],
          [
           1,
           "#f0f921"
          ]
         ]
        },
        "legend": {
         "tracegroupgap": 0
        },
        "margin": {
         "t": 60
        },
        "scene": {
         "domain": {
          "x": [
           0,
           1
          ],
          "y": [
           0,
           1
          ]
         },
         "xaxis": {
          "range": [
           65,
           85
          ],
          "title": {
           "text": "gamsat"
          }
         },
         "yaxis": {
          "range": [
           5.8,
           7.2
          ],
          "title": {
           "text": "gpa"
          }
         },
         "zaxis": {
          "title": {
           "text": "interview opinion"
          }
         }
        },
        "template": {
         "data": {
          "bar": [
           {
            "error_x": {
             "color": "#2a3f5f"
            },
            "error_y": {
             "color": "#2a3f5f"
            },
            "marker": {
             "line": {
              "color": "#E5ECF6",
              "width": 0.5
             },
             "pattern": {
              "fillmode": "overlay",
              "size": 10,
              "solidity": 0.2
             }
            },
            "type": "bar"
           }
          ],
          "barpolar": [
           {
            "marker": {
             "line": {
              "color": "#E5ECF6",
              "width": 0.5
             },
             "pattern": {
              "fillmode": "overlay",
              "size": 10,
              "solidity": 0.2
             }
            },
            "type": "barpolar"
           }
          ],
          "carpet": [
           {
            "aaxis": {
             "endlinecolor": "#2a3f5f",
             "gridcolor": "white",
             "linecolor": "white",
             "minorgridcolor": "white",
             "startlinecolor": "#2a3f5f"
            },
            "baxis": {
             "endlinecolor": "#2a3f5f",
             "gridcolor": "white",
             "linecolor": "white",
             "minorgridcolor": "white",
             "startlinecolor": "#2a3f5f"
            },
            "type": "carpet"
           }
          ],
          "choropleth": [
           {
            "colorbar": {
             "outlinewidth": 0,
             "ticks": ""
            },
            "type": "choropleth"
           }
          ],
          "contour": [
           {
            "colorbar": {
             "outlinewidth": 0,
             "ticks": ""
            },
            "colorscale": [
             [
              0,
              "#0d0887"
             ],
             [
              0.1111111111111111,
              "#46039f"
             ],
             [
              0.2222222222222222,
              "#7201a8"
             ],
             [
              0.3333333333333333,
              "#9c179e"
             ],
             [
              0.4444444444444444,
              "#bd3786"
             ],
             [
              0.5555555555555556,
              "#d8576b"
             ],
             [
              0.6666666666666666,
              "#ed7953"
             ],
             [
              0.7777777777777778,
              "#fb9f3a"
             ],
             [
              0.8888888888888888,
              "#fdca26"
             ],
             [
              1,
              "#f0f921"
             ]
            ],
            "type": "contour"
           }
          ],
          "contourcarpet": [
           {
            "colorbar": {
             "outlinewidth": 0,
             "ticks": ""
            },
            "type": "contourcarpet"
           }
          ],
          "heatmap": [
           {
            "colorbar": {
             "outlinewidth": 0,
             "ticks": ""
            },
            "colorscale": [
             [
              0,
              "#0d0887"
             ],
             [
              0.1111111111111111,
              "#46039f"
             ],
             [
              0.2222222222222222,
              "#7201a8"
             ],
             [
              0.3333333333333333,
              "#9c179e"
             ],
             [
              0.4444444444444444,
              "#bd3786"
             ],
             [
              0.5555555555555556,
              "#d8576b"
             ],
             [
              0.6666666666666666,
              "#ed7953"
             ],
             [
              0.7777777777777778,
              "#fb9f3a"
             ],
             [
              0.8888888888888888,
              "#fdca26"
             ],
             [
              1,
              "#f0f921"
             ]
            ],
            "type": "heatmap"
           }
          ],
          "heatmapgl": [
           {
            "colorbar": {
             "outlinewidth": 0,
             "ticks": ""
            },
            "colorscale": [
             [
              0,
              "#0d0887"
             ],
             [
              0.1111111111111111,
              "#46039f"
             ],
             [
              0.2222222222222222,
              "#7201a8"
             ],
             [
              0.3333333333333333,
              "#9c179e"
             ],
             [
              0.4444444444444444,
              "#bd3786"
             ],
             [
              0.5555555555555556,
              "#d8576b"
             ],
             [
              0.6666666666666666,
              "#ed7953"
             ],
             [
              0.7777777777777778,
              "#fb9f3a"
             ],
             [
              0.8888888888888888,
              "#fdca26"
             ],
             [
              1,
              "#f0f921"
             ]
            ],
            "type": "heatmapgl"
           }
          ],
          "histogram": [
           {
            "marker": {
             "pattern": {
              "fillmode": "overlay",
              "size": 10,
              "solidity": 0.2
             }
            },
            "type": "histogram"
           }
          ],
          "histogram2d": [
           {
            "colorbar": {
             "outlinewidth": 0,
             "ticks": ""
            },
            "colorscale": [
             [
              0,
              "#0d0887"
             ],
             [
              0.1111111111111111,
              "#46039f"
             ],
             [
              0.2222222222222222,
              "#7201a8"
             ],
             [
              0.3333333333333333,
              "#9c179e"
             ],
             [
              0.4444444444444444,
              "#bd3786"
             ],
             [
              0.5555555555555556,
              "#d8576b"
             ],
             [
              0.6666666666666666,
              "#ed7953"
             ],
             [
              0.7777777777777778,
              "#fb9f3a"
             ],
             [
              0.8888888888888888,
              "#fdca26"
             ],
             [
              1,
              "#f0f921"
             ]
            ],
            "type": "histogram2d"
           }
          ],
          "histogram2dcontour": [
           {
            "colorbar": {
             "outlinewidth": 0,
             "ticks": ""
            },
            "colorscale": [
             [
              0,
              "#0d0887"
             ],
             [
              0.1111111111111111,
              "#46039f"
             ],
             [
              0.2222222222222222,
              "#7201a8"
             ],
             [
              0.3333333333333333,
              "#9c179e"
             ],
             [
              0.4444444444444444,
              "#bd3786"
             ],
             [
              0.5555555555555556,
              "#d8576b"
             ],
             [
              0.6666666666666666,
              "#ed7953"
             ],
             [
              0.7777777777777778,
              "#fb9f3a"
             ],
             [
              0.8888888888888888,
              "#fdca26"
             ],
             [
              1,
              "#f0f921"
             ]
            ],
            "type": "histogram2dcontour"
           }
          ],
          "mesh3d": [
           {
            "colorbar": {
             "outlinewidth": 0,
             "ticks": ""
            },
            "type": "mesh3d"
           }
          ],
          "parcoords": [
           {
            "line": {
             "colorbar": {
              "outlinewidth": 0,
              "ticks": ""
             }
            },
            "type": "parcoords"
           }
          ],
          "pie": [
           {
            "automargin": true,
            "type": "pie"
           }
          ],
          "scatter": [
           {
            "fillpattern": {
             "fillmode": "overlay",
             "size": 10,
             "solidity": 0.2
            },
            "type": "scatter"
           }
          ],
          "scatter3d": [
           {
            "line": {
             "colorbar": {
              "outlinewidth": 0,
              "ticks": ""
             }
            },
            "marker": {
             "colorbar": {
              "outlinewidth": 0,
              "ticks": ""
             }
            },
            "type": "scatter3d"
           }
          ],
          "scattercarpet": [
           {
            "marker": {
             "colorbar": {
              "outlinewidth": 0,
              "ticks": ""
             }
            },
            "type": "scattercarpet"
           }
          ],
          "scattergeo": [
           {
            "marker": {
             "colorbar": {
              "outlinewidth": 0,
              "ticks": ""
             }
            },
            "type": "scattergeo"
           }
          ],
          "scattergl": [
           {
            "marker": {
             "colorbar": {
              "outlinewidth": 0,
              "ticks": ""
             }
            },
            "type": "scattergl"
           }
          ],
          "scattermapbox": [
           {
            "marker": {
             "colorbar": {
              "outlinewidth": 0,
              "ticks": ""
             }
            },
            "type": "scattermapbox"
           }
          ],
          "scatterpolar": [
           {
            "marker": {
             "colorbar": {
              "outlinewidth": 0,
              "ticks": ""
             }
            },
            "type": "scatterpolar"
           }
          ],
          "scatterpolargl": [
           {
            "marker": {
             "colorbar": {
              "outlinewidth": 0,
              "ticks": ""
             }
            },
            "type": "scatterpolargl"
           }
          ],
          "scatterternary": [
           {
            "marker": {
             "colorbar": {
              "outlinewidth": 0,
              "ticks": ""
             }
            },
            "type": "scatterternary"
           }
          ],
          "surface": [
           {
            "colorbar": {
             "outlinewidth": 0,
             "ticks": ""
            },
            "colorscale": [
             [
              0,
              "#0d0887"
             ],
             [
              0.1111111111111111,
              "#46039f"
             ],
             [
              0.2222222222222222,
              "#7201a8"
             ],
             [
              0.3333333333333333,
              "#9c179e"
             ],
             [
              0.4444444444444444,
              "#bd3786"
             ],
             [
              0.5555555555555556,
              "#d8576b"
             ],
             [
              0.6666666666666666,
              "#ed7953"
             ],
             [
              0.7777777777777778,
              "#fb9f3a"
             ],
             [
              0.8888888888888888,
              "#fdca26"
             ],
             [
              1,
              "#f0f921"
             ]
            ],
            "type": "surface"
           }
          ],
          "table": [
           {
            "cells": {
             "fill": {
              "color": "#EBF0F8"
             },
             "line": {
              "color": "white"
             }
            },
            "header": {
             "fill": {
              "color": "#C8D4E3"
             },
             "line": {
              "color": "white"
             }
            },
            "type": "table"
           }
          ]
         },
         "layout": {
          "annotationdefaults": {
           "arrowcolor": "#2a3f5f",
           "arrowhead": 0,
           "arrowwidth": 1
          },
          "autotypenumbers": "strict",
          "coloraxis": {
           "colorbar": {
            "outlinewidth": 0,
            "ticks": ""
           }
          },
          "colorscale": {
           "diverging": [
            [
             0,
             "#8e0152"
            ],
            [
             0.1,
             "#c51b7d"
            ],
            [
             0.2,
             "#de77ae"
            ],
            [
             0.3,
             "#f1b6da"
            ],
            [
             0.4,
             "#fde0ef"
            ],
            [
             0.5,
             "#f7f7f7"
            ],
            [
             0.6,
             "#e6f5d0"
            ],
            [
             0.7,
             "#b8e186"
            ],
            [
             0.8,
             "#7fbc41"
            ],
            [
             0.9,
             "#4d9221"
            ],
            [
             1,
             "#276419"
            ]
           ],
           "sequential": [
            [
             0,
             "#0d0887"
            ],
            [
             0.1111111111111111,
             "#46039f"
            ],
            [
             0.2222222222222222,
             "#7201a8"
            ],
            [
             0.3333333333333333,
             "#9c179e"
            ],
            [
             0.4444444444444444,
             "#bd3786"
            ],
            [
             0.5555555555555556,
             "#d8576b"
            ],
            [
             0.6666666666666666,
             "#ed7953"
            ],
            [
             0.7777777777777778,
             "#fb9f3a"
            ],
            [
             0.8888888888888888,
             "#fdca26"
            ],
            [
             1,
             "#f0f921"
            ]
           ],
           "sequentialminus": [
            [
             0,
             "#0d0887"
            ],
            [
             0.1111111111111111,
             "#46039f"
            ],
            [
             0.2222222222222222,
             "#7201a8"
            ],
            [
             0.3333333333333333,
             "#9c179e"
            ],
            [
             0.4444444444444444,
             "#bd3786"
            ],
            [
             0.5555555555555556,
             "#d8576b"
            ],
            [
             0.6666666666666666,
             "#ed7953"
            ],
            [
             0.7777777777777778,
             "#fb9f3a"
            ],
            [
             0.8888888888888888,
             "#fdca26"
            ],
            [
             1,
             "#f0f921"
            ]
           ]
          },
          "colorway": [
           "#636efa",
           "#EF553B",
           "#00cc96",
           "#ab63fa",
           "#FFA15A",
           "#19d3f3",
           "#FF6692",
           "#B6E880",
           "#FF97FF",
           "#FECB52"
          ],
          "font": {
           "color": "#2a3f5f"
          },
          "geo": {
           "bgcolor": "white",
           "lakecolor": "white",
           "landcolor": "#E5ECF6",
           "showlakes": true,
           "showland": true,
           "subunitcolor": "white"
          },
          "hoverlabel": {
           "align": "left"
          },
          "hovermode": "closest",
          "mapbox": {
           "style": "light"
          },
          "paper_bgcolor": "white",
          "plot_bgcolor": "#E5ECF6",
          "polar": {
           "angularaxis": {
            "gridcolor": "white",
            "linecolor": "white",
            "ticks": ""
           },
           "bgcolor": "#E5ECF6",
           "radialaxis": {
            "gridcolor": "white",
            "linecolor": "white",
            "ticks": ""
           }
          },
          "scene": {
           "xaxis": {
            "backgroundcolor": "#E5ECF6",
            "gridcolor": "white",
            "gridwidth": 2,
            "linecolor": "white",
            "showbackground": true,
            "ticks": "",
            "zerolinecolor": "white"
           },
           "yaxis": {
            "backgroundcolor": "#E5ECF6",
            "gridcolor": "white",
            "gridwidth": 2,
            "linecolor": "white",
            "showbackground": true,
            "ticks": "",
            "zerolinecolor": "white"
           },
           "zaxis": {
            "backgroundcolor": "#E5ECF6",
            "gridcolor": "white",
            "gridwidth": 2,
            "linecolor": "white",
            "showbackground": true,
            "ticks": "",
            "zerolinecolor": "white"
           }
          },
          "shapedefaults": {
           "line": {
            "color": "#2a3f5f"
           }
          },
          "ternary": {
           "aaxis": {
            "gridcolor": "white",
            "linecolor": "white",
            "ticks": ""
           },
           "baxis": {
            "gridcolor": "white",
            "linecolor": "white",
            "ticks": ""
           },
           "bgcolor": "#E5ECF6",
           "caxis": {
            "gridcolor": "white",
            "linecolor": "white",
            "ticks": ""
           }
          },
          "title": {
           "x": 0.05
          },
          "xaxis": {
           "automargin": true,
           "gridcolor": "white",
           "linecolor": "white",
           "ticks": "",
           "title": {
            "standoff": 15
           },
           "zerolinecolor": "white",
           "zerolinewidth": 2
          },
          "yaxis": {
           "automargin": true,
           "gridcolor": "white",
           "linecolor": "white",
           "ticks": "",
           "title": {
            "standoff": 15
           },
           "zerolinecolor": "white",
           "zerolinewidth": 2
          }
         }
        }
       }
      }
     },
     "metadata": {},
     "output_type": "display_data"
    }
   ],
   "source": [
    "plot_gamsat_gpa_3d(melb_offer, \"interview opinion discrete\", year=2022)\n",
    "plot_gamsat_gpa_3d(melb_offer, \"interview opinion discrete\", year=2023)"
   ]
  },
  {
   "cell_type": "code",
   "execution_count": 496,
   "id": "bb37b494",
   "metadata": {},
   "outputs": [
    {
     "data": {
      "image/png": "[encoded data removed]",
      "text/plain": [
       "<Figure size 640x480 with 1 Axes>"
      ]
     },
     "metadata": {},
     "output_type": "display_data"
    },
    {
     "data": {
      "image/png": "[encoded data removed]",
      "text/plain": [
       "<Figure size 640x480 with 1 Axes>"
      ]
     },
     "metadata": {},
     "output_type": "display_data"
    }
   ],
   "source": [
    "plot_gamsat_gpa(melb_offer, hue=\"interview opinion discrete\", year=2022, success_type=\"accepted\")\n",
    "plot_gamsat_gpa(melb_offer, hue=\"interview opinion discrete\", year=2022, success_type=\"rejected\")"
   ]
  },
  {
   "cell_type": "code",
   "execution_count": 500,
   "id": "b62eccfd",
   "metadata": {},
   "outputs": [
    {
     "data": {
      "image/png": "[encoded data removed]",
      "text/plain": [
       "<Figure size 640x480 with 1 Axes>"
      ]
     },
     "metadata": {},
     "output_type": "display_data"
    },
    {
     "data": {
      "image/png": "[encoded data removed]",
      "text/plain": [
       "<Figure size 640x480 with 1 Axes>"
      ]
     },
     "metadata": {},
     "output_type": "display_data"
    }
   ],
   "source": [
    "plot_gamsat_gpa(melb_offer, hue=\"interview opinion discrete\", year=2023, success_type=\"accepted\")\n",
    "plot_gamsat_gpa(melb_offer, hue=\"interview opinion discrete\", year=2023, success_type=\"rejected\")"
   ]
  },
  {
   "cell_type": "code",
   "execution_count": 503,
   "id": "465082fc",
   "metadata": {},
   "outputs": [
    {
     "data": {
      "image/png": "[encoded data removed]",
      "text/plain": [
       "<Figure size 640x480 with 1 Axes>"
      ]
     },
     "metadata": {},
     "output_type": "display_data"
    },
    {
     "data": {
      "image/png": "[encoded data removed]",
      "text/plain": [
       "<Figure size 640x480 with 1 Axes>"
      ]
     },
     "metadata": {},
     "output_type": "display_data"
    }
   ],
   "source": [
    "plot_gamsat_gpa(melb_offer, hue=\"interview prep hours discrete\", year=2023, success_type=\"accepted\")\n",
    "plot_gamsat_gpa(melb_offer, hue=\"interview prep hours discrete\", year=2023, success_type=\"rejected\")"
   ]
  },
  {
   "cell_type": "markdown",
   "id": "d72e6aa6",
   "metadata": {},
   "source": [
    "##### Combo score"
   ]
  },
  {
   "cell_type": "code",
   "execution_count": 564,
   "id": "e854bf4b",
   "metadata": {},
   "outputs": [
    {
     "data": {
      "text/html": [
       "<div>\n",
       "<style scoped>\n",
       "    .dataframe tbody tr th:only-of-type {\n",
       "        vertical-align: middle;\n",
       "    }\n",
       "\n",
       "    .dataframe tbody tr th {\n",
       "        vertical-align: top;\n",
       "    }\n",
       "\n",
       "    .dataframe thead th {\n",
       "        text-align: right;\n",
       "    }\n",
       "</style>\n",
       "<table border=\"1\" class=\"dataframe\">\n",
       "  <thead>\n",
       "    <tr style=\"text-align: right;\">\n",
       "      <th></th>\n",
       "      <th>accepted</th>\n",
       "      <th>rejected</th>\n",
       "    </tr>\n",
       "  </thead>\n",
       "  <tbody>\n",
       "    <tr>\n",
       "      <th>0.05</th>\n",
       "      <td>1.668024</td>\n",
       "      <td>1.641429</td>\n",
       "    </tr>\n",
       "    <tr>\n",
       "      <th>0.10</th>\n",
       "      <td>1.673333</td>\n",
       "      <td>1.672700</td>\n",
       "    </tr>\n",
       "    <tr>\n",
       "      <th>0.25</th>\n",
       "      <td>1.687675</td>\n",
       "      <td>1.689048</td>\n",
       "    </tr>\n",
       "  </tbody>\n",
       "</table>\n",
       "</div>"
      ],
      "text/plain": [
       "      accepted  rejected\n",
       "0.05  1.668024  1.641429\n",
       "0.10  1.673333  1.672700\n",
       "0.25  1.687675  1.689048"
      ]
     },
     "execution_count": 564,
     "metadata": {},
     "output_type": "execute_result"
    }
   ],
   "source": [
    "combo_quantile_success = melb_offer[melb_offer[\"success\"] == \"accepted\"][\"combo score\"].quantile([0.05, 0.1, 0.25])\n",
    "combo_quantile_reject = melb_offer[melb_offer[\"success\"] == \"rejected\"][\"combo score\"].quantile([0.05, 0.1, 0.25])\n",
    "\n",
    "combo_quantile_success.name = \"accepted\"\n",
    "combo_quantile_reject.name = \"rejected\"\n",
    "\n",
    "pd.concat([combo_quantile_success, combo_quantile_reject], axis=1)"
   ]
  },
  {
   "cell_type": "code",
   "execution_count": 587,
   "id": "807fe56f",
   "metadata": {},
   "outputs": [
    {
     "data": {
      "image/png": "[encoded data removed]",
      "text/plain": [
       "<Figure size 1000x600 with 1 Axes>"
      ]
     },
     "metadata": {},
     "output_type": "display_data"
    }
   ],
   "source": [
    "COLUMN_INTEREST = 'interview opinion discrete'\n",
    "\n",
    "# get the bins\n",
    "melb_offer['combo score binned'], bins = pd.qcut(melb_offer['combo score'], q=6, labels=False, retbins=True)\n",
    "\n",
    "# re change the bins\n",
    "bins = [round(x, 3) for x in bins]\n",
    "\n",
    "# Create a pivot table to calculate the counts for each bin\n",
    "pivot = melb_offer[melb_offer[\"success\"] == \"rejected\"].groupby(['combo score binned', COLUMN_INTEREST]).size().unstack(fill_value=0)\n",
    "\n",
    "# Calculate total counts and percentages\n",
    "pivot['total'] = pivot.sum(axis=1)\n",
    "\n",
    "# number of values\n",
    "num_values = pivot.shape[1] - 1\n",
    "\n",
    "for i in range(num_values):\n",
    "    pivot[f'{i}'] = (pivot.iloc[:, i] / pivot['total']) * 100  # % got in\n",
    "\n",
    "# Plotting the histogram\n",
    "fig, ax = plt.subplots(figsize=(10, 6))\n",
    "\n",
    "# Plot two bars: one for 'got in' and one for 'not got in'\n",
    "width = 0.1  # Width of the bars\n",
    "x = range(len(pivot))  # X locations for the bars\n",
    "\n",
    "# Bar positions\n",
    "COLORS = [\"blue\", \"green\", \"yellow\", \"orange\", \"red\", \"purple\", \"pink\"]\n",
    "for i in range(num_values):\n",
    "    bar_positions = [j + (i * width) for j in x]  # Shift each bar to the right based on its index\n",
    "    _ = ax.bar(bar_positions, pivot[f'{i}'], width, label=pivot.columns[i], color=COLORS[i])\n",
    "\n",
    "# Add labels and title\n",
    "ax.set_xlabel('Score Bins')\n",
    "ax.set_ylabel('Percentage of People')\n",
    "ax.set_title(COLUMN_INTEREST)\n",
    "ax.set_xticks(x)  # Set x ticks to the positions of the bars\n",
    "\n",
    "# Set x tick labels to the score bin edges\n",
    "ax.set_xticklabels([f\"{bins[i]} - {bins[i + 1]}\" for i in range(len(bins) - 1)])  # Create ranges\n",
    "\n",
    "ax.legend()\n",
    "\n",
    "plt.show()"
   ]
  },
  {
   "cell_type": "code",
   "execution_count": 585,
   "id": "6d9b11a6",
   "metadata": {},
   "outputs": [
    {
     "data": {
      "image/png": "[encoded data removed]",
      "text/plain": [
       "<Figure size 1000x600 with 1 Axes>"
      ]
     },
     "metadata": {},
     "output_type": "display_data"
    }
   ],
   "source": [
    "COLUMN_INTEREST = 'success'\n",
    "\n",
    "# get the bins\n",
    "melb_offer['combo score binned'], bins = pd.qcut(melb_offer['combo score'], q=6, labels=False, retbins=True)\n",
    "\n",
    "# re change the bins\n",
    "bins = [round(x, 3) for x in bins]\n",
    "\n",
    "# Create a pivot table to calculate the counts for each bin\n",
    "pivot = melb_offer.groupby(['combo score binned', COLUMN_INTEREST]).size().unstack(fill_value=0)\n",
    "\n",
    "# Calculate total counts and percentages\n",
    "pivot['total'] = pivot.sum(axis=1)\n",
    "\n",
    "# number of values\n",
    "num_values = pivot.shape[1] - 1\n",
    "\n",
    "for i in range(num_values):\n",
    "    pivot[f'{i}'] = (pivot.iloc[:, i] / pivot['total']) * 100  # % got in\n",
    "\n",
    "# Plotting the histogram\n",
    "fig, ax = plt.subplots(figsize=(10, 6))\n",
    "\n",
    "# Plot two bars: one for 'got in' and one for 'not got in'\n",
    "width = 0.1  # Width of the bars\n",
    "x = range(len(pivot))  # X locations for the bars\n",
    "\n",
    "# Bar positions\n",
    "COLORS = [\"blue\", \"green\", \"yellow\", \"orange\", \"red\", \"purple\", \"pink\"]\n",
    "for i in range(num_values):\n",
    "    bar_positions = [j + (i * width) for j in x]  # Shift each bar to the right based on its index\n",
    "    _ = ax.bar(bar_positions, pivot[f'{i}'], width, label=pivot.columns[i], color=COLORS[i])\n",
    "\n",
    "# Add labels and title\n",
    "ax.set_xlabel('Score Bins')\n",
    "ax.set_ylabel('Percentage of People')\n",
    "ax.set_title(COLUMN_INTEREST)\n",
    "ax.set_xticks(x)  # Set x ticks to the positions of the bars\n",
    "\n",
    "# Set x tick labels to the score bin edges\n",
    "ax.set_xticklabels([f\"{bins[i]} - {bins[i + 1]}\" for i in range(len(bins) - 1)])  # Create ranges\n",
    "\n",
    "ax.legend()\n",
    "\n",
    "plt.show()"
   ]
  },
  {
   "cell_type": "markdown",
   "id": "e40b448b",
   "metadata": {},
   "source": [
    "## GEMSAS Interview"
   ]
  },
  {
   "cell_type": "markdown",
   "id": "6758320a",
   "metadata": {},
   "source": [
    "### reading in and filtering"
   ]
  },
  {
   "cell_type": "code",
   "execution_count": 149,
   "id": "e1ed13b6",
   "metadata": {},
   "outputs": [],
   "source": [
    "# read in\n",
    "interview = pd.read_csv(f\"{RELATIVE_PATH_IN}/interview.csv\", index_col=0)\n",
    "\n",
    "# drop unncessary columns\n",
    "interview.drop(columns=[\"timestamp\", \"uw gamsat\", \"w gamsat\", \"duplicates?\", \"location\", \"outlier\"], inplace=True)"
   ]
  },
  {
   "cell_type": "code",
   "execution_count": 150,
   "id": "840c6e17",
   "metadata": {},
   "outputs": [
    {
     "data": {
      "text/plain": [
       "Index(['rurality', 's1 score', 's2 score', 's3 score', 'deakin bonus',\n",
       "       'anu bonus', 'mq bonus', 'notes', 'interview?', 'interview uni',\n",
       "       'interview uni gpa', 'interview uni gamsat', 'pref 1 uni', 'pref 1 gpa',\n",
       "       'pref 1 gamsat', 'pref 2 uni', 'pref 2 gpa', 'pref 2 gamsat',\n",
       "       'pref 3 uni', 'pref 3 gpa', 'pref 3 gamsat', 'pref 4 uni', 'pref 4 gpa',\n",
       "       'pref 4 gamsat', 'pref 5 uni', 'pref 5 gpa', 'pref 5 gamsat',\n",
       "       'pref 6 uni', 'pref 6 gpa', 'pref 6 gamsat', 'year', 'uq tier',\n",
       "       'casper quartile', 'deakin tier', 'unimelb gam', 'undf bonuses',\n",
       "       'unds bonuses', 'uow bonuses'],\n",
       "      dtype='object')"
      ]
     },
     "execution_count": 150,
     "metadata": {},
     "output_type": "execute_result"
    }
   ],
   "source": [
    "interview.columns"
   ]
  },
  {
   "cell_type": "code",
   "execution_count": 151,
   "id": "896c7cd2",
   "metadata": {},
   "outputs": [
    {
     "data": {
      "text/plain": [
       "uq tier\n",
       "Tier 3                92\n",
       "Tier 2                14\n",
       "Tier 1 (DD RMP)        4\n",
       "Tier 1 (CQ/WB)         4\n",
       "Tier 1 (CQ-WB RMP)     3\n",
       "Tier 1 (DD)            1\n",
       "Name: count, dtype: int64"
      ]
     },
     "execution_count": 151,
     "metadata": {},
     "output_type": "execute_result"
    }
   ],
   "source": [
    "interview[\"uq tier\"].value_counts()"
   ]
  },
  {
   "cell_type": "code",
   "execution_count": 152,
   "id": "76f9873f",
   "metadata": {},
   "outputs": [
    {
     "data": {
      "text/plain": [
       "955"
      ]
     },
     "execution_count": 152,
     "metadata": {},
     "output_type": "execute_result"
    }
   ],
   "source": [
    "situation_mask = ((interview[\"rurality\"] == \"Non-Rural\") &\n",
    "                  (interview[\"deakin bonus\"] == 0) &\n",
    "                  (~uni_mask(interview[\"deakin tier\"], \"tier\")) &\n",
    "                  (interview[\"unimelb gam\"] != \"Yes\") &\n",
    "                  ((interview[\"uq tier\"].isna()) |\n",
    "                   (interview[\"uq tier\"] == \"Tier 3\")))\n",
    "\n",
    "interview_filt = interview[situation_mask]\n",
    "interview_filt.shape[0]"
   ]
  },
  {
   "cell_type": "code",
   "execution_count": 153,
   "id": "17164f87",
   "metadata": {},
   "outputs": [],
   "source": [
    "interview.to_csv(RELATIVE_PATH_OUT + \"interview.csv\")\n",
    "interview_filt.to_csv(RELATIVE_PATH_OUT + \"interview filtered.csv\")"
   ]
  },
  {
   "cell_type": "markdown",
   "id": "89afdd9f",
   "metadata": {},
   "source": [
    "### Functions"
   ]
  },
  {
   "cell_type": "markdown",
   "id": "6383615f",
   "metadata": {},
   "source": [
    "#### Filtering"
   ]
  },
  {
   "cell_type": "code",
   "execution_count": 154,
   "id": "12d95856",
   "metadata": {},
   "outputs": [],
   "source": [
    "def get_row_interview(series, uni):\n",
    "    # get the uni index (only appears once)\n",
    "    uni_value = series[uni_mask(series, uni)].values[0]\n",
    "    uni_index = list(series.values).index(uni_value)\n",
    "\n",
    "    # check if got offer\n",
    "    if (\"interview\" in series.index[uni_index]):\n",
    "        return \"accepted\"\n",
    "    else:\n",
    "        return \"rejected\""
   ]
  },
  {
   "cell_type": "code",
   "execution_count": 155,
   "id": "2081395e",
   "metadata": {},
   "outputs": [],
   "source": [
    "PREFERENCE_COLUMNS = [f\"pref {i+1} uni\" for i in range(6)]\n",
    "\n",
    "def get_row_preference_interview(series, uni):\n",
    "    # get the uni index (only appears once)\n",
    "    uni_value = series[uni_mask(series, uni)].values[0]\n",
    "    uni_index = list(series.values).index(uni_value)\n",
    "    uni_index_name = list(series.index)[uni_index]\n",
    "\n",
    "    # if preference in there, can append\n",
    "    if (\"pref\" in uni_index_name):\n",
    "        return int(uni_index_name[5])\n",
    "    \n",
    "    # see the number of preferences gone through\n",
    "    perferences_done = series.loc[PREFERENCE_COLUMNS].notna().sum()\n",
    "\n",
    "    return perferences_done + 1"
   ]
  },
  {
   "cell_type": "code",
   "execution_count": 156,
   "id": "354f3f74",
   "metadata": {},
   "outputs": [],
   "source": [
    "def get_row_uni_info_interview(series, uni):\n",
    "    # get the uni index (only appears once)\n",
    "    uni_value = series[uni_mask(series, uni)].values[0]\n",
    "    uni_index = list(series.values).index(uni_value)\n",
    "\n",
    "    # get the next value\n",
    "    uni_info = list(series.values)[uni_index+1: uni_index+3]\n",
    "    uni_info = [float(x) for x in uni_info]\n",
    "\n",
    "    # get the preference\n",
    "    uni_info.append(get_row_preference_interview(series, uni))\n",
    "    \n",
    "    return uni_info"
   ]
  },
  {
   "cell_type": "code",
   "execution_count": 157,
   "id": "858a140f",
   "metadata": {},
   "outputs": [],
   "source": [
    "PREFERENCE_COLUMNS = [f\"pref {i+1} uni\" for i in range(6)]\n",
    "\n",
    "def mask_columns_interview(df, uni, preference_only=False, exact=False):\n",
    "    if (not preference_only and not exact):\n",
    "        mask = uni_mask(df[\"interview uni\"], uni)\n",
    "    elif (not preference_only):\n",
    "        mask = df[\"interview uni\"] == uni\n",
    "    else:\n",
    "        mask = pd.Series(data=True, index=df.index)\n",
    "\n",
    "    for preference_col in PREFERENCE_COLUMNS:\n",
    "        if (not exact):\n",
    "            mask = mask | (uni_mask(df[preference_col], uni))\n",
    "        else:\n",
    "            mask = mask | (df[preference_col] == uni)\n",
    "\n",
    "    return mask"
   ]
  },
  {
   "cell_type": "code",
   "execution_count": 158,
   "id": "db24041e",
   "metadata": {},
   "outputs": [],
   "source": [
    "def get_uni_gpa_interview(df, uni, columns=\"subset\", exact=False):\n",
    "    # filter for the uni\n",
    "    df_filt = df[mask_columns_interview(df, uni, exact=exact)]\n",
    "\n",
    "    # get each uni gpa\n",
    "    df_filt[[\"gpa\", \"gamsat\", \"preference\"]] = df_filt.apply(lambda x: get_row_uni_info_interview(x, uni), axis=1).apply(pd.Series)\n",
    "\n",
    "    # get the combo score\n",
    "    df_filt[\"combo score\"] = df_filt[\"gpa\"] / 7 + df_filt[\"gamsat\"] / 100\n",
    "\n",
    "    # get the interview offers\n",
    "    df_filt.loc[:, \"success\"] = df_filt.apply(lambda x: get_row_interview(x, uni), axis=1)\n",
    "    \n",
    "    # get the column of \n",
    "    if (columns == \"subset\"):\n",
    "        df_filt = df_filt[[\"interview uni\", \"gpa\", \"gamsat\", \"preference\", \"combo score\", \"success\", \n",
    "                           \"anu bonus\", \"uq tier\", \"year\", \"unimelb gam\", \"undf bonuses\", \"unds bonuses\", \"notes\"]]\n",
    "    # otherwise use all columns\n",
    "\n",
    "    # return the df\n",
    "    return df_filt"
   ]
  },
  {
   "cell_type": "markdown",
   "id": "f3681b74",
   "metadata": {},
   "source": [
    "### Execution"
   ]
  },
  {
   "cell_type": "markdown",
   "id": "8d714a56",
   "metadata": {},
   "source": [
    "#### Basic"
   ]
  },
  {
   "cell_type": "code",
   "execution_count": 159,
   "id": "0c467d82",
   "metadata": {},
   "outputs": [],
   "source": [
    "def get_basic_interview(df, uni_name, relative_path_out):\n",
    "    uni_interview = get_uni_gpa_interview(df, uni_name, exact=True)\n",
    "\n",
    "    plot_gamsat_gpa(uni_interview, hue=\"success\", year=2022, path=f\"{relative_path_out}/{uni_name} 2022\", title=f\"{uni_name} 2022 ({filter_frame(uni_interview, year=2022).shape[0]})\")\n",
    "    plot_gamsat_gpa(uni_interview, hue=\"success\", year=2023, path=f\"{relative_path_out}/{uni_name} 2023\", title=f\"{uni_name} 2023 ({filter_frame(uni_interview, year=2023).shape[0]})\")\n",
    "    plot_gamsat_gpa(uni_interview, hue=\"success\", year=2024, path=f\"{relative_path_out}/{uni_name} 2024\", title=f\"{uni_name} 2024 ({filter_frame(uni_interview, year=2024).shape[0]})\")"
   ]
  },
  {
   "cell_type": "code",
   "execution_count": 160,
   "id": "1feeb4e0",
   "metadata": {},
   "outputs": [
    {
     "name": "stderr",
     "output_type": "stream",
     "text": [
      "C:\\Users\\mtp63\\AppData\\Local\\Temp\\ipykernel_23940\\35302099.py:6: SettingWithCopyWarning: \n",
      "A value is trying to be set on a copy of a slice from a DataFrame.\n",
      "Try using .loc[row_indexer,col_indexer] = value instead\n",
      "\n",
      "See the caveats in the documentation: https://pandas.pydata.org/pandas-docs/stable/user_guide/indexing.html#returning-a-view-versus-a-copy\n",
      "  df_filt[[\"gpa\", \"gamsat\", \"preference\"]] = df_filt.apply(lambda x: get_row_uni_info_interview(x, uni), axis=1).apply(pd.Series)\n",
      "C:\\Users\\mtp63\\AppData\\Local\\Temp\\ipykernel_23940\\35302099.py:6: SettingWithCopyWarning: \n",
      "A value is trying to be set on a copy of a slice from a DataFrame.\n",
      "Try using .loc[row_indexer,col_indexer] = value instead\n",
      "\n",
      "See the caveats in the documentation: https://pandas.pydata.org/pandas-docs/stable/user_guide/indexing.html#returning-a-view-versus-a-copy\n",
      "  df_filt[[\"gpa\", \"gamsat\", \"preference\"]] = df_filt.apply(lambda x: get_row_uni_info_interview(x, uni), axis=1).apply(pd.Series)\n",
      "C:\\Users\\mtp63\\AppData\\Local\\Temp\\ipykernel_23940\\35302099.py:6: SettingWithCopyWarning: \n",
      "A value is trying to be set on a copy of a slice from a DataFrame.\n",
      "Try using .loc[row_indexer,col_indexer] = value instead\n",
      "\n",
      "See the caveats in the documentation: https://pandas.pydata.org/pandas-docs/stable/user_guide/indexing.html#returning-a-view-versus-a-copy\n",
      "  df_filt[[\"gpa\", \"gamsat\", \"preference\"]] = df_filt.apply(lambda x: get_row_uni_info_interview(x, uni), axis=1).apply(pd.Series)\n",
      "C:\\Users\\mtp63\\AppData\\Local\\Temp\\ipykernel_23940\\35302099.py:9: SettingWithCopyWarning: \n",
      "A value is trying to be set on a copy of a slice from a DataFrame.\n",
      "Try using .loc[row_indexer,col_indexer] = value instead\n",
      "\n",
      "See the caveats in the documentation: https://pandas.pydata.org/pandas-docs/stable/user_guide/indexing.html#returning-a-view-versus-a-copy\n",
      "  df_filt[\"combo score\"] = df_filt[\"gpa\"] / 7 + df_filt[\"gamsat\"] / 100\n",
      "C:\\Users\\mtp63\\AppData\\Local\\Temp\\ipykernel_23940\\35302099.py:12: SettingWithCopyWarning: \n",
      "A value is trying to be set on a copy of a slice from a DataFrame.\n",
      "Try using .loc[row_indexer,col_indexer] = value instead\n",
      "\n",
      "See the caveats in the documentation: https://pandas.pydata.org/pandas-docs/stable/user_guide/indexing.html#returning-a-view-versus-a-copy\n",
      "  df_filt.loc[:, \"success\"] = df_filt.apply(lambda x: get_row_interview(x, uni), axis=1)\n",
      "C:\\Users\\mtp63\\AppData\\Local\\Temp\\ipykernel_23940\\35302099.py:6: SettingWithCopyWarning: \n",
      "A value is trying to be set on a copy of a slice from a DataFrame.\n",
      "Try using .loc[row_indexer,col_indexer] = value instead\n",
      "\n",
      "See the caveats in the documentation: https://pandas.pydata.org/pandas-docs/stable/user_guide/indexing.html#returning-a-view-versus-a-copy\n",
      "  df_filt[[\"gpa\", \"gamsat\", \"preference\"]] = df_filt.apply(lambda x: get_row_uni_info_interview(x, uni), axis=1).apply(pd.Series)\n",
      "C:\\Users\\mtp63\\AppData\\Local\\Temp\\ipykernel_23940\\35302099.py:6: SettingWithCopyWarning: \n",
      "A value is trying to be set on a copy of a slice from a DataFrame.\n",
      "Try using .loc[row_indexer,col_indexer] = value instead\n",
      "\n",
      "See the caveats in the documentation: https://pandas.pydata.org/pandas-docs/stable/user_guide/indexing.html#returning-a-view-versus-a-copy\n",
      "  df_filt[[\"gpa\", \"gamsat\", \"preference\"]] = df_filt.apply(lambda x: get_row_uni_info_interview(x, uni), axis=1).apply(pd.Series)\n",
      "C:\\Users\\mtp63\\AppData\\Local\\Temp\\ipykernel_23940\\35302099.py:6: SettingWithCopyWarning: \n",
      "A value is trying to be set on a copy of a slice from a DataFrame.\n",
      "Try using .loc[row_indexer,col_indexer] = value instead\n",
      "\n",
      "See the caveats in the documentation: https://pandas.pydata.org/pandas-docs/stable/user_guide/indexing.html#returning-a-view-versus-a-copy\n",
      "  df_filt[[\"gpa\", \"gamsat\", \"preference\"]] = df_filt.apply(lambda x: get_row_uni_info_interview(x, uni), axis=1).apply(pd.Series)\n",
      "C:\\Users\\mtp63\\AppData\\Local\\Temp\\ipykernel_23940\\35302099.py:9: SettingWithCopyWarning: \n",
      "A value is trying to be set on a copy of a slice from a DataFrame.\n",
      "Try using .loc[row_indexer,col_indexer] = value instead\n",
      "\n",
      "See the caveats in the documentation: https://pandas.pydata.org/pandas-docs/stable/user_guide/indexing.html#returning-a-view-versus-a-copy\n",
      "  df_filt[\"combo score\"] = df_filt[\"gpa\"] / 7 + df_filt[\"gamsat\"] / 100\n",
      "C:\\Users\\mtp63\\AppData\\Local\\Temp\\ipykernel_23940\\35302099.py:12: SettingWithCopyWarning: \n",
      "A value is trying to be set on a copy of a slice from a DataFrame.\n",
      "Try using .loc[row_indexer,col_indexer] = value instead\n",
      "\n",
      "See the caveats in the documentation: https://pandas.pydata.org/pandas-docs/stable/user_guide/indexing.html#returning-a-view-versus-a-copy\n",
      "  df_filt.loc[:, \"success\"] = df_filt.apply(lambda x: get_row_interview(x, uni), axis=1)\n",
      "C:\\Users\\mtp63\\AppData\\Local\\Temp\\ipykernel_23940\\35302099.py:6: SettingWithCopyWarning: \n",
      "A value is trying to be set on a copy of a slice from a DataFrame.\n",
      "Try using .loc[row_indexer,col_indexer] = value instead\n",
      "\n",
      "See the caveats in the documentation: https://pandas.pydata.org/pandas-docs/stable/user_guide/indexing.html#returning-a-view-versus-a-copy\n",
      "  df_filt[[\"gpa\", \"gamsat\", \"preference\"]] = df_filt.apply(lambda x: get_row_uni_info_interview(x, uni), axis=1).apply(pd.Series)\n",
      "C:\\Users\\mtp63\\AppData\\Local\\Temp\\ipykernel_23940\\35302099.py:6: SettingWithCopyWarning: \n",
      "A value is trying to be set on a copy of a slice from a DataFrame.\n",
      "Try using .loc[row_indexer,col_indexer] = value instead\n",
      "\n",
      "See the caveats in the documentation: https://pandas.pydata.org/pandas-docs/stable/user_guide/indexing.html#returning-a-view-versus-a-copy\n",
      "  df_filt[[\"gpa\", \"gamsat\", \"preference\"]] = df_filt.apply(lambda x: get_row_uni_info_interview(x, uni), axis=1).apply(pd.Series)\n",
      "C:\\Users\\mtp63\\AppData\\Local\\Temp\\ipykernel_23940\\35302099.py:6: SettingWithCopyWarning: \n",
      "A value is trying to be set on a copy of a slice from a DataFrame.\n",
      "Try using .loc[row_indexer,col_indexer] = value instead\n",
      "\n",
      "See the caveats in the documentation: https://pandas.pydata.org/pandas-docs/stable/user_guide/indexing.html#returning-a-view-versus-a-copy\n",
      "  df_filt[[\"gpa\", \"gamsat\", \"preference\"]] = df_filt.apply(lambda x: get_row_uni_info_interview(x, uni), axis=1).apply(pd.Series)\n",
      "C:\\Users\\mtp63\\AppData\\Local\\Temp\\ipykernel_23940\\35302099.py:9: SettingWithCopyWarning: \n",
      "A value is trying to be set on a copy of a slice from a DataFrame.\n",
      "Try using .loc[row_indexer,col_indexer] = value instead\n",
      "\n",
      "See the caveats in the documentation: https://pandas.pydata.org/pandas-docs/stable/user_guide/indexing.html#returning-a-view-versus-a-copy\n",
      "  df_filt[\"combo score\"] = df_filt[\"gpa\"] / 7 + df_filt[\"gamsat\"] / 100\n",
      "C:\\Users\\mtp63\\AppData\\Local\\Temp\\ipykernel_23940\\35302099.py:12: SettingWithCopyWarning: \n",
      "A value is trying to be set on a copy of a slice from a DataFrame.\n",
      "Try using .loc[row_indexer,col_indexer] = value instead\n",
      "\n",
      "See the caveats in the documentation: https://pandas.pydata.org/pandas-docs/stable/user_guide/indexing.html#returning-a-view-versus-a-copy\n",
      "  df_filt.loc[:, \"success\"] = df_filt.apply(lambda x: get_row_interview(x, uni), axis=1)\n",
      "C:\\Users\\mtp63\\AppData\\Local\\Temp\\ipykernel_23940\\35302099.py:6: SettingWithCopyWarning: \n",
      "A value is trying to be set on a copy of a slice from a DataFrame.\n",
      "Try using .loc[row_indexer,col_indexer] = value instead\n",
      "\n",
      "See the caveats in the documentation: https://pandas.pydata.org/pandas-docs/stable/user_guide/indexing.html#returning-a-view-versus-a-copy\n",
      "  df_filt[[\"gpa\", \"gamsat\", \"preference\"]] = df_filt.apply(lambda x: get_row_uni_info_interview(x, uni), axis=1).apply(pd.Series)\n",
      "C:\\Users\\mtp63\\AppData\\Local\\Temp\\ipykernel_23940\\35302099.py:6: SettingWithCopyWarning: \n",
      "A value is trying to be set on a copy of a slice from a DataFrame.\n",
      "Try using .loc[row_indexer,col_indexer] = value instead\n",
      "\n",
      "See the caveats in the documentation: https://pandas.pydata.org/pandas-docs/stable/user_guide/indexing.html#returning-a-view-versus-a-copy\n",
      "  df_filt[[\"gpa\", \"gamsat\", \"preference\"]] = df_filt.apply(lambda x: get_row_uni_info_interview(x, uni), axis=1).apply(pd.Series)\n",
      "C:\\Users\\mtp63\\AppData\\Local\\Temp\\ipykernel_23940\\35302099.py:6: SettingWithCopyWarning: \n",
      "A value is trying to be set on a copy of a slice from a DataFrame.\n",
      "Try using .loc[row_indexer,col_indexer] = value instead\n",
      "\n",
      "See the caveats in the documentation: https://pandas.pydata.org/pandas-docs/stable/user_guide/indexing.html#returning-a-view-versus-a-copy\n",
      "  df_filt[[\"gpa\", \"gamsat\", \"preference\"]] = df_filt.apply(lambda x: get_row_uni_info_interview(x, uni), axis=1).apply(pd.Series)\n",
      "C:\\Users\\mtp63\\AppData\\Local\\Temp\\ipykernel_23940\\35302099.py:9: SettingWithCopyWarning: \n",
      "A value is trying to be set on a copy of a slice from a DataFrame.\n",
      "Try using .loc[row_indexer,col_indexer] = value instead\n",
      "\n",
      "See the caveats in the documentation: https://pandas.pydata.org/pandas-docs/stable/user_guide/indexing.html#returning-a-view-versus-a-copy\n",
      "  df_filt[\"combo score\"] = df_filt[\"gpa\"] / 7 + df_filt[\"gamsat\"] / 100\n",
      "C:\\Users\\mtp63\\AppData\\Local\\Temp\\ipykernel_23940\\35302099.py:12: SettingWithCopyWarning: \n",
      "A value is trying to be set on a copy of a slice from a DataFrame.\n",
      "Try using .loc[row_indexer,col_indexer] = value instead\n",
      "\n",
      "See the caveats in the documentation: https://pandas.pydata.org/pandas-docs/stable/user_guide/indexing.html#returning-a-view-versus-a-copy\n",
      "  df_filt.loc[:, \"success\"] = df_filt.apply(lambda x: get_row_interview(x, uni), axis=1)\n",
      "C:\\Users\\mtp63\\AppData\\Local\\Temp\\ipykernel_23940\\35302099.py:6: SettingWithCopyWarning: \n",
      "A value is trying to be set on a copy of a slice from a DataFrame.\n",
      "Try using .loc[row_indexer,col_indexer] = value instead\n",
      "\n",
      "See the caveats in the documentation: https://pandas.pydata.org/pandas-docs/stable/user_guide/indexing.html#returning-a-view-versus-a-copy\n",
      "  df_filt[[\"gpa\", \"gamsat\", \"preference\"]] = df_filt.apply(lambda x: get_row_uni_info_interview(x, uni), axis=1).apply(pd.Series)\n",
      "C:\\Users\\mtp63\\AppData\\Local\\Temp\\ipykernel_23940\\35302099.py:6: SettingWithCopyWarning: \n",
      "A value is trying to be set on a copy of a slice from a DataFrame.\n",
      "Try using .loc[row_indexer,col_indexer] = value instead\n",
      "\n",
      "See the caveats in the documentation: https://pandas.pydata.org/pandas-docs/stable/user_guide/indexing.html#returning-a-view-versus-a-copy\n",
      "  df_filt[[\"gpa\", \"gamsat\", \"preference\"]] = df_filt.apply(lambda x: get_row_uni_info_interview(x, uni), axis=1).apply(pd.Series)\n",
      "C:\\Users\\mtp63\\AppData\\Local\\Temp\\ipykernel_23940\\35302099.py:6: SettingWithCopyWarning: \n",
      "A value is trying to be set on a copy of a slice from a DataFrame.\n",
      "Try using .loc[row_indexer,col_indexer] = value instead\n",
      "\n",
      "See the caveats in the documentation: https://pandas.pydata.org/pandas-docs/stable/user_guide/indexing.html#returning-a-view-versus-a-copy\n",
      "  df_filt[[\"gpa\", \"gamsat\", \"preference\"]] = df_filt.apply(lambda x: get_row_uni_info_interview(x, uni), axis=1).apply(pd.Series)\n",
      "C:\\Users\\mtp63\\AppData\\Local\\Temp\\ipykernel_23940\\35302099.py:9: SettingWithCopyWarning: \n",
      "A value is trying to be set on a copy of a slice from a DataFrame.\n",
      "Try using .loc[row_indexer,col_indexer] = value instead\n",
      "\n",
      "See the caveats in the documentation: https://pandas.pydata.org/pandas-docs/stable/user_guide/indexing.html#returning-a-view-versus-a-copy\n",
      "  df_filt[\"combo score\"] = df_filt[\"gpa\"] / 7 + df_filt[\"gamsat\"] / 100\n",
      "C:\\Users\\mtp63\\AppData\\Local\\Temp\\ipykernel_23940\\35302099.py:12: SettingWithCopyWarning: \n",
      "A value is trying to be set on a copy of a slice from a DataFrame.\n",
      "Try using .loc[row_indexer,col_indexer] = value instead\n",
      "\n",
      "See the caveats in the documentation: https://pandas.pydata.org/pandas-docs/stable/user_guide/indexing.html#returning-a-view-versus-a-copy\n",
      "  df_filt.loc[:, \"success\"] = df_filt.apply(lambda x: get_row_interview(x, uni), axis=1)\n",
      "C:\\Users\\mtp63\\AppData\\Local\\Temp\\ipykernel_23940\\35302099.py:6: SettingWithCopyWarning: \n",
      "A value is trying to be set on a copy of a slice from a DataFrame.\n",
      "Try using .loc[row_indexer,col_indexer] = value instead\n",
      "\n",
      "See the caveats in the documentation: https://pandas.pydata.org/pandas-docs/stable/user_guide/indexing.html#returning-a-view-versus-a-copy\n",
      "  df_filt[[\"gpa\", \"gamsat\", \"preference\"]] = df_filt.apply(lambda x: get_row_uni_info_interview(x, uni), axis=1).apply(pd.Series)\n",
      "C:\\Users\\mtp63\\AppData\\Local\\Temp\\ipykernel_23940\\35302099.py:6: SettingWithCopyWarning: \n",
      "A value is trying to be set on a copy of a slice from a DataFrame.\n",
      "Try using .loc[row_indexer,col_indexer] = value instead\n",
      "\n",
      "See the caveats in the documentation: https://pandas.pydata.org/pandas-docs/stable/user_guide/indexing.html#returning-a-view-versus-a-copy\n",
      "  df_filt[[\"gpa\", \"gamsat\", \"preference\"]] = df_filt.apply(lambda x: get_row_uni_info_interview(x, uni), axis=1).apply(pd.Series)\n",
      "C:\\Users\\mtp63\\AppData\\Local\\Temp\\ipykernel_23940\\35302099.py:6: SettingWithCopyWarning: \n",
      "A value is trying to be set on a copy of a slice from a DataFrame.\n",
      "Try using .loc[row_indexer,col_indexer] = value instead\n",
      "\n",
      "See the caveats in the documentation: https://pandas.pydata.org/pandas-docs/stable/user_guide/indexing.html#returning-a-view-versus-a-copy\n",
      "  df_filt[[\"gpa\", \"gamsat\", \"preference\"]] = df_filt.apply(lambda x: get_row_uni_info_interview(x, uni), axis=1).apply(pd.Series)\n",
      "C:\\Users\\mtp63\\AppData\\Local\\Temp\\ipykernel_23940\\35302099.py:9: SettingWithCopyWarning: \n",
      "A value is trying to be set on a copy of a slice from a DataFrame.\n",
      "Try using .loc[row_indexer,col_indexer] = value instead\n",
      "\n",
      "See the caveats in the documentation: https://pandas.pydata.org/pandas-docs/stable/user_guide/indexing.html#returning-a-view-versus-a-copy\n",
      "  df_filt[\"combo score\"] = df_filt[\"gpa\"] / 7 + df_filt[\"gamsat\"] / 100\n",
      "C:\\Users\\mtp63\\AppData\\Local\\Temp\\ipykernel_23940\\35302099.py:12: SettingWithCopyWarning: \n",
      "A value is trying to be set on a copy of a slice from a DataFrame.\n",
      "Try using .loc[row_indexer,col_indexer] = value instead\n",
      "\n",
      "See the caveats in the documentation: https://pandas.pydata.org/pandas-docs/stable/user_guide/indexing.html#returning-a-view-versus-a-copy\n",
      "  df_filt.loc[:, \"success\"] = df_filt.apply(lambda x: get_row_interview(x, uni), axis=1)\n",
      "C:\\Users\\mtp63\\AppData\\Local\\Temp\\ipykernel_23940\\35302099.py:6: SettingWithCopyWarning: \n",
      "A value is trying to be set on a copy of a slice from a DataFrame.\n",
      "Try using .loc[row_indexer,col_indexer] = value instead\n",
      "\n",
      "See the caveats in the documentation: https://pandas.pydata.org/pandas-docs/stable/user_guide/indexing.html#returning-a-view-versus-a-copy\n",
      "  df_filt[[\"gpa\", \"gamsat\", \"preference\"]] = df_filt.apply(lambda x: get_row_uni_info_interview(x, uni), axis=1).apply(pd.Series)\n",
      "C:\\Users\\mtp63\\AppData\\Local\\Temp\\ipykernel_23940\\35302099.py:6: SettingWithCopyWarning: \n",
      "A value is trying to be set on a copy of a slice from a DataFrame.\n",
      "Try using .loc[row_indexer,col_indexer] = value instead\n",
      "\n",
      "See the caveats in the documentation: https://pandas.pydata.org/pandas-docs/stable/user_guide/indexing.html#returning-a-view-versus-a-copy\n",
      "  df_filt[[\"gpa\", \"gamsat\", \"preference\"]] = df_filt.apply(lambda x: get_row_uni_info_interview(x, uni), axis=1).apply(pd.Series)\n",
      "C:\\Users\\mtp63\\AppData\\Local\\Temp\\ipykernel_23940\\35302099.py:6: SettingWithCopyWarning: \n",
      "A value is trying to be set on a copy of a slice from a DataFrame.\n",
      "Try using .loc[row_indexer,col_indexer] = value instead\n",
      "\n",
      "See the caveats in the documentation: https://pandas.pydata.org/pandas-docs/stable/user_guide/indexing.html#returning-a-view-versus-a-copy\n",
      "  df_filt[[\"gpa\", \"gamsat\", \"preference\"]] = df_filt.apply(lambda x: get_row_uni_info_interview(x, uni), axis=1).apply(pd.Series)\n",
      "C:\\Users\\mtp63\\AppData\\Local\\Temp\\ipykernel_23940\\35302099.py:9: SettingWithCopyWarning: \n",
      "A value is trying to be set on a copy of a slice from a DataFrame.\n",
      "Try using .loc[row_indexer,col_indexer] = value instead\n",
      "\n",
      "See the caveats in the documentation: https://pandas.pydata.org/pandas-docs/stable/user_guide/indexing.html#returning-a-view-versus-a-copy\n",
      "  df_filt[\"combo score\"] = df_filt[\"gpa\"] / 7 + df_filt[\"gamsat\"] / 100\n",
      "C:\\Users\\mtp63\\AppData\\Local\\Temp\\ipykernel_23940\\35302099.py:12: SettingWithCopyWarning: \n",
      "A value is trying to be set on a copy of a slice from a DataFrame.\n",
      "Try using .loc[row_indexer,col_indexer] = value instead\n",
      "\n",
      "See the caveats in the documentation: https://pandas.pydata.org/pandas-docs/stable/user_guide/indexing.html#returning-a-view-versus-a-copy\n",
      "  df_filt.loc[:, \"success\"] = df_filt.apply(lambda x: get_row_interview(x, uni), axis=1)\n",
      "C:\\Users\\mtp63\\AppData\\Local\\Temp\\ipykernel_23940\\35302099.py:6: SettingWithCopyWarning: \n",
      "A value is trying to be set on a copy of a slice from a DataFrame.\n",
      "Try using .loc[row_indexer,col_indexer] = value instead\n",
      "\n",
      "See the caveats in the documentation: https://pandas.pydata.org/pandas-docs/stable/user_guide/indexing.html#returning-a-view-versus-a-copy\n",
      "  df_filt[[\"gpa\", \"gamsat\", \"preference\"]] = df_filt.apply(lambda x: get_row_uni_info_interview(x, uni), axis=1).apply(pd.Series)\n",
      "C:\\Users\\mtp63\\AppData\\Local\\Temp\\ipykernel_23940\\35302099.py:6: SettingWithCopyWarning: \n",
      "A value is trying to be set on a copy of a slice from a DataFrame.\n",
      "Try using .loc[row_indexer,col_indexer] = value instead\n",
      "\n",
      "See the caveats in the documentation: https://pandas.pydata.org/pandas-docs/stable/user_guide/indexing.html#returning-a-view-versus-a-copy\n",
      "  df_filt[[\"gpa\", \"gamsat\", \"preference\"]] = df_filt.apply(lambda x: get_row_uni_info_interview(x, uni), axis=1).apply(pd.Series)\n",
      "C:\\Users\\mtp63\\AppData\\Local\\Temp\\ipykernel_23940\\35302099.py:6: SettingWithCopyWarning: \n",
      "A value is trying to be set on a copy of a slice from a DataFrame.\n",
      "Try using .loc[row_indexer,col_indexer] = value instead\n",
      "\n",
      "See the caveats in the documentation: https://pandas.pydata.org/pandas-docs/stable/user_guide/indexing.html#returning-a-view-versus-a-copy\n",
      "  df_filt[[\"gpa\", \"gamsat\", \"preference\"]] = df_filt.apply(lambda x: get_row_uni_info_interview(x, uni), axis=1).apply(pd.Series)\n",
      "C:\\Users\\mtp63\\AppData\\Local\\Temp\\ipykernel_23940\\35302099.py:9: SettingWithCopyWarning: \n",
      "A value is trying to be set on a copy of a slice from a DataFrame.\n",
      "Try using .loc[row_indexer,col_indexer] = value instead\n",
      "\n",
      "See the caveats in the documentation: https://pandas.pydata.org/pandas-docs/stable/user_guide/indexing.html#returning-a-view-versus-a-copy\n",
      "  df_filt[\"combo score\"] = df_filt[\"gpa\"] / 7 + df_filt[\"gamsat\"] / 100\n",
      "C:\\Users\\mtp63\\AppData\\Local\\Temp\\ipykernel_23940\\35302099.py:12: SettingWithCopyWarning: \n",
      "A value is trying to be set on a copy of a slice from a DataFrame.\n",
      "Try using .loc[row_indexer,col_indexer] = value instead\n",
      "\n",
      "See the caveats in the documentation: https://pandas.pydata.org/pandas-docs/stable/user_guide/indexing.html#returning-a-view-versus-a-copy\n",
      "  df_filt.loc[:, \"success\"] = df_filt.apply(lambda x: get_row_interview(x, uni), axis=1)\n",
      "C:\\Users\\mtp63\\AppData\\Local\\Temp\\ipykernel_23940\\35302099.py:6: SettingWithCopyWarning: \n",
      "A value is trying to be set on a copy of a slice from a DataFrame.\n",
      "Try using .loc[row_indexer,col_indexer] = value instead\n",
      "\n",
      "See the caveats in the documentation: https://pandas.pydata.org/pandas-docs/stable/user_guide/indexing.html#returning-a-view-versus-a-copy\n",
      "  df_filt[[\"gpa\", \"gamsat\", \"preference\"]] = df_filt.apply(lambda x: get_row_uni_info_interview(x, uni), axis=1).apply(pd.Series)\n",
      "C:\\Users\\mtp63\\AppData\\Local\\Temp\\ipykernel_23940\\35302099.py:6: SettingWithCopyWarning: \n",
      "A value is trying to be set on a copy of a slice from a DataFrame.\n",
      "Try using .loc[row_indexer,col_indexer] = value instead\n",
      "\n",
      "See the caveats in the documentation: https://pandas.pydata.org/pandas-docs/stable/user_guide/indexing.html#returning-a-view-versus-a-copy\n",
      "  df_filt[[\"gpa\", \"gamsat\", \"preference\"]] = df_filt.apply(lambda x: get_row_uni_info_interview(x, uni), axis=1).apply(pd.Series)\n",
      "C:\\Users\\mtp63\\AppData\\Local\\Temp\\ipykernel_23940\\35302099.py:6: SettingWithCopyWarning: \n",
      "A value is trying to be set on a copy of a slice from a DataFrame.\n",
      "Try using .loc[row_indexer,col_indexer] = value instead\n",
      "\n",
      "See the caveats in the documentation: https://pandas.pydata.org/pandas-docs/stable/user_guide/indexing.html#returning-a-view-versus-a-copy\n",
      "  df_filt[[\"gpa\", \"gamsat\", \"preference\"]] = df_filt.apply(lambda x: get_row_uni_info_interview(x, uni), axis=1).apply(pd.Series)\n",
      "C:\\Users\\mtp63\\AppData\\Local\\Temp\\ipykernel_23940\\35302099.py:9: SettingWithCopyWarning: \n",
      "A value is trying to be set on a copy of a slice from a DataFrame.\n",
      "Try using .loc[row_indexer,col_indexer] = value instead\n",
      "\n",
      "See the caveats in the documentation: https://pandas.pydata.org/pandas-docs/stable/user_guide/indexing.html#returning-a-view-versus-a-copy\n",
      "  df_filt[\"combo score\"] = df_filt[\"gpa\"] / 7 + df_filt[\"gamsat\"] / 100\n",
      "C:\\Users\\mtp63\\AppData\\Local\\Temp\\ipykernel_23940\\35302099.py:12: SettingWithCopyWarning: \n",
      "A value is trying to be set on a copy of a slice from a DataFrame.\n",
      "Try using .loc[row_indexer,col_indexer] = value instead\n",
      "\n",
      "See the caveats in the documentation: https://pandas.pydata.org/pandas-docs/stable/user_guide/indexing.html#returning-a-view-versus-a-copy\n",
      "  df_filt.loc[:, \"success\"] = df_filt.apply(lambda x: get_row_interview(x, uni), axis=1)\n",
      "C:\\Users\\mtp63\\AppData\\Local\\Temp\\ipykernel_23940\\35302099.py:6: SettingWithCopyWarning: \n",
      "A value is trying to be set on a copy of a slice from a DataFrame.\n",
      "Try using .loc[row_indexer,col_indexer] = value instead\n",
      "\n",
      "See the caveats in the documentation: https://pandas.pydata.org/pandas-docs/stable/user_guide/indexing.html#returning-a-view-versus-a-copy\n",
      "  df_filt[[\"gpa\", \"gamsat\", \"preference\"]] = df_filt.apply(lambda x: get_row_uni_info_interview(x, uni), axis=1).apply(pd.Series)\n",
      "C:\\Users\\mtp63\\AppData\\Local\\Temp\\ipykernel_23940\\35302099.py:6: SettingWithCopyWarning: \n",
      "A value is trying to be set on a copy of a slice from a DataFrame.\n",
      "Try using .loc[row_indexer,col_indexer] = value instead\n",
      "\n",
      "See the caveats in the documentation: https://pandas.pydata.org/pandas-docs/stable/user_guide/indexing.html#returning-a-view-versus-a-copy\n",
      "  df_filt[[\"gpa\", \"gamsat\", \"preference\"]] = df_filt.apply(lambda x: get_row_uni_info_interview(x, uni), axis=1).apply(pd.Series)\n",
      "C:\\Users\\mtp63\\AppData\\Local\\Temp\\ipykernel_23940\\35302099.py:6: SettingWithCopyWarning: \n",
      "A value is trying to be set on a copy of a slice from a DataFrame.\n",
      "Try using .loc[row_indexer,col_indexer] = value instead\n",
      "\n",
      "See the caveats in the documentation: https://pandas.pydata.org/pandas-docs/stable/user_guide/indexing.html#returning-a-view-versus-a-copy\n",
      "  df_filt[[\"gpa\", \"gamsat\", \"preference\"]] = df_filt.apply(lambda x: get_row_uni_info_interview(x, uni), axis=1).apply(pd.Series)\n",
      "C:\\Users\\mtp63\\AppData\\Local\\Temp\\ipykernel_23940\\35302099.py:9: SettingWithCopyWarning: \n",
      "A value is trying to be set on a copy of a slice from a DataFrame.\n",
      "Try using .loc[row_indexer,col_indexer] = value instead\n",
      "\n",
      "See the caveats in the documentation: https://pandas.pydata.org/pandas-docs/stable/user_guide/indexing.html#returning-a-view-versus-a-copy\n",
      "  df_filt[\"combo score\"] = df_filt[\"gpa\"] / 7 + df_filt[\"gamsat\"] / 100\n",
      "C:\\Users\\mtp63\\AppData\\Local\\Temp\\ipykernel_23940\\35302099.py:12: SettingWithCopyWarning: \n",
      "A value is trying to be set on a copy of a slice from a DataFrame.\n",
      "Try using .loc[row_indexer,col_indexer] = value instead\n",
      "\n",
      "See the caveats in the documentation: https://pandas.pydata.org/pandas-docs/stable/user_guide/indexing.html#returning-a-view-versus-a-copy\n",
      "  df_filt.loc[:, \"success\"] = df_filt.apply(lambda x: get_row_interview(x, uni), axis=1)\n",
      "C:\\Users\\mtp63\\AppData\\Local\\Temp\\ipykernel_23940\\35302099.py:6: SettingWithCopyWarning: \n",
      "A value is trying to be set on a copy of a slice from a DataFrame.\n",
      "Try using .loc[row_indexer,col_indexer] = value instead\n",
      "\n",
      "See the caveats in the documentation: https://pandas.pydata.org/pandas-docs/stable/user_guide/indexing.html#returning-a-view-versus-a-copy\n",
      "  df_filt[[\"gpa\", \"gamsat\", \"preference\"]] = df_filt.apply(lambda x: get_row_uni_info_interview(x, uni), axis=1).apply(pd.Series)\n",
      "C:\\Users\\mtp63\\AppData\\Local\\Temp\\ipykernel_23940\\35302099.py:6: SettingWithCopyWarning: \n",
      "A value is trying to be set on a copy of a slice from a DataFrame.\n",
      "Try using .loc[row_indexer,col_indexer] = value instead\n",
      "\n",
      "See the caveats in the documentation: https://pandas.pydata.org/pandas-docs/stable/user_guide/indexing.html#returning-a-view-versus-a-copy\n",
      "  df_filt[[\"gpa\", \"gamsat\", \"preference\"]] = df_filt.apply(lambda x: get_row_uni_info_interview(x, uni), axis=1).apply(pd.Series)\n",
      "C:\\Users\\mtp63\\AppData\\Local\\Temp\\ipykernel_23940\\35302099.py:6: SettingWithCopyWarning: \n",
      "A value is trying to be set on a copy of a slice from a DataFrame.\n",
      "Try using .loc[row_indexer,col_indexer] = value instead\n",
      "\n",
      "See the caveats in the documentation: https://pandas.pydata.org/pandas-docs/stable/user_guide/indexing.html#returning-a-view-versus-a-copy\n",
      "  df_filt[[\"gpa\", \"gamsat\", \"preference\"]] = df_filt.apply(lambda x: get_row_uni_info_interview(x, uni), axis=1).apply(pd.Series)\n",
      "C:\\Users\\mtp63\\AppData\\Local\\Temp\\ipykernel_23940\\35302099.py:9: SettingWithCopyWarning: \n",
      "A value is trying to be set on a copy of a slice from a DataFrame.\n",
      "Try using .loc[row_indexer,col_indexer] = value instead\n",
      "\n",
      "See the caveats in the documentation: https://pandas.pydata.org/pandas-docs/stable/user_guide/indexing.html#returning-a-view-versus-a-copy\n",
      "  df_filt[\"combo score\"] = df_filt[\"gpa\"] / 7 + df_filt[\"gamsat\"] / 100\n",
      "C:\\Users\\mtp63\\AppData\\Local\\Temp\\ipykernel_23940\\35302099.py:12: SettingWithCopyWarning: \n",
      "A value is trying to be set on a copy of a slice from a DataFrame.\n",
      "Try using .loc[row_indexer,col_indexer] = value instead\n",
      "\n",
      "See the caveats in the documentation: https://pandas.pydata.org/pandas-docs/stable/user_guide/indexing.html#returning-a-view-versus-a-copy\n",
      "  df_filt.loc[:, \"success\"] = df_filt.apply(lambda x: get_row_interview(x, uni), axis=1)\n",
      "C:\\Users\\mtp63\\AppData\\Local\\Temp\\ipykernel_23940\\35302099.py:6: SettingWithCopyWarning: \n",
      "A value is trying to be set on a copy of a slice from a DataFrame.\n",
      "Try using .loc[row_indexer,col_indexer] = value instead\n",
      "\n",
      "See the caveats in the documentation: https://pandas.pydata.org/pandas-docs/stable/user_guide/indexing.html#returning-a-view-versus-a-copy\n",
      "  df_filt[[\"gpa\", \"gamsat\", \"preference\"]] = df_filt.apply(lambda x: get_row_uni_info_interview(x, uni), axis=1).apply(pd.Series)\n",
      "C:\\Users\\mtp63\\AppData\\Local\\Temp\\ipykernel_23940\\35302099.py:6: SettingWithCopyWarning: \n",
      "A value is trying to be set on a copy of a slice from a DataFrame.\n",
      "Try using .loc[row_indexer,col_indexer] = value instead\n",
      "\n",
      "See the caveats in the documentation: https://pandas.pydata.org/pandas-docs/stable/user_guide/indexing.html#returning-a-view-versus-a-copy\n",
      "  df_filt[[\"gpa\", \"gamsat\", \"preference\"]] = df_filt.apply(lambda x: get_row_uni_info_interview(x, uni), axis=1).apply(pd.Series)\n",
      "C:\\Users\\mtp63\\AppData\\Local\\Temp\\ipykernel_23940\\35302099.py:6: SettingWithCopyWarning: \n",
      "A value is trying to be set on a copy of a slice from a DataFrame.\n",
      "Try using .loc[row_indexer,col_indexer] = value instead\n",
      "\n",
      "See the caveats in the documentation: https://pandas.pydata.org/pandas-docs/stable/user_guide/indexing.html#returning-a-view-versus-a-copy\n",
      "  df_filt[[\"gpa\", \"gamsat\", \"preference\"]] = df_filt.apply(lambda x: get_row_uni_info_interview(x, uni), axis=1).apply(pd.Series)\n",
      "C:\\Users\\mtp63\\AppData\\Local\\Temp\\ipykernel_23940\\35302099.py:9: SettingWithCopyWarning: \n",
      "A value is trying to be set on a copy of a slice from a DataFrame.\n",
      "Try using .loc[row_indexer,col_indexer] = value instead\n",
      "\n",
      "See the caveats in the documentation: https://pandas.pydata.org/pandas-docs/stable/user_guide/indexing.html#returning-a-view-versus-a-copy\n",
      "  df_filt[\"combo score\"] = df_filt[\"gpa\"] / 7 + df_filt[\"gamsat\"] / 100\n",
      "C:\\Users\\mtp63\\AppData\\Local\\Temp\\ipykernel_23940\\35302099.py:12: SettingWithCopyWarning: \n",
      "A value is trying to be set on a copy of a slice from a DataFrame.\n",
      "Try using .loc[row_indexer,col_indexer] = value instead\n",
      "\n",
      "See the caveats in the documentation: https://pandas.pydata.org/pandas-docs/stable/user_guide/indexing.html#returning-a-view-versus-a-copy\n",
      "  df_filt.loc[:, \"success\"] = df_filt.apply(lambda x: get_row_interview(x, uni), axis=1)\n"
     ]
    }
   ],
   "source": [
    "uniq_unis = get_unique_unis(interview_filt[\"interview uni\"])\n",
    "relative_path_out = RELATIVE_PATH_OUT + \"interview basic\"\n",
    "\n",
    "for uni in uniq_unis:\n",
    "    get_basic_interview(interview_filt, uni, relative_path_out)"
   ]
  },
  {
   "cell_type": "markdown",
   "id": "c6e49ecd",
   "metadata": {},
   "source": [
    "#### Histograms"
   ]
  },
  {
   "cell_type": "code",
   "execution_count": 161,
   "id": "85ed6166",
   "metadata": {},
   "outputs": [],
   "source": [
    "COMBO_BINS = [round(1.54 + x*0.02, 3) for x in range(16+1)]\n",
    "\n",
    "def get_histogram_interview(df, uni_name, relative_path, csv=True):\n",
    "    # get the filtered df\n",
    "    uni_interview = get_uni_gpa_interview(df, uni_name, exact=True)\n",
    "    uni_interview_success = uni_interview[uni_interview[\"success\"] == \"accepted\"]\n",
    "\n",
    "    for year in [2022, 2023, 2024, \"all\"]:\n",
    "        uni_interview_success_filt = filter_frame(uni_interview_success, year=year)\n",
    "\n",
    "        if (uni_interview_success_filt.empty):\n",
    "            continue\n",
    "\n",
    "        # get the histogram\n",
    "        plt.hist(uni_interview_success_filt[\"combo score\"].values, bins=COMBO_BINS, alpha=0.7)\n",
    "\n",
    "        # git information\n",
    "        plt.xlabel(\"combo score binned\")\n",
    "        plt.ylabel(\"frequency\")\n",
    "        plt.title(f\"{uni_name} {year} ({uni_interview_success_filt.shape[0]})\")\n",
    "\n",
    "        plt.savefig(f\"{relative_path}/{uni_name} {year}.png\")\n",
    "\n",
    "        if (csv):\n",
    "            uni_interview_success_filt.to_csv(f\"{relative_path}/{uni_name} {year}.csv\", index=False)\n",
    "\n",
    "        plt.close()"
   ]
  },
  {
   "cell_type": "code",
   "execution_count": 162,
   "id": "e6743381",
   "metadata": {},
   "outputs": [
    {
     "name": "stderr",
     "output_type": "stream",
     "text": [
      "C:\\Users\\mtp63\\AppData\\Local\\Temp\\ipykernel_23940\\35302099.py:6: SettingWithCopyWarning: \n",
      "A value is trying to be set on a copy of a slice from a DataFrame.\n",
      "Try using .loc[row_indexer,col_indexer] = value instead\n",
      "\n",
      "See the caveats in the documentation: https://pandas.pydata.org/pandas-docs/stable/user_guide/indexing.html#returning-a-view-versus-a-copy\n",
      "  df_filt[[\"gpa\", \"gamsat\", \"preference\"]] = df_filt.apply(lambda x: get_row_uni_info_interview(x, uni), axis=1).apply(pd.Series)\n",
      "C:\\Users\\mtp63\\AppData\\Local\\Temp\\ipykernel_23940\\35302099.py:6: SettingWithCopyWarning: \n",
      "A value is trying to be set on a copy of a slice from a DataFrame.\n",
      "Try using .loc[row_indexer,col_indexer] = value instead\n",
      "\n",
      "See the caveats in the documentation: https://pandas.pydata.org/pandas-docs/stable/user_guide/indexing.html#returning-a-view-versus-a-copy\n",
      "  df_filt[[\"gpa\", \"gamsat\", \"preference\"]] = df_filt.apply(lambda x: get_row_uni_info_interview(x, uni), axis=1).apply(pd.Series)\n",
      "C:\\Users\\mtp63\\AppData\\Local\\Temp\\ipykernel_23940\\35302099.py:6: SettingWithCopyWarning: \n",
      "A value is trying to be set on a copy of a slice from a DataFrame.\n",
      "Try using .loc[row_indexer,col_indexer] = value instead\n",
      "\n",
      "See the caveats in the documentation: https://pandas.pydata.org/pandas-docs/stable/user_guide/indexing.html#returning-a-view-versus-a-copy\n",
      "  df_filt[[\"gpa\", \"gamsat\", \"preference\"]] = df_filt.apply(lambda x: get_row_uni_info_interview(x, uni), axis=1).apply(pd.Series)\n",
      "C:\\Users\\mtp63\\AppData\\Local\\Temp\\ipykernel_23940\\35302099.py:9: SettingWithCopyWarning: \n",
      "A value is trying to be set on a copy of a slice from a DataFrame.\n",
      "Try using .loc[row_indexer,col_indexer] = value instead\n",
      "\n",
      "See the caveats in the documentation: https://pandas.pydata.org/pandas-docs/stable/user_guide/indexing.html#returning-a-view-versus-a-copy\n",
      "  df_filt[\"combo score\"] = df_filt[\"gpa\"] / 7 + df_filt[\"gamsat\"] / 100\n",
      "C:\\Users\\mtp63\\AppData\\Local\\Temp\\ipykernel_23940\\35302099.py:12: SettingWithCopyWarning: \n",
      "A value is trying to be set on a copy of a slice from a DataFrame.\n",
      "Try using .loc[row_indexer,col_indexer] = value instead\n",
      "\n",
      "See the caveats in the documentation: https://pandas.pydata.org/pandas-docs/stable/user_guide/indexing.html#returning-a-view-versus-a-copy\n",
      "  df_filt.loc[:, \"success\"] = df_filt.apply(lambda x: get_row_interview(x, uni), axis=1)\n",
      "C:\\Users\\mtp63\\AppData\\Local\\Temp\\ipykernel_23940\\35302099.py:6: SettingWithCopyWarning: \n",
      "A value is trying to be set on a copy of a slice from a DataFrame.\n",
      "Try using .loc[row_indexer,col_indexer] = value instead\n",
      "\n",
      "See the caveats in the documentation: https://pandas.pydata.org/pandas-docs/stable/user_guide/indexing.html#returning-a-view-versus-a-copy\n",
      "  df_filt[[\"gpa\", \"gamsat\", \"preference\"]] = df_filt.apply(lambda x: get_row_uni_info_interview(x, uni), axis=1).apply(pd.Series)\n",
      "C:\\Users\\mtp63\\AppData\\Local\\Temp\\ipykernel_23940\\35302099.py:6: SettingWithCopyWarning: \n",
      "A value is trying to be set on a copy of a slice from a DataFrame.\n",
      "Try using .loc[row_indexer,col_indexer] = value instead\n",
      "\n",
      "See the caveats in the documentation: https://pandas.pydata.org/pandas-docs/stable/user_guide/indexing.html#returning-a-view-versus-a-copy\n",
      "  df_filt[[\"gpa\", \"gamsat\", \"preference\"]] = df_filt.apply(lambda x: get_row_uni_info_interview(x, uni), axis=1).apply(pd.Series)\n",
      "C:\\Users\\mtp63\\AppData\\Local\\Temp\\ipykernel_23940\\35302099.py:6: SettingWithCopyWarning: \n",
      "A value is trying to be set on a copy of a slice from a DataFrame.\n",
      "Try using .loc[row_indexer,col_indexer] = value instead\n",
      "\n",
      "See the caveats in the documentation: https://pandas.pydata.org/pandas-docs/stable/user_guide/indexing.html#returning-a-view-versus-a-copy\n",
      "  df_filt[[\"gpa\", \"gamsat\", \"preference\"]] = df_filt.apply(lambda x: get_row_uni_info_interview(x, uni), axis=1).apply(pd.Series)\n",
      "C:\\Users\\mtp63\\AppData\\Local\\Temp\\ipykernel_23940\\35302099.py:9: SettingWithCopyWarning: \n",
      "A value is trying to be set on a copy of a slice from a DataFrame.\n",
      "Try using .loc[row_indexer,col_indexer] = value instead\n",
      "\n",
      "See the caveats in the documentation: https://pandas.pydata.org/pandas-docs/stable/user_guide/indexing.html#returning-a-view-versus-a-copy\n",
      "  df_filt[\"combo score\"] = df_filt[\"gpa\"] / 7 + df_filt[\"gamsat\"] / 100\n",
      "C:\\Users\\mtp63\\AppData\\Local\\Temp\\ipykernel_23940\\35302099.py:12: SettingWithCopyWarning: \n",
      "A value is trying to be set on a copy of a slice from a DataFrame.\n",
      "Try using .loc[row_indexer,col_indexer] = value instead\n",
      "\n",
      "See the caveats in the documentation: https://pandas.pydata.org/pandas-docs/stable/user_guide/indexing.html#returning-a-view-versus-a-copy\n",
      "  df_filt.loc[:, \"success\"] = df_filt.apply(lambda x: get_row_interview(x, uni), axis=1)\n",
      "C:\\Users\\mtp63\\AppData\\Local\\Temp\\ipykernel_23940\\35302099.py:6: SettingWithCopyWarning: \n",
      "A value is trying to be set on a copy of a slice from a DataFrame.\n",
      "Try using .loc[row_indexer,col_indexer] = value instead\n",
      "\n",
      "See the caveats in the documentation: https://pandas.pydata.org/pandas-docs/stable/user_guide/indexing.html#returning-a-view-versus-a-copy\n",
      "  df_filt[[\"gpa\", \"gamsat\", \"preference\"]] = df_filt.apply(lambda x: get_row_uni_info_interview(x, uni), axis=1).apply(pd.Series)\n",
      "C:\\Users\\mtp63\\AppData\\Local\\Temp\\ipykernel_23940\\35302099.py:6: SettingWithCopyWarning: \n",
      "A value is trying to be set on a copy of a slice from a DataFrame.\n",
      "Try using .loc[row_indexer,col_indexer] = value instead\n",
      "\n",
      "See the caveats in the documentation: https://pandas.pydata.org/pandas-docs/stable/user_guide/indexing.html#returning-a-view-versus-a-copy\n",
      "  df_filt[[\"gpa\", \"gamsat\", \"preference\"]] = df_filt.apply(lambda x: get_row_uni_info_interview(x, uni), axis=1).apply(pd.Series)\n",
      "C:\\Users\\mtp63\\AppData\\Local\\Temp\\ipykernel_23940\\35302099.py:6: SettingWithCopyWarning: \n",
      "A value is trying to be set on a copy of a slice from a DataFrame.\n",
      "Try using .loc[row_indexer,col_indexer] = value instead\n",
      "\n",
      "See the caveats in the documentation: https://pandas.pydata.org/pandas-docs/stable/user_guide/indexing.html#returning-a-view-versus-a-copy\n",
      "  df_filt[[\"gpa\", \"gamsat\", \"preference\"]] = df_filt.apply(lambda x: get_row_uni_info_interview(x, uni), axis=1).apply(pd.Series)\n",
      "C:\\Users\\mtp63\\AppData\\Local\\Temp\\ipykernel_23940\\35302099.py:9: SettingWithCopyWarning: \n",
      "A value is trying to be set on a copy of a slice from a DataFrame.\n",
      "Try using .loc[row_indexer,col_indexer] = value instead\n",
      "\n",
      "See the caveats in the documentation: https://pandas.pydata.org/pandas-docs/stable/user_guide/indexing.html#returning-a-view-versus-a-copy\n",
      "  df_filt[\"combo score\"] = df_filt[\"gpa\"] / 7 + df_filt[\"gamsat\"] / 100\n",
      "C:\\Users\\mtp63\\AppData\\Local\\Temp\\ipykernel_23940\\35302099.py:12: SettingWithCopyWarning: \n",
      "A value is trying to be set on a copy of a slice from a DataFrame.\n",
      "Try using .loc[row_indexer,col_indexer] = value instead\n",
      "\n",
      "See the caveats in the documentation: https://pandas.pydata.org/pandas-docs/stable/user_guide/indexing.html#returning-a-view-versus-a-copy\n",
      "  df_filt.loc[:, \"success\"] = df_filt.apply(lambda x: get_row_interview(x, uni), axis=1)\n",
      "C:\\Users\\mtp63\\AppData\\Local\\Temp\\ipykernel_23940\\35302099.py:6: SettingWithCopyWarning: \n",
      "A value is trying to be set on a copy of a slice from a DataFrame.\n",
      "Try using .loc[row_indexer,col_indexer] = value instead\n",
      "\n",
      "See the caveats in the documentation: https://pandas.pydata.org/pandas-docs/stable/user_guide/indexing.html#returning-a-view-versus-a-copy\n",
      "  df_filt[[\"gpa\", \"gamsat\", \"preference\"]] = df_filt.apply(lambda x: get_row_uni_info_interview(x, uni), axis=1).apply(pd.Series)\n",
      "C:\\Users\\mtp63\\AppData\\Local\\Temp\\ipykernel_23940\\35302099.py:6: SettingWithCopyWarning: \n",
      "A value is trying to be set on a copy of a slice from a DataFrame.\n",
      "Try using .loc[row_indexer,col_indexer] = value instead\n",
      "\n",
      "See the caveats in the documentation: https://pandas.pydata.org/pandas-docs/stable/user_guide/indexing.html#returning-a-view-versus-a-copy\n",
      "  df_filt[[\"gpa\", \"gamsat\", \"preference\"]] = df_filt.apply(lambda x: get_row_uni_info_interview(x, uni), axis=1).apply(pd.Series)\n",
      "C:\\Users\\mtp63\\AppData\\Local\\Temp\\ipykernel_23940\\35302099.py:6: SettingWithCopyWarning: \n",
      "A value is trying to be set on a copy of a slice from a DataFrame.\n",
      "Try using .loc[row_indexer,col_indexer] = value instead\n",
      "\n",
      "See the caveats in the documentation: https://pandas.pydata.org/pandas-docs/stable/user_guide/indexing.html#returning-a-view-versus-a-copy\n",
      "  df_filt[[\"gpa\", \"gamsat\", \"preference\"]] = df_filt.apply(lambda x: get_row_uni_info_interview(x, uni), axis=1).apply(pd.Series)\n",
      "C:\\Users\\mtp63\\AppData\\Local\\Temp\\ipykernel_23940\\35302099.py:9: SettingWithCopyWarning: \n",
      "A value is trying to be set on a copy of a slice from a DataFrame.\n",
      "Try using .loc[row_indexer,col_indexer] = value instead\n",
      "\n",
      "See the caveats in the documentation: https://pandas.pydata.org/pandas-docs/stable/user_guide/indexing.html#returning-a-view-versus-a-copy\n",
      "  df_filt[\"combo score\"] = df_filt[\"gpa\"] / 7 + df_filt[\"gamsat\"] / 100\n",
      "C:\\Users\\mtp63\\AppData\\Local\\Temp\\ipykernel_23940\\35302099.py:12: SettingWithCopyWarning: \n",
      "A value is trying to be set on a copy of a slice from a DataFrame.\n",
      "Try using .loc[row_indexer,col_indexer] = value instead\n",
      "\n",
      "See the caveats in the documentation: https://pandas.pydata.org/pandas-docs/stable/user_guide/indexing.html#returning-a-view-versus-a-copy\n",
      "  df_filt.loc[:, \"success\"] = df_filt.apply(lambda x: get_row_interview(x, uni), axis=1)\n",
      "C:\\Users\\mtp63\\AppData\\Local\\Temp\\ipykernel_23940\\35302099.py:6: SettingWithCopyWarning: \n",
      "A value is trying to be set on a copy of a slice from a DataFrame.\n",
      "Try using .loc[row_indexer,col_indexer] = value instead\n",
      "\n",
      "See the caveats in the documentation: https://pandas.pydata.org/pandas-docs/stable/user_guide/indexing.html#returning-a-view-versus-a-copy\n",
      "  df_filt[[\"gpa\", \"gamsat\", \"preference\"]] = df_filt.apply(lambda x: get_row_uni_info_interview(x, uni), axis=1).apply(pd.Series)\n",
      "C:\\Users\\mtp63\\AppData\\Local\\Temp\\ipykernel_23940\\35302099.py:6: SettingWithCopyWarning: \n",
      "A value is trying to be set on a copy of a slice from a DataFrame.\n",
      "Try using .loc[row_indexer,col_indexer] = value instead\n",
      "\n",
      "See the caveats in the documentation: https://pandas.pydata.org/pandas-docs/stable/user_guide/indexing.html#returning-a-view-versus-a-copy\n",
      "  df_filt[[\"gpa\", \"gamsat\", \"preference\"]] = df_filt.apply(lambda x: get_row_uni_info_interview(x, uni), axis=1).apply(pd.Series)\n",
      "C:\\Users\\mtp63\\AppData\\Local\\Temp\\ipykernel_23940\\35302099.py:6: SettingWithCopyWarning: \n",
      "A value is trying to be set on a copy of a slice from a DataFrame.\n",
      "Try using .loc[row_indexer,col_indexer] = value instead\n",
      "\n",
      "See the caveats in the documentation: https://pandas.pydata.org/pandas-docs/stable/user_guide/indexing.html#returning-a-view-versus-a-copy\n",
      "  df_filt[[\"gpa\", \"gamsat\", \"preference\"]] = df_filt.apply(lambda x: get_row_uni_info_interview(x, uni), axis=1).apply(pd.Series)\n",
      "C:\\Users\\mtp63\\AppData\\Local\\Temp\\ipykernel_23940\\35302099.py:9: SettingWithCopyWarning: \n",
      "A value is trying to be set on a copy of a slice from a DataFrame.\n",
      "Try using .loc[row_indexer,col_indexer] = value instead\n",
      "\n",
      "See the caveats in the documentation: https://pandas.pydata.org/pandas-docs/stable/user_guide/indexing.html#returning-a-view-versus-a-copy\n",
      "  df_filt[\"combo score\"] = df_filt[\"gpa\"] / 7 + df_filt[\"gamsat\"] / 100\n",
      "C:\\Users\\mtp63\\AppData\\Local\\Temp\\ipykernel_23940\\35302099.py:12: SettingWithCopyWarning: \n",
      "A value is trying to be set on a copy of a slice from a DataFrame.\n",
      "Try using .loc[row_indexer,col_indexer] = value instead\n",
      "\n",
      "See the caveats in the documentation: https://pandas.pydata.org/pandas-docs/stable/user_guide/indexing.html#returning-a-view-versus-a-copy\n",
      "  df_filt.loc[:, \"success\"] = df_filt.apply(lambda x: get_row_interview(x, uni), axis=1)\n",
      "C:\\Users\\mtp63\\AppData\\Local\\Temp\\ipykernel_23940\\35302099.py:6: SettingWithCopyWarning: \n",
      "A value is trying to be set on a copy of a slice from a DataFrame.\n",
      "Try using .loc[row_indexer,col_indexer] = value instead\n",
      "\n",
      "See the caveats in the documentation: https://pandas.pydata.org/pandas-docs/stable/user_guide/indexing.html#returning-a-view-versus-a-copy\n",
      "  df_filt[[\"gpa\", \"gamsat\", \"preference\"]] = df_filt.apply(lambda x: get_row_uni_info_interview(x, uni), axis=1).apply(pd.Series)\n",
      "C:\\Users\\mtp63\\AppData\\Local\\Temp\\ipykernel_23940\\35302099.py:6: SettingWithCopyWarning: \n",
      "A value is trying to be set on a copy of a slice from a DataFrame.\n",
      "Try using .loc[row_indexer,col_indexer] = value instead\n",
      "\n",
      "See the caveats in the documentation: https://pandas.pydata.org/pandas-docs/stable/user_guide/indexing.html#returning-a-view-versus-a-copy\n",
      "  df_filt[[\"gpa\", \"gamsat\", \"preference\"]] = df_filt.apply(lambda x: get_row_uni_info_interview(x, uni), axis=1).apply(pd.Series)\n",
      "C:\\Users\\mtp63\\AppData\\Local\\Temp\\ipykernel_23940\\35302099.py:6: SettingWithCopyWarning: \n",
      "A value is trying to be set on a copy of a slice from a DataFrame.\n",
      "Try using .loc[row_indexer,col_indexer] = value instead\n",
      "\n",
      "See the caveats in the documentation: https://pandas.pydata.org/pandas-docs/stable/user_guide/indexing.html#returning-a-view-versus-a-copy\n",
      "  df_filt[[\"gpa\", \"gamsat\", \"preference\"]] = df_filt.apply(lambda x: get_row_uni_info_interview(x, uni), axis=1).apply(pd.Series)\n",
      "C:\\Users\\mtp63\\AppData\\Local\\Temp\\ipykernel_23940\\35302099.py:9: SettingWithCopyWarning: \n",
      "A value is trying to be set on a copy of a slice from a DataFrame.\n",
      "Try using .loc[row_indexer,col_indexer] = value instead\n",
      "\n",
      "See the caveats in the documentation: https://pandas.pydata.org/pandas-docs/stable/user_guide/indexing.html#returning-a-view-versus-a-copy\n",
      "  df_filt[\"combo score\"] = df_filt[\"gpa\"] / 7 + df_filt[\"gamsat\"] / 100\n",
      "C:\\Users\\mtp63\\AppData\\Local\\Temp\\ipykernel_23940\\35302099.py:12: SettingWithCopyWarning: \n",
      "A value is trying to be set on a copy of a slice from a DataFrame.\n",
      "Try using .loc[row_indexer,col_indexer] = value instead\n",
      "\n",
      "See the caveats in the documentation: https://pandas.pydata.org/pandas-docs/stable/user_guide/indexing.html#returning-a-view-versus-a-copy\n",
      "  df_filt.loc[:, \"success\"] = df_filt.apply(lambda x: get_row_interview(x, uni), axis=1)\n",
      "C:\\Users\\mtp63\\AppData\\Local\\Temp\\ipykernel_23940\\35302099.py:6: SettingWithCopyWarning: \n",
      "A value is trying to be set on a copy of a slice from a DataFrame.\n",
      "Try using .loc[row_indexer,col_indexer] = value instead\n",
      "\n",
      "See the caveats in the documentation: https://pandas.pydata.org/pandas-docs/stable/user_guide/indexing.html#returning-a-view-versus-a-copy\n",
      "  df_filt[[\"gpa\", \"gamsat\", \"preference\"]] = df_filt.apply(lambda x: get_row_uni_info_interview(x, uni), axis=1).apply(pd.Series)\n",
      "C:\\Users\\mtp63\\AppData\\Local\\Temp\\ipykernel_23940\\35302099.py:6: SettingWithCopyWarning: \n",
      "A value is trying to be set on a copy of a slice from a DataFrame.\n",
      "Try using .loc[row_indexer,col_indexer] = value instead\n",
      "\n",
      "See the caveats in the documentation: https://pandas.pydata.org/pandas-docs/stable/user_guide/indexing.html#returning-a-view-versus-a-copy\n",
      "  df_filt[[\"gpa\", \"gamsat\", \"preference\"]] = df_filt.apply(lambda x: get_row_uni_info_interview(x, uni), axis=1).apply(pd.Series)\n",
      "C:\\Users\\mtp63\\AppData\\Local\\Temp\\ipykernel_23940\\35302099.py:6: SettingWithCopyWarning: \n",
      "A value is trying to be set on a copy of a slice from a DataFrame.\n",
      "Try using .loc[row_indexer,col_indexer] = value instead\n",
      "\n",
      "See the caveats in the documentation: https://pandas.pydata.org/pandas-docs/stable/user_guide/indexing.html#returning-a-view-versus-a-copy\n",
      "  df_filt[[\"gpa\", \"gamsat\", \"preference\"]] = df_filt.apply(lambda x: get_row_uni_info_interview(x, uni), axis=1).apply(pd.Series)\n",
      "C:\\Users\\mtp63\\AppData\\Local\\Temp\\ipykernel_23940\\35302099.py:9: SettingWithCopyWarning: \n",
      "A value is trying to be set on a copy of a slice from a DataFrame.\n",
      "Try using .loc[row_indexer,col_indexer] = value instead\n",
      "\n",
      "See the caveats in the documentation: https://pandas.pydata.org/pandas-docs/stable/user_guide/indexing.html#returning-a-view-versus-a-copy\n",
      "  df_filt[\"combo score\"] = df_filt[\"gpa\"] / 7 + df_filt[\"gamsat\"] / 100\n",
      "C:\\Users\\mtp63\\AppData\\Local\\Temp\\ipykernel_23940\\35302099.py:12: SettingWithCopyWarning: \n",
      "A value is trying to be set on a copy of a slice from a DataFrame.\n",
      "Try using .loc[row_indexer,col_indexer] = value instead\n",
      "\n",
      "See the caveats in the documentation: https://pandas.pydata.org/pandas-docs/stable/user_guide/indexing.html#returning-a-view-versus-a-copy\n",
      "  df_filt.loc[:, \"success\"] = df_filt.apply(lambda x: get_row_interview(x, uni), axis=1)\n",
      "C:\\Users\\mtp63\\AppData\\Local\\Temp\\ipykernel_23940\\35302099.py:6: SettingWithCopyWarning: \n",
      "A value is trying to be set on a copy of a slice from a DataFrame.\n",
      "Try using .loc[row_indexer,col_indexer] = value instead\n",
      "\n",
      "See the caveats in the documentation: https://pandas.pydata.org/pandas-docs/stable/user_guide/indexing.html#returning-a-view-versus-a-copy\n",
      "  df_filt[[\"gpa\", \"gamsat\", \"preference\"]] = df_filt.apply(lambda x: get_row_uni_info_interview(x, uni), axis=1).apply(pd.Series)\n",
      "C:\\Users\\mtp63\\AppData\\Local\\Temp\\ipykernel_23940\\35302099.py:6: SettingWithCopyWarning: \n",
      "A value is trying to be set on a copy of a slice from a DataFrame.\n",
      "Try using .loc[row_indexer,col_indexer] = value instead\n",
      "\n",
      "See the caveats in the documentation: https://pandas.pydata.org/pandas-docs/stable/user_guide/indexing.html#returning-a-view-versus-a-copy\n",
      "  df_filt[[\"gpa\", \"gamsat\", \"preference\"]] = df_filt.apply(lambda x: get_row_uni_info_interview(x, uni), axis=1).apply(pd.Series)\n",
      "C:\\Users\\mtp63\\AppData\\Local\\Temp\\ipykernel_23940\\35302099.py:6: SettingWithCopyWarning: \n",
      "A value is trying to be set on a copy of a slice from a DataFrame.\n",
      "Try using .loc[row_indexer,col_indexer] = value instead\n",
      "\n",
      "See the caveats in the documentation: https://pandas.pydata.org/pandas-docs/stable/user_guide/indexing.html#returning-a-view-versus-a-copy\n",
      "  df_filt[[\"gpa\", \"gamsat\", \"preference\"]] = df_filt.apply(lambda x: get_row_uni_info_interview(x, uni), axis=1).apply(pd.Series)\n",
      "C:\\Users\\mtp63\\AppData\\Local\\Temp\\ipykernel_23940\\35302099.py:9: SettingWithCopyWarning: \n",
      "A value is trying to be set on a copy of a slice from a DataFrame.\n",
      "Try using .loc[row_indexer,col_indexer] = value instead\n",
      "\n",
      "See the caveats in the documentation: https://pandas.pydata.org/pandas-docs/stable/user_guide/indexing.html#returning-a-view-versus-a-copy\n",
      "  df_filt[\"combo score\"] = df_filt[\"gpa\"] / 7 + df_filt[\"gamsat\"] / 100\n",
      "C:\\Users\\mtp63\\AppData\\Local\\Temp\\ipykernel_23940\\35302099.py:12: SettingWithCopyWarning: \n",
      "A value is trying to be set on a copy of a slice from a DataFrame.\n",
      "Try using .loc[row_indexer,col_indexer] = value instead\n",
      "\n",
      "See the caveats in the documentation: https://pandas.pydata.org/pandas-docs/stable/user_guide/indexing.html#returning-a-view-versus-a-copy\n",
      "  df_filt.loc[:, \"success\"] = df_filt.apply(lambda x: get_row_interview(x, uni), axis=1)\n",
      "C:\\Users\\mtp63\\AppData\\Local\\Temp\\ipykernel_23940\\35302099.py:6: SettingWithCopyWarning: \n",
      "A value is trying to be set on a copy of a slice from a DataFrame.\n",
      "Try using .loc[row_indexer,col_indexer] = value instead\n",
      "\n",
      "See the caveats in the documentation: https://pandas.pydata.org/pandas-docs/stable/user_guide/indexing.html#returning-a-view-versus-a-copy\n",
      "  df_filt[[\"gpa\", \"gamsat\", \"preference\"]] = df_filt.apply(lambda x: get_row_uni_info_interview(x, uni), axis=1).apply(pd.Series)\n",
      "C:\\Users\\mtp63\\AppData\\Local\\Temp\\ipykernel_23940\\35302099.py:6: SettingWithCopyWarning: \n",
      "A value is trying to be set on a copy of a slice from a DataFrame.\n",
      "Try using .loc[row_indexer,col_indexer] = value instead\n",
      "\n",
      "See the caveats in the documentation: https://pandas.pydata.org/pandas-docs/stable/user_guide/indexing.html#returning-a-view-versus-a-copy\n",
      "  df_filt[[\"gpa\", \"gamsat\", \"preference\"]] = df_filt.apply(lambda x: get_row_uni_info_interview(x, uni), axis=1).apply(pd.Series)\n",
      "C:\\Users\\mtp63\\AppData\\Local\\Temp\\ipykernel_23940\\35302099.py:6: SettingWithCopyWarning: \n",
      "A value is trying to be set on a copy of a slice from a DataFrame.\n",
      "Try using .loc[row_indexer,col_indexer] = value instead\n",
      "\n",
      "See the caveats in the documentation: https://pandas.pydata.org/pandas-docs/stable/user_guide/indexing.html#returning-a-view-versus-a-copy\n",
      "  df_filt[[\"gpa\", \"gamsat\", \"preference\"]] = df_filt.apply(lambda x: get_row_uni_info_interview(x, uni), axis=1).apply(pd.Series)\n",
      "C:\\Users\\mtp63\\AppData\\Local\\Temp\\ipykernel_23940\\35302099.py:9: SettingWithCopyWarning: \n",
      "A value is trying to be set on a copy of a slice from a DataFrame.\n",
      "Try using .loc[row_indexer,col_indexer] = value instead\n",
      "\n",
      "See the caveats in the documentation: https://pandas.pydata.org/pandas-docs/stable/user_guide/indexing.html#returning-a-view-versus-a-copy\n",
      "  df_filt[\"combo score\"] = df_filt[\"gpa\"] / 7 + df_filt[\"gamsat\"] / 100\n",
      "C:\\Users\\mtp63\\AppData\\Local\\Temp\\ipykernel_23940\\35302099.py:12: SettingWithCopyWarning: \n",
      "A value is trying to be set on a copy of a slice from a DataFrame.\n",
      "Try using .loc[row_indexer,col_indexer] = value instead\n",
      "\n",
      "See the caveats in the documentation: https://pandas.pydata.org/pandas-docs/stable/user_guide/indexing.html#returning-a-view-versus-a-copy\n",
      "  df_filt.loc[:, \"success\"] = df_filt.apply(lambda x: get_row_interview(x, uni), axis=1)\n",
      "C:\\Users\\mtp63\\AppData\\Local\\Temp\\ipykernel_23940\\35302099.py:6: SettingWithCopyWarning: \n",
      "A value is trying to be set on a copy of a slice from a DataFrame.\n",
      "Try using .loc[row_indexer,col_indexer] = value instead\n",
      "\n",
      "See the caveats in the documentation: https://pandas.pydata.org/pandas-docs/stable/user_guide/indexing.html#returning-a-view-versus-a-copy\n",
      "  df_filt[[\"gpa\", \"gamsat\", \"preference\"]] = df_filt.apply(lambda x: get_row_uni_info_interview(x, uni), axis=1).apply(pd.Series)\n",
      "C:\\Users\\mtp63\\AppData\\Local\\Temp\\ipykernel_23940\\35302099.py:6: SettingWithCopyWarning: \n",
      "A value is trying to be set on a copy of a slice from a DataFrame.\n",
      "Try using .loc[row_indexer,col_indexer] = value instead\n",
      "\n",
      "See the caveats in the documentation: https://pandas.pydata.org/pandas-docs/stable/user_guide/indexing.html#returning-a-view-versus-a-copy\n",
      "  df_filt[[\"gpa\", \"gamsat\", \"preference\"]] = df_filt.apply(lambda x: get_row_uni_info_interview(x, uni), axis=1).apply(pd.Series)\n",
      "C:\\Users\\mtp63\\AppData\\Local\\Temp\\ipykernel_23940\\35302099.py:6: SettingWithCopyWarning: \n",
      "A value is trying to be set on a copy of a slice from a DataFrame.\n",
      "Try using .loc[row_indexer,col_indexer] = value instead\n",
      "\n",
      "See the caveats in the documentation: https://pandas.pydata.org/pandas-docs/stable/user_guide/indexing.html#returning-a-view-versus-a-copy\n",
      "  df_filt[[\"gpa\", \"gamsat\", \"preference\"]] = df_filt.apply(lambda x: get_row_uni_info_interview(x, uni), axis=1).apply(pd.Series)\n",
      "C:\\Users\\mtp63\\AppData\\Local\\Temp\\ipykernel_23940\\35302099.py:9: SettingWithCopyWarning: \n",
      "A value is trying to be set on a copy of a slice from a DataFrame.\n",
      "Try using .loc[row_indexer,col_indexer] = value instead\n",
      "\n",
      "See the caveats in the documentation: https://pandas.pydata.org/pandas-docs/stable/user_guide/indexing.html#returning-a-view-versus-a-copy\n",
      "  df_filt[\"combo score\"] = df_filt[\"gpa\"] / 7 + df_filt[\"gamsat\"] / 100\n",
      "C:\\Users\\mtp63\\AppData\\Local\\Temp\\ipykernel_23940\\35302099.py:12: SettingWithCopyWarning: \n",
      "A value is trying to be set on a copy of a slice from a DataFrame.\n",
      "Try using .loc[row_indexer,col_indexer] = value instead\n",
      "\n",
      "See the caveats in the documentation: https://pandas.pydata.org/pandas-docs/stable/user_guide/indexing.html#returning-a-view-versus-a-copy\n",
      "  df_filt.loc[:, \"success\"] = df_filt.apply(lambda x: get_row_interview(x, uni), axis=1)\n",
      "C:\\Users\\mtp63\\AppData\\Local\\Temp\\ipykernel_23940\\35302099.py:6: SettingWithCopyWarning: \n",
      "A value is trying to be set on a copy of a slice from a DataFrame.\n",
      "Try using .loc[row_indexer,col_indexer] = value instead\n",
      "\n",
      "See the caveats in the documentation: https://pandas.pydata.org/pandas-docs/stable/user_guide/indexing.html#returning-a-view-versus-a-copy\n",
      "  df_filt[[\"gpa\", \"gamsat\", \"preference\"]] = df_filt.apply(lambda x: get_row_uni_info_interview(x, uni), axis=1).apply(pd.Series)\n",
      "C:\\Users\\mtp63\\AppData\\Local\\Temp\\ipykernel_23940\\35302099.py:6: SettingWithCopyWarning: \n",
      "A value is trying to be set on a copy of a slice from a DataFrame.\n",
      "Try using .loc[row_indexer,col_indexer] = value instead\n",
      "\n",
      "See the caveats in the documentation: https://pandas.pydata.org/pandas-docs/stable/user_guide/indexing.html#returning-a-view-versus-a-copy\n",
      "  df_filt[[\"gpa\", \"gamsat\", \"preference\"]] = df_filt.apply(lambda x: get_row_uni_info_interview(x, uni), axis=1).apply(pd.Series)\n",
      "C:\\Users\\mtp63\\AppData\\Local\\Temp\\ipykernel_23940\\35302099.py:6: SettingWithCopyWarning: \n",
      "A value is trying to be set on a copy of a slice from a DataFrame.\n",
      "Try using .loc[row_indexer,col_indexer] = value instead\n",
      "\n",
      "See the caveats in the documentation: https://pandas.pydata.org/pandas-docs/stable/user_guide/indexing.html#returning-a-view-versus-a-copy\n",
      "  df_filt[[\"gpa\", \"gamsat\", \"preference\"]] = df_filt.apply(lambda x: get_row_uni_info_interview(x, uni), axis=1).apply(pd.Series)\n",
      "C:\\Users\\mtp63\\AppData\\Local\\Temp\\ipykernel_23940\\35302099.py:9: SettingWithCopyWarning: \n",
      "A value is trying to be set on a copy of a slice from a DataFrame.\n",
      "Try using .loc[row_indexer,col_indexer] = value instead\n",
      "\n",
      "See the caveats in the documentation: https://pandas.pydata.org/pandas-docs/stable/user_guide/indexing.html#returning-a-view-versus-a-copy\n",
      "  df_filt[\"combo score\"] = df_filt[\"gpa\"] / 7 + df_filt[\"gamsat\"] / 100\n",
      "C:\\Users\\mtp63\\AppData\\Local\\Temp\\ipykernel_23940\\35302099.py:12: SettingWithCopyWarning: \n",
      "A value is trying to be set on a copy of a slice from a DataFrame.\n",
      "Try using .loc[row_indexer,col_indexer] = value instead\n",
      "\n",
      "See the caveats in the documentation: https://pandas.pydata.org/pandas-docs/stable/user_guide/indexing.html#returning-a-view-versus-a-copy\n",
      "  df_filt.loc[:, \"success\"] = df_filt.apply(lambda x: get_row_interview(x, uni), axis=1)\n",
      "C:\\Users\\mtp63\\AppData\\Local\\Temp\\ipykernel_23940\\35302099.py:6: SettingWithCopyWarning: \n",
      "A value is trying to be set on a copy of a slice from a DataFrame.\n",
      "Try using .loc[row_indexer,col_indexer] = value instead\n",
      "\n",
      "See the caveats in the documentation: https://pandas.pydata.org/pandas-docs/stable/user_guide/indexing.html#returning-a-view-versus-a-copy\n",
      "  df_filt[[\"gpa\", \"gamsat\", \"preference\"]] = df_filt.apply(lambda x: get_row_uni_info_interview(x, uni), axis=1).apply(pd.Series)\n",
      "C:\\Users\\mtp63\\AppData\\Local\\Temp\\ipykernel_23940\\35302099.py:6: SettingWithCopyWarning: \n",
      "A value is trying to be set on a copy of a slice from a DataFrame.\n",
      "Try using .loc[row_indexer,col_indexer] = value instead\n",
      "\n",
      "See the caveats in the documentation: https://pandas.pydata.org/pandas-docs/stable/user_guide/indexing.html#returning-a-view-versus-a-copy\n",
      "  df_filt[[\"gpa\", \"gamsat\", \"preference\"]] = df_filt.apply(lambda x: get_row_uni_info_interview(x, uni), axis=1).apply(pd.Series)\n",
      "C:\\Users\\mtp63\\AppData\\Local\\Temp\\ipykernel_23940\\35302099.py:6: SettingWithCopyWarning: \n",
      "A value is trying to be set on a copy of a slice from a DataFrame.\n",
      "Try using .loc[row_indexer,col_indexer] = value instead\n",
      "\n",
      "See the caveats in the documentation: https://pandas.pydata.org/pandas-docs/stable/user_guide/indexing.html#returning-a-view-versus-a-copy\n",
      "  df_filt[[\"gpa\", \"gamsat\", \"preference\"]] = df_filt.apply(lambda x: get_row_uni_info_interview(x, uni), axis=1).apply(pd.Series)\n",
      "C:\\Users\\mtp63\\AppData\\Local\\Temp\\ipykernel_23940\\35302099.py:9: SettingWithCopyWarning: \n",
      "A value is trying to be set on a copy of a slice from a DataFrame.\n",
      "Try using .loc[row_indexer,col_indexer] = value instead\n",
      "\n",
      "See the caveats in the documentation: https://pandas.pydata.org/pandas-docs/stable/user_guide/indexing.html#returning-a-view-versus-a-copy\n",
      "  df_filt[\"combo score\"] = df_filt[\"gpa\"] / 7 + df_filt[\"gamsat\"] / 100\n",
      "C:\\Users\\mtp63\\AppData\\Local\\Temp\\ipykernel_23940\\35302099.py:12: SettingWithCopyWarning: \n",
      "A value is trying to be set on a copy of a slice from a DataFrame.\n",
      "Try using .loc[row_indexer,col_indexer] = value instead\n",
      "\n",
      "See the caveats in the documentation: https://pandas.pydata.org/pandas-docs/stable/user_guide/indexing.html#returning-a-view-versus-a-copy\n",
      "  df_filt.loc[:, \"success\"] = df_filt.apply(lambda x: get_row_interview(x, uni), axis=1)\n"
     ]
    }
   ],
   "source": [
    "uniq_unis = get_unique_unis(interview_filt[\"interview uni\"])\n",
    "relative_path_out = RELATIVE_PATH_OUT + \"interview histograms\"\n",
    "\n",
    "for uni in uniq_unis:\n",
    "    get_histogram_interview(interview_filt, uni, relative_path_out, csv=False)"
   ]
  },
  {
   "cell_type": "markdown",
   "id": "851e2d10",
   "metadata": {},
   "source": [
    "## Copying Files"
   ]
  },
  {
   "cell_type": "code",
   "execution_count": 163,
   "id": "b0863f36",
   "metadata": {},
   "outputs": [],
   "source": [
    "import shutil\n",
    "import os\n",
    "\n",
    "def combine_dirs(interview_dir, offer_dir, out_dir):\n",
    "    # copy interview first\n",
    "    for file_name in os.listdir(interview_dir):\n",
    "        if (not file_name.endswith(\".png\")):\n",
    "            continue\n",
    "\n",
    "        old_path = f\"{interview_dir}/{file_name}\"\n",
    "        new_path = f\"{out_dir}/{file_name[:-4]} interview.png\"\n",
    "        shutil.copy2(old_path, new_path)\n",
    "\n",
    "    # copy the offer files\n",
    "    for file_name in os.listdir(offer_dir):\n",
    "        if (not file_name.endswith(\".png\")):\n",
    "            continue\n",
    "\n",
    "        old_path = f\"{offer_dir}/{file_name}\"\n",
    "        new_path = f\"{out_dir}/{file_name[:-4]} offer.png\"\n",
    "        shutil.copy2(old_path, new_path)"
   ]
  },
  {
   "cell_type": "code",
   "execution_count": 164,
   "id": "586b5784",
   "metadata": {},
   "outputs": [],
   "source": [
    "interivew_dir = RELATIVE_PATH_OUT + \"interview basic\"\n",
    "offer_dir = RELATIVE_PATH_OUT + \"offers basic\"\n",
    "out_dir = RELATIVE_PATH_OUT + \"all basic\"\n",
    "\n",
    "combine_dirs(interivew_dir, offer_dir, out_dir)"
   ]
  },
  {
   "cell_type": "code",
   "execution_count": 165,
   "id": "cb33ca35",
   "metadata": {},
   "outputs": [],
   "source": [
    "interivew_dir = RELATIVE_PATH_OUT + \"interview histograms\"\n",
    "offer_dir = RELATIVE_PATH_OUT + \"offers histograms\"\n",
    "out_dir = RELATIVE_PATH_OUT + \"all histograms\"\n",
    "\n",
    "combine_dirs(interivew_dir, offer_dir, out_dir)"
   ]
  },
  {
   "cell_type": "code",
   "execution_count": null,
   "id": "9895ad59",
   "metadata": {},
   "outputs": [],
   "source": []
  }
 ],
 "metadata": {
  "kernelspec": {
   "display_name": "base",
   "language": "python",
   "name": "python3"
  },
  "language_info": {
   "codemirror_mode": {
    "name": "ipython",
    "version": 3
   },
   "file_extension": ".py",
   "mimetype": "text/x-python",
   "name": "python",
   "nbconvert_exporter": "python",
   "pygments_lexer": "ipython3",
   "version": "3.10.13"
  }
 },
 "nbformat": 4,
 "nbformat_minor": 5
}
