{
 "cells": [
  {
   "cell_type": "code",
   "execution_count": 1,
   "metadata": {},
   "outputs": [],
   "source": [
    "import pandas as pd\n",
    "import numpy as np"
   ]
  },
  {
   "cell_type": "code",
   "execution_count": 2,
   "metadata": {},
   "outputs": [],
   "source": [
    "RELATIVE_IN = \"2. raw\"\n",
    "RELATIVE_OUT = \"3. curated\""
   ]
  },
  {
   "cell_type": "markdown",
   "metadata": {},
   "source": [
    "## Offers"
   ]
  },
  {
   "cell_type": "code",
   "execution_count": 3,
   "metadata": {},
   "outputs": [
    {
     "name": "stdout",
     "output_type": "stream",
     "text": [
      "(952, 31)\n"
     ]
    }
   ],
   "source": [
    "offers_raw = pd.read_csv(f\"{RELATIVE_IN}/offers.csv\", index_col=0)\n",
    "print(offers_raw.shape)\n",
    "#print(offers_raw.dtypes)"
   ]
  },
  {
   "cell_type": "markdown",
   "metadata": {},
   "source": [
    "### Fixing Values"
   ]
  },
  {
   "cell_type": "code",
   "execution_count": 4,
   "metadata": {},
   "outputs": [
    {
     "data": {
      "text/plain": [
       "offer uni\n",
       "The University of Melbourne                        163\n",
       "Deakin University                                  104\n",
       "Griffith University                                 84\n",
       "The University of Western Australia                 61\n",
       "The University of Notre Dame Sydney                 54\n",
       "The University of Notre Dame Fremantle              51\n",
       "Australian National University                      32\n",
       "The University of Queensland (CQ-WB RMP)            30\n",
       "The University of Queensland                        29\n",
       "The University of Wollongong                        27\n",
       "Macquarie University                                27\n",
       "The University of Queensland (Greater Brisbane)     14\n",
       "The University of Queensland (DD MP)                12\n",
       "Name: count, dtype: int64"
      ]
     },
     "execution_count": 4,
     "metadata": {},
     "output_type": "execute_result"
    }
   ],
   "source": [
    "offers_raw[\"offer uni\"].value_counts()"
   ]
  },
  {
   "cell_type": "code",
   "execution_count": 5,
   "metadata": {},
   "outputs": [],
   "source": [
    "UQ_NAME = \"The University of Queensland\"\n",
    "RMP_ENDINGS = [\"(DD MP)\", \"(CQ-WB RMP)\"]\n",
    "METRO_ENDING = \"(Greater Brisbane)\"\n",
    "\n",
    "# fixing the queensland column\n",
    "offers = offers_raw.copy()\n",
    "\n",
    "# get the RMP types\n",
    "offers.loc[offers[\"uq type\"] == \"RMP\", \"offer uni\"] = UQ_NAME + \" (RMP)\"\n",
    "\n",
    "# change the MD and WB to correct types\n",
    "offers.loc[offers[\"offer uni\"].isin([f\"{UQ_NAME} {x}\" for x in RMP_ENDINGS ]), \"offer uni\"] = UQ_NAME + \" (RMP)\"\n",
    "offers.loc[offers[\"interview uni\"].isin([f\"{UQ_NAME} {x}\" for x in RMP_ENDINGS ]), \"interview uni\"] = UQ_NAME + \" (RMP)\"\n",
    "\n",
    "# change greater brisbance\n",
    "metro_mask_offer = (offers[\"offer uni\"] == UQ_NAME) | (offers[\"offer uni\"] == f\"{UQ_NAME} {METRO_ENDING}\")\n",
    "metro_mask_interview = (offers[\"interview uni\"] == UQ_NAME) | (offers[\"interview uni\"] == f\"{UQ_NAME} {METRO_ENDING}\")\n",
    "offers.loc[metro_mask_offer, \"offer uni\"] = f\"{UQ_NAME} (Metro)\"\n",
    "offers.loc[metro_mask_interview, \"interview uni\"] = f\"{UQ_NAME} (Metro)\"\n",
    "\n",
    "# dropping the type\n",
    "offers.drop(columns=\"uq type\", inplace=True)\n",
    "\n",
    "# fixing the interview column\n",
    "offers.loc[(offers[\"year\"] == 2023) & (offers[\"interview uni\"].isna()), \"interviewed?\"] = \"Yes\"\n",
    "offers.loc[(offers[\"year\"] == 2023) & (offers[\"interview uni\"].notna() & (offers[\"offer uni\"].notna())), \"interviewed?\"] = \"No\"\n",
    "\n",
    "# make the notes lowe case\n",
    "offers.loc[:, \"notes\"] = offers[\"notes\"].str.lower()\n",
    "\n",
    "# drop un necessary columns\n",
    "offers.drop(columns=[\"status\", \"timestamp\"], inplace=True)"
   ]
  },
  {
   "cell_type": "code",
   "execution_count": 6,
   "metadata": {},
   "outputs": [
    {
     "data": {
      "text/plain": [
       "offer uni\n",
       "The University of Melbourne               163\n",
       "Deakin University                         104\n",
       "Griffith University                        84\n",
       "The University of Queensland (RMP)         61\n",
       "The University of Western Australia        61\n",
       "The University of Notre Dame Sydney        54\n",
       "The University of Notre Dame Fremantle     51\n",
       "Australian National University             32\n",
       "The University of Wollongong               27\n",
       "Macquarie University                       27\n",
       "The University of Queensland (Metro)       24\n",
       "Name: count, dtype: int64"
      ]
     },
     "execution_count": 6,
     "metadata": {},
     "output_type": "execute_result"
    }
   ],
   "source": [
    "offers[\"offer uni\"].value_counts()"
   ]
  },
  {
   "cell_type": "markdown",
   "metadata": {},
   "source": [
    "### Getting the marker type column"
   ]
  },
  {
   "cell_type": "code",
   "execution_count": 7,
   "metadata": {},
   "outputs": [
    {
     "name": "stdout",
     "output_type": "stream",
     "text": [
      "(264, 28)\n",
      "(264, 28)\n",
      "(264, 28)\n",
      "(0, 28)\n"
     ]
    }
   ],
   "source": [
    "print(offers[(offers[\"offer uni place type\"].isna()) & (offers[\"offer uni\"].isna())].shape)  # offer uni and offer uni type notna\n",
    "print(offers[(offers[\"offer uni\"].isna())].shape)                                            # offer uni notna\n",
    "print(offers[(offers[\"offer uni place type\"].isna())].shape)                                 # offer uni type notna\n",
    "\n",
    "print(offers[(offers[\"offer uni\"].isna()) & (offers[\"places selected\"].isna())].shape)       # offer uni na with places selected also na"
   ]
  },
  {
   "cell_type": "code",
   "execution_count": 8,
   "metadata": {},
   "outputs": [
    {
     "data": {
      "text/plain": [
       "places selected\n",
       "CSP, BMP          327\n",
       "CSP, BMP, FFP     119\n",
       "All                94\n",
       "CSP & BMP Only     88\n",
       "CSP                47\n",
       "CSP Only           29\n",
       "FFP                 5\n",
       "BMP                 5\n",
       "CSP, FFP            5\n",
       "BMP, FFP            1\n",
       "Name: count, dtype: int64"
      ]
     },
     "execution_count": 8,
     "metadata": {},
     "output_type": "execute_result"
    }
   ],
   "source": [
    "offers[\"places selected\"].value_counts()"
   ]
  },
  {
   "cell_type": "code",
   "execution_count": 9,
   "metadata": {},
   "outputs": [
    {
     "data": {
      "text/plain": [
       "places selected\n",
       "[CSP, BMP]         415\n",
       "[CSP, BMP, FFP]    213\n",
       "[CSP]               76\n",
       "[FFP]                5\n",
       "[BMP]                5\n",
       "[CSP, FFP]           5\n",
       "[BMP, FFP]           1\n",
       "Name: count, dtype: int64"
      ]
     },
     "execution_count": 9,
     "metadata": {},
     "output_type": "execute_result"
    }
   ],
   "source": [
    "# fixing the places selected column with dictionary\n",
    "CSP = \"CSP\"\n",
    "BMP = \"BMP\"\n",
    "FFP = \"FFP\"\n",
    "\n",
    "rename_places_selected = {\n",
    "    \"CSP, BMP\": [CSP, BMP],\n",
    "    \"CSP & BMP Only\": [CSP, BMP],\n",
    "\n",
    "    \"CSP, BMP, FFP\": [CSP, BMP, FFP],\n",
    "    \"All\": [CSP, BMP, FFP],\n",
    "\n",
    "    \"CSP\": [CSP],\n",
    "    \"CSP Only\": [CSP],\n",
    "    \"CSP, FFP\": [CSP, FFP],\n",
    "    \n",
    "    \"BMP\": [BMP],\n",
    "    \"BMP, FFP\": [BMP, FFP],\n",
    "\n",
    "    \"FFP\": [FFP],\n",
    "}\n",
    "\n",
    "offers[\"places selected\"] = offers[\"places selected\"].apply(lambda x: rename_places_selected[x] \n",
    "                                                            if (not pd.isna(x)) and (rename_places_selected.get(x)) else x)\n",
    "\n",
    "offers[\"places selected\"].value_counts()"
   ]
  },
  {
   "cell_type": "code",
   "execution_count": 10,
   "metadata": {},
   "outputs": [
    {
     "data": {
      "text/plain": [
       "offer uni place type\n",
       "CSP    491\n",
       "BMP    131\n",
       "FFP     66\n",
       "Name: count, dtype: int64"
      ]
     },
     "execution_count": 10,
     "metadata": {},
     "output_type": "execute_result"
    }
   ],
   "source": [
    "offers['offer uni place type'].value_counts()"
   ]
  },
  {
   "cell_type": "code",
   "execution_count": 11,
   "metadata": {},
   "outputs": [
    {
     "data": {
      "text/plain": [
       "0"
      ]
     },
     "execution_count": 11,
     "metadata": {},
     "output_type": "execute_result"
    }
   ],
   "source": [
    "# checks how many times someone gets rejected and the places they selected aren't recorded\n",
    "offers[offers[\"places selected\"].isna()][\"interview uni\"].notna().sum()"
   ]
  },
  {
   "cell_type": "code",
   "execution_count": 12,
   "metadata": {},
   "outputs": [
    {
     "data": {
      "text/plain": [
       "0"
      ]
     },
     "execution_count": 12,
     "metadata": {},
     "output_type": "execute_result"
    }
   ],
   "source": [
    "offers[\"marker\"] = offers[\"offer uni place type\"]\n",
    "offers.loc[offers[\"marker\"].isna(), \"marker\"] = offers[\"places selected\"]\n",
    "#offers.loc[offers[\"marker\"].isna(), \"marker\"] = \"Unknown\"\n",
    "offers[\"marker\"].isna().sum()\n",
    "\n",
    "#offers[\"marker\"].value_counts()"
   ]
  },
  {
   "cell_type": "markdown",
   "metadata": {},
   "source": [
    "### Get Numeric"
   ]
  },
  {
   "cell_type": "code",
   "execution_count": 13,
   "metadata": {},
   "outputs": [
    {
     "data": {
      "text/html": [
       "<div>\n",
       "<style scoped>\n",
       "    .dataframe tbody tr th:only-of-type {\n",
       "        vertical-align: middle;\n",
       "    }\n",
       "\n",
       "    .dataframe tbody tr th {\n",
       "        vertical-align: top;\n",
       "    }\n",
       "\n",
       "    .dataframe thead th {\n",
       "        text-align: right;\n",
       "    }\n",
       "</style>\n",
       "<table border=\"1\" class=\"dataframe\">\n",
       "  <thead>\n",
       "    <tr style=\"text-align: right;\">\n",
       "      <th></th>\n",
       "      <th>interview opinion</th>\n",
       "      <th>interview opinion discrete</th>\n",
       "    </tr>\n",
       "  </thead>\n",
       "  <tbody>\n",
       "    <tr>\n",
       "      <th>947</th>\n",
       "      <td>Well</td>\n",
       "      <td>4</td>\n",
       "    </tr>\n",
       "    <tr>\n",
       "      <th>948</th>\n",
       "      <td>Poorly</td>\n",
       "      <td>2</td>\n",
       "    </tr>\n",
       "    <tr>\n",
       "      <th>949</th>\n",
       "      <td>Very poorly</td>\n",
       "      <td>1</td>\n",
       "    </tr>\n",
       "    <tr>\n",
       "      <th>950</th>\n",
       "      <td>Well</td>\n",
       "      <td>4</td>\n",
       "    </tr>\n",
       "    <tr>\n",
       "      <th>951</th>\n",
       "      <td>Very well</td>\n",
       "      <td>5</td>\n",
       "    </tr>\n",
       "  </tbody>\n",
       "</table>\n",
       "</div>"
      ],
      "text/plain": [
       "    interview opinion  interview opinion discrete\n",
       "947              Well                           4\n",
       "948            Poorly                           2\n",
       "949       Very poorly                           1\n",
       "950              Well                           4\n",
       "951         Very well                           5"
      ]
     },
     "execution_count": 13,
     "metadata": {},
     "output_type": "execute_result"
    }
   ],
   "source": [
    "# get discrete interview opinion\n",
    "\n",
    "DISCRETIZE_INTERIVEW = {\"Very poorly\": 1, \"Poorly\": 2, \"Unsure\": 3, \"Well\": 4, \"Very well\": 5}\n",
    "\n",
    "offers[\"interview opinion discrete\"] = offers[\"interview opinion\"].apply(lambda x: DISCRETIZE_INTERIVEW[x])\n",
    "\n",
    "offers[[\"interview opinion\", \"interview opinion discrete\"]].tail(5)"
   ]
  },
  {
   "cell_type": "code",
   "execution_count": 14,
   "metadata": {},
   "outputs": [
    {
     "data": {
      "text/html": [
       "<div>\n",
       "<style scoped>\n",
       "    .dataframe tbody tr th:only-of-type {\n",
       "        vertical-align: middle;\n",
       "    }\n",
       "\n",
       "    .dataframe tbody tr th {\n",
       "        vertical-align: top;\n",
       "    }\n",
       "\n",
       "    .dataframe thead th {\n",
       "        text-align: right;\n",
       "    }\n",
       "</style>\n",
       "<table border=\"1\" class=\"dataframe\">\n",
       "  <thead>\n",
       "    <tr style=\"text-align: right;\">\n",
       "      <th></th>\n",
       "      <th>interview prep hours</th>\n",
       "      <th>interview prep hours discrete</th>\n",
       "    </tr>\n",
       "  </thead>\n",
       "  <tbody>\n",
       "    <tr>\n",
       "      <th>947</th>\n",
       "      <td>26-50</td>\n",
       "      <td>3.0</td>\n",
       "    </tr>\n",
       "    <tr>\n",
       "      <th>948</th>\n",
       "      <td>51-100</td>\n",
       "      <td>4.0</td>\n",
       "    </tr>\n",
       "    <tr>\n",
       "      <th>949</th>\n",
       "      <td>26-50</td>\n",
       "      <td>3.0</td>\n",
       "    </tr>\n",
       "    <tr>\n",
       "      <th>950</th>\n",
       "      <td>101-250</td>\n",
       "      <td>5.0</td>\n",
       "    </tr>\n",
       "    <tr>\n",
       "      <th>951</th>\n",
       "      <td>26-50</td>\n",
       "      <td>3.0</td>\n",
       "    </tr>\n",
       "  </tbody>\n",
       "</table>\n",
       "</div>"
      ],
      "text/plain": [
       "    interview prep hours  interview prep hours discrete\n",
       "947                26-50                            3.0\n",
       "948               51-100                            4.0\n",
       "949                26-50                            3.0\n",
       "950              101-250                            5.0\n",
       "951                26-50                            3.0"
      ]
     },
     "execution_count": 14,
     "metadata": {},
     "output_type": "execute_result"
    }
   ],
   "source": [
    "# get discrete interview hours\n",
    "\n",
    "def get_first_digit(x):\n",
    "    if (pd.isna(x)):\n",
    "        return x\n",
    "    elif (\"-\" in x):\n",
    "        return float(x.split(\"-\")[0])\n",
    "    else:\n",
    "        return float(x.split(\"+\")[0])\n",
    "\n",
    "def apply_rank(series):\n",
    "    # get the not na series values\n",
    "    series_values = sorted([x for x in series.unique() if not pd.isna(x)])\n",
    "\n",
    "    # get the dictionary for the rankings\n",
    "    rank_dict = {value: index for index, value in enumerate(series_values)}\n",
    "\n",
    "    # apply the rank dict\n",
    "    series = series.apply(lambda x: rank_dict.get(x))\n",
    "\n",
    "    return series\n",
    "\n",
    "# get the first digit of each prep hour\n",
    "offers[\"interview prep hours discrete\"] = offers[\"interview prep hours\"].apply(get_first_digit)\n",
    "\n",
    "# get the rankings for each hour\n",
    "offers.loc[:, \"interview prep hours discrete\"] = apply_rank(offers[\"interview prep hours discrete\"])\n",
    "\n",
    "offers[[\"interview prep hours\", \"interview prep hours discrete\"]].tail(5)"
   ]
  },
  {
   "cell_type": "code",
   "execution_count": 15,
   "metadata": {},
   "outputs": [
    {
     "data": {
      "text/plain": [
       "'places selected'"
      ]
     },
     "execution_count": 15,
     "metadata": {},
     "output_type": "execute_result"
    }
   ],
   "source": [
    "'offer uni place type'\n",
    "'places selected'"
   ]
  },
  {
   "cell_type": "code",
   "execution_count": 16,
   "metadata": {},
   "outputs": [
    {
     "data": {
      "text/plain": [
       "Index(['rurality', 's1 score', 's2 score', 's3 score', 'uw gamsat', 'w gamsat',\n",
       "       'offer uni', 'offer uni gpa', 'offer uni gamsat',\n",
       "       'offer uni place type', 'offer uni preference', 'interviewed?',\n",
       "       'interview uni', 'interview uni gpa', 'interview uni gamsat',\n",
       "       'places selected', 'interview uni preference', 'deakin bonus',\n",
       "       'anu bonus', 'mq bonus (gpa)', 'casper quartile', 'uq rmp tier',\n",
       "       'gemsas over other?', 'interview opinion', 'notes', 'year',\n",
       "       'interview prep hours', 'other rejections', 'marker',\n",
       "       'interview opinion discrete', 'interview prep hours discrete'],\n",
       "      dtype='object')"
      ]
     },
     "execution_count": 16,
     "metadata": {},
     "output_type": "execute_result"
    }
   ],
   "source": [
    "offers.columns"
   ]
  },
  {
   "cell_type": "markdown",
   "metadata": {},
   "source": [
    "### Save CSV"
   ]
  },
  {
   "cell_type": "code",
   "execution_count": 17,
   "metadata": {},
   "outputs": [],
   "source": [
    "offers.to_csv(f\"{RELATIVE_OUT}/offer.csv\")"
   ]
  },
  {
   "cell_type": "markdown",
   "metadata": {},
   "source": [
    "### Messing around"
   ]
  },
  {
   "cell_type": "code",
   "execution_count": 165,
   "metadata": {},
   "outputs": [
    {
     "data": {
      "text/plain": [
       "67"
      ]
     },
     "execution_count": 165,
     "metadata": {},
     "output_type": "execute_result"
    }
   ],
   "source": [
    "(offers[\"interview uni\"] == UQ_NAME).sum()"
   ]
  },
  {
   "cell_type": "code",
   "execution_count": 159,
   "metadata": {},
   "outputs": [],
   "source": [
    "def uq_mask(series):\n",
    "    return series.apply(lambda x: UQ_NAME in x if not pd.isna(x) else False)"
   ]
  },
  {
   "cell_type": "code",
   "execution_count": 160,
   "metadata": {},
   "outputs": [
    {
     "data": {
      "text/plain": [
       "rurality                    952\n",
       "s1 score                    952\n",
       "s2 score                    952\n",
       "s3 score                    952\n",
       "uw gamsat                   952\n",
       "w gamsat                    952\n",
       "offer uni                   688\n",
       "offer uni gpa               688\n",
       "offer uni gamsat            688\n",
       "offer uni place type        688\n",
       "offer uni preference        688\n",
       "interviewed?                688\n",
       "interview uni               385\n",
       "interview uni gpa           385\n",
       "interview uni gamsat        385\n",
       "places selected             720\n",
       "interview uni preference    385\n",
       "deakin bonus                952\n",
       "anu bonus                   952\n",
       "mq bonus (gpa)              952\n",
       "casper quartile             417\n",
       "uq rmp tier                 161\n",
       "gemsas over other?          688\n",
       "interview opinion           952\n",
       "notes                       567\n",
       "year                        952\n",
       "interview prep hours        509\n",
       "other rejections            142\n",
       "dtype: int64"
      ]
     },
     "execution_count": 160,
     "metadata": {},
     "output_type": "execute_result"
    }
   ],
   "source": [
    "offers.apply(lambda x: x.count())"
   ]
  },
  {
   "cell_type": "markdown",
   "metadata": {},
   "source": [
    "## Interviews"
   ]
  },
  {
   "cell_type": "code",
   "execution_count": 21,
   "metadata": {},
   "outputs": [
    {
     "name": "stdout",
     "output_type": "stream",
     "text": [
      "(1533, 44)\n",
      "timestamp                object\n",
      "rurality                 object\n",
      "s1 score                  int64\n",
      "s2 score                  int64\n",
      "s3 score                  int64\n",
      "uw gamsat               float64\n",
      "w gamsat                float64\n",
      "deakin bonus              int64\n",
      "anu bonus                 int64\n",
      "mq bonus                  int64\n",
      "notes                    object\n",
      "interview?               object\n",
      "interview uni            object\n",
      "interview uni gpa       float64\n",
      "interview uni gamsat    float64\n",
      "pref 1 uni               object\n",
      "pref 1 gpa              float64\n",
      "pref 1 gamsat           float64\n",
      "pref 2 uni               object\n",
      "pref 2 gpa              float64\n",
      "pref 2 gamsat           float64\n",
      "pref 3 uni               object\n",
      "pref 3 gpa              float64\n",
      "pref 3 gamsat           float64\n",
      "pref 4 uni               object\n",
      "pref 4 gpa              float64\n",
      "pref 4 gamsat           float64\n",
      "pref 5 uni               object\n",
      "pref 5 gpa              float64\n",
      "pref 5 gamsat           float64\n",
      "pref 6 uni               object\n",
      "pref 6 gpa              float64\n",
      "pref 6 gamsat            object\n",
      "duplicates?              object\n",
      "year                      int64\n",
      "uq tier                  object\n",
      "casper quartile          object\n",
      "outlier                  object\n",
      "deakin tier              object\n",
      "unimelb gam              object\n",
      "undf bonuses             object\n",
      "unds bonuses             object\n",
      "location                 object\n",
      "uow bonuses             float64\n",
      "dtype: object\n"
     ]
    }
   ],
   "source": [
    "interview_raw = pd.read_csv(f\"{RELATIVE_IN}/interview.csv\", index_col=0)\n",
    "print(interview_raw.shape)\n",
    "print(interview_raw.dtypes)"
   ]
  },
  {
   "cell_type": "markdown",
   "metadata": {},
   "source": [
    "### Changing UQ"
   ]
  },
  {
   "cell_type": "code",
   "execution_count": 19,
   "metadata": {},
   "outputs": [
    {
     "data": {
      "text/plain": [
       "Index(['timestamp', 'rurality', 's1 score', 's2 score', 's3 score',\n",
       "       'uw gamsat', 'w gamsat', 'deakin bonus', 'anu bonus', 'mq bonus',\n",
       "       'notes', 'interview?', 'interview uni', 'interview uni gpa',\n",
       "       'interview uni gamsat', 'pref 1 uni', 'pref 1 gpa', 'pref 1 gamsat',\n",
       "       'pref 2 uni', 'pref 2 gpa', 'pref 2 gamsat', 'pref 3 uni', 'pref 3 gpa',\n",
       "       'pref 3 gamsat', 'pref 4 uni', 'pref 4 gpa', 'pref 4 gamsat',\n",
       "       'pref 5 uni', 'pref 5 gpa', 'pref 5 gamsat', 'pref 6 uni', 'pref 6 gpa',\n",
       "       'pref 6 gamsat', 'duplicates?', 'year', 'uq tier', 'casper quartile',\n",
       "       'outlier', 'deakin tier', 'unimelb gam', 'undf bonuses', 'unds bonuses',\n",
       "       'location', 'uow bonuses'],\n",
       "      dtype='object')"
      ]
     },
     "execution_count": 19,
     "metadata": {},
     "output_type": "execute_result"
    }
   ],
   "source": [
    "interview_raw.columns"
   ]
  },
  {
   "cell_type": "code",
   "execution_count": 23,
   "metadata": {},
   "outputs": [],
   "source": [
    "UNI_COLUMNS = [\"interview uni\"] + [f\"pref {i+1} uni\" for i in range(6)]\n",
    "UQ_NAME = \"The University of Queensland\"\n",
    "RMP_ENDINGS = [\"(DD MP)\", \"(CQ-WB RMP)\", \"(RMP/DDMP)\"]\n",
    "METRO_ENDING = \"(Greater Brisbane)\"\n",
    "\n",
    "# fixing the queensland column\n",
    "interview = interview_raw.copy()\n",
    "\n",
    "# change the MD and WB to correct types\n",
    "for uni_column in UNI_COLUMNS:\n",
    "    interview.loc[interview[uni_column].isin([f\"{UQ_NAME} {x}\" for x in RMP_ENDINGS ]), uni_column] = f\"{UQ_NAME} (RMP)\"\n",
    "    interview.loc[interview[uni_column] == f\"{UQ_NAME} {METRO_ENDING}\", uni_column] = f\"{UQ_NAME} (Metro)\"\n",
    "\n",
    "# make the notes lowe case\n",
    "interview.loc[:, \"notes\"] = interview[\"notes\"].str.lower()"
   ]
  },
  {
   "cell_type": "code",
   "execution_count": 25,
   "metadata": {},
   "outputs": [
    {
     "data": {
      "text/plain": [
       "interview uni\n",
       "The University of Melbourne               300\n",
       "The University of Notre Dame Sydney       198\n",
       "Deakin University                         126\n",
       "Griffith University                       110\n",
       "The University of Western Australia       108\n",
       "The University of Notre Dame Fremantle    101\n",
       "The University of Wollongong               93\n",
       "The University of Queensland (RMP)         83\n",
       "The University of Queensland               74\n",
       "Australian National University             62\n",
       "The University of Queensland (Metro)       60\n",
       "Macquarie University                       52\n",
       "Name: count, dtype: int64"
      ]
     },
     "execution_count": 25,
     "metadata": {},
     "output_type": "execute_result"
    }
   ],
   "source": [
    "#interview.groupby(\"interview uni\")[\"year\"].value_counts()\n",
    "interview[\"interview uni\"].value_counts()"
   ]
  },
  {
   "cell_type": "code",
   "execution_count": 27,
   "metadata": {},
   "outputs": [],
   "source": [
    "interview.to_csv(f\"{RELATIVE_OUT}/interview.csv\")"
   ]
  },
  {
   "cell_type": "code",
   "execution_count": null,
   "metadata": {},
   "outputs": [],
   "source": []
  }
 ],
 "metadata": {
  "kernelspec": {
   "display_name": "base",
   "language": "python",
   "name": "python3"
  },
  "language_info": {
   "codemirror_mode": {
    "name": "ipython",
    "version": 3
   },
   "file_extension": ".py",
   "mimetype": "text/x-python",
   "name": "python",
   "nbconvert_exporter": "python",
   "pygments_lexer": "ipython3",
   "version": "3.12.3"
  }
 },
 "nbformat": 4,
 "nbformat_minor": 2
}
